{
 "cells": [
  {
   "cell_type": "markdown",
   "metadata": {
    "toc": "true"
   },
   "source": [
    "# Table of Contents\n",
    " <p><div class=\"lev1 toc-item\"><a href=\"#Components-of-Learning\" data-toc-modified-id=\"Components-of-Learning-1\"><span class=\"toc-item-num\">1&nbsp;&nbsp;</span>Components of Learning</a></div><div class=\"lev1 toc-item\"><a href=\"#Linear-Regression-problem\" data-toc-modified-id=\"Linear-Regression-problem-2\"><span class=\"toc-item-num\">2&nbsp;&nbsp;</span>Linear Regression problem</a></div><div class=\"lev1 toc-item\"><a href=\"#Gradient-Descent\" data-toc-modified-id=\"Gradient-Descent-3\"><span class=\"toc-item-num\">3&nbsp;&nbsp;</span>Gradient Descent</a></div><div class=\"lev2 toc-item\"><a href=\"#Stochastic-gradient-descent-(SGD)\" data-toc-modified-id=\"Stochastic-gradient-descent-(SGD)-31\"><span class=\"toc-item-num\">3.1&nbsp;&nbsp;</span>Stochastic gradient descent (SGD)</a></div><div class=\"lev1 toc-item\"><a href=\"#Visualizing-gradient-descent\" data-toc-modified-id=\"Visualizing-gradient-descent-4\"><span class=\"toc-item-num\">4&nbsp;&nbsp;</span>Visualizing gradient descent</a></div>"
   ]
  },
  {
   "cell_type": "code",
   "execution_count": 13,
   "metadata": {
    "collapsed": true
   },
   "outputs": [],
   "source": [
    "%matplotlib inline\n",
    "import math,sys,os,numpy as np\n",
    "import torch\n",
    "from matplotlib import pyplot as plt, rcParams, animation, rc\n",
    "from __future__ import print_function, division\n",
    "from ipywidgets import interact, interactive, fixed\n",
    "from ipywidgets.widgets import *\n",
    "rc('animation', html='html5')\n",
    "rcParams['figure.figsize'] = 3, 3\n",
    "%precision 4\n",
    "np.set_printoptions(precision=4, linewidth=100)"
   ]
  },
  {
   "cell_type": "markdown",
   "metadata": {},
   "source": [
    "# Components of Learning"
   ]
  },
  {
   "cell_type": "markdown",
   "metadata": {},
   "source": [
    "Pedro Domingos in a famous [paper](https://homes.cs.washington.edu/~pedrod/papers/cacm12.pdf) decomposes a learning problem in three components:\n",
    "\n",
    "* **Representation**: The space of allowed models.\n",
    "    * Example: (1) logistic regression, (2) 3-layer feedforward neural network\n",
    "* **Evaluation**: How do you judge or prefer one model versus another. (loss function, utility function)\n",
    "* **Optimization**: How do you search the space of models to obtain better evaluation."
   ]
  },
  {
   "cell_type": "markdown",
   "metadata": {},
   "source": [
    "In this part of the lecture we explain Stochastic Gradient Descent (SGD) which is an **optimization** method commonly used in neural networks. We will illustrate the concepts with concrete examples."
   ]
  },
  {
   "cell_type": "markdown",
   "metadata": {},
   "source": [
    "#  Linear Regression problem"
   ]
  },
  {
   "cell_type": "markdown",
   "metadata": {},
   "source": [
    "The goal of linear regression is to fit a line to a set of points."
   ]
  },
  {
   "cell_type": "code",
   "execution_count": 16,
   "metadata": {
    "collapsed": true
   },
   "outputs": [],
   "source": [
    "# Here we generate some fake data\n",
    "def lin(a,b,x): return a*x+b\n",
    "\n",
    "def gen_fake_data(n, a, b):\n",
    "    x = s = np.random.uniform(0,1,n) \n",
    "    y = lin(a,b,x) + 0.1 * np.random.normal(0,3,n)\n",
    "    return x, y\n",
    "\n",
    "x, y = gen_fake_data(50, 3., 8.)"
   ]
  },
  {
   "cell_type": "code",
   "execution_count": 17,
   "metadata": {},
   "outputs": [
    {
     "data": {
      "image/png": "[encoded data removed]",
      "text/plain": [
       "<matplotlib.figure.Figure at 0x7f5e987ef208>"
      ]
     },
     "metadata": {},
     "output_type": "display_data"
    }
   ],
   "source": [
    "plt.scatter(x,y, s=8); plt.xlabel(\"x\"); plt.ylabel(\"y\"); "
   ]
  },
  {
   "cell_type": "markdown",
   "metadata": {},
   "source": [
    "You want to find **parameters** (weights) $a$ and $b$ such that you minimize the *error* between the points and the line $a\\cdot x + b$. Note that here $a$ and $b$ are unknown. For a regression problem the most common *error function* or *loss function* is the **mean squared error**. "
   ]
  },
  {
   "cell_type": "code",
   "execution_count": 22,
   "metadata": {
    "collapsed": true
   },
   "outputs": [],
   "source": [
    "def mean_square_error(y_hat, y):\n",
    "    return np.power(y_hat - y, 2).mean()"
   ]
  },
  {
   "cell_type": "markdown",
   "metadata": {},
   "source": [
    "Suppose we believe $a = 10$ and $b = 5$ then we can compute `y_hat` which is our *prediction* and then compute our error."
   ]
  },
  {
   "cell_type": "code",
   "execution_count": 19,
   "metadata": {},
   "outputs": [
    {
     "data": {
      "text/plain": [
       "5.0467"
      ]
     },
     "execution_count": 19,
     "metadata": {},
     "output_type": "execute_result"
    }
   ],
   "source": [
    "y_hat =  lin(10,5,x)\n",
    "\n",
    "mean_square_error(y_hat, y)"
   ]
  },
  {
   "cell_type": "code",
   "execution_count": 20,
   "metadata": {
    "collapsed": true
   },
   "outputs": [],
   "source": [
    "def mean_square_error_loss(a, b, x, y):\n",
    "    y_hat =  lin(a,b,x)\n",
    "    return np.power(y_hat - y, 2).mean()"
   ]
  },
  {
   "cell_type": "code",
   "execution_count": 21,
   "metadata": {},
   "outputs": [
    {
     "data": {
      "text/plain": [
       "5.0467"
      ]
     },
     "execution_count": 21,
     "metadata": {},
     "output_type": "execute_result"
    }
   ],
   "source": [
    "mean_square_error_loss(10, 5, x, y)"
   ]
  },
  {
   "cell_type": "markdown",
   "metadata": {},
   "source": [
    "So far we have specified the *model representation* (linear regression) and the *evaluation criteria* (mean square error). We have not yet talk about the *optimization* part. That is, how do we find the best values for $a$ and $b$? How do we find the best *fitting* linear regression."
   ]
  },
  {
   "cell_type": "markdown",
   "metadata": {},
   "source": [
    "# Gradient Descent"
   ]
  },
  {
   "cell_type": "markdown",
   "metadata": {},
   "source": [
    "For a fixed dataset $x$ and $y$ `mean_square_error_loss(a,b)` is a function of $a$ and $b$. We would like to find the values of $a$ and $b$ that minimize that function."
   ]
  },
  {
   "cell_type": "markdown",
   "metadata": {},
   "source": [
    "**Gradient descent** is an algorithm that minimizes functions. Given a function defined by a set of parameters, gradient descent starts with an initial set of parameter values and iteratively moves toward a set of parameter values that minimize the function. This iterative minimization is achieved by taking steps in the negative direction of the function gradient."
   ]
  },
  {
   "cell_type": "markdown",
   "metadata": {},
   "source": [
    "Here is gradient descent implemented in [PyTorch](http://pytorch.org/)."
   ]
  },
  {
   "cell_type": "code",
   "execution_count": 9,
   "metadata": {
    "collapsed": true
   },
   "outputs": [],
   "source": [
    "# generate some more data\n",
    "x, y = gen_fake_data(10000, 3., 8.)"
   ]
  },
  {
   "cell_type": "code",
   "execution_count": 10,
   "metadata": {},
   "outputs": [
    {
     "name": "stdout",
     "output_type": "stream",
     "text": [
      "(10000,) (10000,)\n"
     ]
    }
   ],
   "source": [
    "print(x.shape, y.shape)"
   ]
  },
  {
   "cell_type": "code",
   "execution_count": 11,
   "metadata": {
    "collapsed": true
   },
   "outputs": [],
   "source": [
    "dtype = torch.cuda.FloatTensor"
   ]
  },
  {
   "cell_type": "code",
   "execution_count": 12,
   "metadata": {
    "collapsed": true
   },
   "outputs": [],
   "source": [
    "# from numpy to pytorch\n",
    "x = torch.from_numpy(x)\n",
    "y = torch.from_numpy(y)"
   ]
  },
  {
   "cell_type": "code",
   "execution_count": 53,
   "metadata": {
    "collapsed": true
   },
   "outputs": [],
   "source": [
    "from torch.autograd import Variable\n",
    "# Create random Tensors to hold x and y, and wrap them in Variables.\n",
    "# Setting requires_grad=False indicates that we do not need to compute gradients\n",
    "# with respect to these Variables.\n",
    "x = Variable(x.type(dtype), requires_grad=False)\n",
    "y = Variable(y.type(dtype), requires_grad=False)"
   ]
  },
  {
   "cell_type": "code",
   "execution_count": 54,
   "metadata": {
    "collapsed": true
   },
   "outputs": [],
   "source": [
    "# Create random Tensors for weights a and b, and wrap them in Variables.\n",
    "# Setting requires_grad=True indicates that we want to compute gradients with\n",
    "# respect to these Variables.\n",
    "a = Variable(torch.randn(1).type(dtype), requires_grad=True)\n",
    "b = Variable(torch.randn(1).type(dtype), requires_grad=True)\n",
    "\n",
    "a.grad = Variable(dtype(a.size()).zero_())\n",
    "b.grad = Variable(dtype(b.size()).zero_())"
   ]
  },
  {
   "cell_type": "code",
   "execution_count": 55,
   "metadata": {},
   "outputs": [
    {
     "data": {
      "text/plain": [
       "(Variable containing:\n",
       " 1.00000e-02 *\n",
       "  -1.4499\n",
       " [torch.cuda.FloatTensor of size 1 (GPU 0)], Variable containing:\n",
       " -0.4470\n",
       " [torch.cuda.FloatTensor of size 1 (GPU 0)])"
      ]
     },
     "execution_count": 55,
     "metadata": {},
     "output_type": "execute_result"
    }
   ],
   "source": [
    "a, b"
   ]
  },
  {
   "cell_type": "code",
   "execution_count": 58,
   "metadata": {},
   "outputs": [
    {
     "name": "stdout",
     "output_type": "stream",
     "text": [
      "\n",
      "1.00000e-02 *\n",
      "  9.6355\n",
      "[torch.cuda.FloatTensor of size 1 (GPU 0)]\n",
      "\n",
      "\n",
      "1.00000e-02 *\n",
      "  9.4419\n",
      "[torch.cuda.FloatTensor of size 1 (GPU 0)]\n",
      "\n",
      "\n",
      "1.00000e-02 *\n",
      "  9.2928\n",
      "[torch.cuda.FloatTensor of size 1 (GPU 0)]\n",
      "\n",
      "\n",
      "1.00000e-02 *\n",
      "  9.1782\n",
      "[torch.cuda.FloatTensor of size 1 (GPU 0)]\n",
      "\n",
      "\n",
      "1.00000e-02 *\n",
      "  9.0899\n",
      "[torch.cuda.FloatTensor of size 1 (GPU 0)]\n",
      "\n",
      "\n",
      "1.00000e-02 *\n",
      "  9.0219\n",
      "[torch.cuda.FloatTensor of size 1 (GPU 0)]\n",
      "\n",
      "\n",
      "1.00000e-02 *\n",
      "  8.9696\n",
      "[torch.cuda.FloatTensor of size 1 (GPU 0)]\n",
      "\n",
      "\n",
      "1.00000e-02 *\n",
      "  8.9294\n",
      "[torch.cuda.FloatTensor of size 1 (GPU 0)]\n",
      "\n",
      "\n",
      "1.00000e-02 *\n",
      "  8.8984\n",
      "[torch.cuda.FloatTensor of size 1 (GPU 0)]\n",
      "\n",
      "\n",
      "1.00000e-02 *\n",
      "  8.8746\n",
      "[torch.cuda.FloatTensor of size 1 (GPU 0)]\n",
      "\n"
     ]
    }
   ],
   "source": [
    "learning_rate = 1e-3\n",
    "for t in range(10000):\n",
    "    # Forward pass: compute predicted y using operations on Variables\n",
    "    y_pred = x * a + b\n",
    "    loss = (y_pred - y).pow(2).mean()\n",
    "    if t % 1000 == 0: print(loss.data)\n",
    "    \n",
    "    # Manually zero the gradients\n",
    "    a.grad.data.zero_()\n",
    "    b.grad.data.zero_()    \n",
    "    \n",
    "    # Computes the gradient of loss with respect to all Variables with requires_grad=True.\n",
    "    # After this call a.grad and b.grad will be Variables holding the gradient\n",
    "    # of the loss with respect to a and b respectively.\n",
    "    loss.backward()\n",
    "    \n",
    "    # Update a and b using gradient descent; a.data and b.data are Tensors,\n",
    "    # a.grad and b.grad are Variables and a.grad.data and b.grad.data are\n",
    "    # Tensors.\n",
    "    a.data -= learning_rate * a.grad.data\n",
    "    b.data -= learning_rate * b.grad.data"
   ]
  },
  {
   "cell_type": "code",
   "execution_count": 59,
   "metadata": {},
   "outputs": [
    {
     "name": "stdout",
     "output_type": "stream",
     "text": [
      "Variable containing:\n",
      " 3.0833\n",
      "[torch.cuda.FloatTensor of size 1 (GPU 0)]\n",
      " Variable containing:\n",
      " 7.9590\n",
      "[torch.cuda.FloatTensor of size 1 (GPU 0)]\n",
      "\n"
     ]
    }
   ],
   "source": [
    "print(a, b)"
   ]
  },
  {
   "cell_type": "markdown",
   "metadata": {},
   "source": [
    "## Stochastic gradient descent (SGD)"
   ]
  },
  {
   "cell_type": "markdown",
   "metadata": {},
   "source": [
    "Nearly all of deep learning is powered by one very important algorithm: **stochastic gradient descent(SGD)**. SGD can be seeing as an approximation of **gradient descent** (GD). In GD you have to run through *all* the samples in your training set to do a single itaration. In SGD you use *only one* or *a subset*  of training samples to do the update for a parameter in a particular iteration. The subset use in every iteration is called a **batch** or **minibatch**."
   ]
  },
  {
   "cell_type": "markdown",
   "metadata": {},
   "source": [
    "# Visualizing gradient descent"
   ]
  },
  {
   "cell_type": "code",
   "execution_count": 63,
   "metadata": {
    "collapsed": true
   },
   "outputs": [],
   "source": [
    "x, y = gen_fake_data(50, 3., 8.)"
   ]
  },
  {
   "cell_type": "code",
   "execution_count": 65,
   "metadata": {
    "collapsed": true
   },
   "outputs": [],
   "source": [
    "def sse(y,y_pred): return ((y-y_pred)**2).sum()\n",
    "def loss(y,a,b,x): return sse(y, lin(a,b,x))\n",
    "def avg_loss(y,a,b,x): return np.sqrt(loss(y,a,b,x)/y.shape[0])"
   ]
  },
  {
   "cell_type": "code",
   "execution_count": 66,
   "metadata": {},
   "outputs": [
    {
     "data": {
      "text/plain": [
       "9.1483"
      ]
     },
     "execution_count": 66,
     "metadata": {},
     "output_type": "execute_result"
    }
   ],
   "source": [
    "a_guess=-1.\n",
    "b_guess=1.\n",
    "avg_loss(y, a_guess, b_guess, x)"
   ]
  },
  {
   "cell_type": "code",
   "execution_count": 70,
   "metadata": {
    "collapsed": true
   },
   "outputs": [],
   "source": [
    "lr=0.01\n",
    "def upd():\n",
    "    global a_guess, b_guess\n",
    "    y_pred = lin(a_guess, b_guess, x)\n",
    "    dydb = 2 * (y_pred - y)\n",
    "    dyda = x*dydb\n",
    "    a_guess -= lr*dyda.mean()\n",
    "    b_guess -= lr*dydb.mean()"
   ]
  },
  {
   "cell_type": "code",
   "execution_count": 71,
   "metadata": {},
   "outputs": [
    {
     "data": {
      "text/html": [
       "<video width=\"500\" height=\"400\" controls autoplay loop>\n",
       "  <source type=\"video/mp4\" src=\"data:video/mp4;base64,AAAAHGZ0eXBNNFYgAAACAGlzb21pc28yYXZjMQAAAAhmcmVlAABO/W1kYXQAAAKuBgX//6rcRem9\n",
       "5tlIt5Ys2CDZI+7veDI2NCAtIGNvcmUgMTQ4IHIyNjQzIDVjNjU3MDQgLSBILjI2NC9NUEVHLTQg\n",
       "QVZDIGNvZGVjIC0gQ29weWxlZnQgMjAwMy0yMDE1IC0gaHR0cDovL3d3dy52aWRlb2xhbi5vcmcv\n",
       "eDI2NC5odG1sIC0gb3B0aW9uczogY2FiYWM9MSByZWY9MyBkZWJsb2NrPTE6MDowIGFuYWx5c2U9\n",
       "MHgzOjB4MTEzIG1lPWhleCBzdWJtZT03IHBzeT0xIHBzeV9yZD0xLjAwOjAuMDAgbWl4ZWRfcmVm\n",
       "PTEgbWVfcmFuZ2U9MTYgY2hyb21hX21lPTEgdHJlbGxpcz0xIDh4OGRjdD0xIGNxbT0wIGRlYWR6\n",
       "b25lPTIxLDExIGZhc3RfcHNraXA9MSBjaHJvbWFfcXBfb2Zmc2V0PS0yIHRocmVhZHM9NiBsb29r\n",
       "YWhlYWRfdGhyZWFkcz0xIHNsaWNlZF90aHJlYWRzPTAgbnI9MCBkZWNpbWF0ZT0xIGludGVybGFj\n",
       "ZWQ9MCBibHVyYXlfY29tcGF0PTAgY29uc3RyYWluZWRfaW50cmE9MCBiZnJhbWVzPTMgYl9weXJh\n",
       "bWlkPTIgYl9hZGFwdD0xIGJfYmlhcz0wIGRpcmVjdD0xIHdlaWdodGI9MSBvcGVuX2dvcD0wIHdl\n",
       "aWdodHA9MiBrZXlpbnQ9MjUwIGtleWludF9taW49MTAgc2NlbmVjdXQ9NDAgaW50cmFfcmVmcmVz\n",
       "aD0wIHJjX2xvb2thaGVhZD00MCByYz1jcmYgbWJ0cmVlPTEgY3JmPTIzLjAgcWNvbXA9MC42MCBx\n",
       "cG1pbj0wIHFwbWF4PTY5IHFwc3RlcD00IGlwX3JhdGlvPTEuNDAgYXE9MToxLjAwAIAAABv1ZYiE\n",
       "ABD//veBvzLLXyK6yXH5530srM885DxyXYmuuNAAAAMAAAMCdMWy7nddDaYdgAACrC//BZK5INxF\n",
       "AAHy95n4nGrdCARSfimW3VxlUIzOPs8H+eiu2I9onv8PVohu/6e8q/lf8HNF+yB4lSsc78BqufjC\n",
       "ko2R9QNMhZBrWPphgAIsfV8Wl+nmQ+bBlYTs7grd4nyp/9u8yIPs0cWtDDfcK6gQ9LX7qviWQch1\n",
       "u1I8RXNqM0o+M2kqdBlPrBKgkZVb8erDq+K7KCutXkA+x8s7VfTi6F7bFa/Ds1QC2tIlGkrpKnWk\n",
       "tzc/Yy9JRDvaw9LOoQoCH4XB3WbXJwksSC5DL+r5VXJ/m2tSzVVvJzAxRfHhPZck9iBCNR70XO7u\n",
       "XiVMJvFTJcLZ/7QIVAD7P0uVIsXhHfcFgTvmVHC75dtjDmJZLYaxX1cdnhMrtjpV2SDFn2zCf6f+\n",
       "EE12vFVezvKp9vusj1R8C1VbRk5D8BoafUXRG0F8A0v/8vrOSXZABH1mrzVPB16K768zz6SJdehB\n",
       "QCIpwcUgopnvbKatYk1sgRMYmfIg8SCTGzVjdn0F7+ubsDU7oU4cv48bFgFgtWeyPvQ1jFWi8Vo2\n",
       "Byt3OozvTz4nOuMZzPd8Xf+UmEHmxLDqAzYESPV/0r7Nb3QNtjmSgsKgAcN7M71YfAeQGoXKc1qc\n",
       "ezfPYUMkIdO62o3a7oDdva3xjOe4dbwYMKyCDr1LPxfAb/q5rNvMcVIiafd8NMykkPTrxXwUlbge\n",
       "l6UWWBKRptmiOBBRy9EBDRW00AA4jHW1NnOOmpZhd0ZQ3P5gQTIObXE17gnfU1dpM/d+gkdlTOeZ\n",
       "mb0asu0xhcPYH8KAIawdmA1jno90lFVgojZvIivQM9AtXoV2Z6c7YzEAvtMd98TUaVdtQB+F2hCI\n",
       "dH1OliwpD5XmQ0y0s+txnnvt+8NzXTE7OVrtZiKKd2ENXHGJ//o3I5Rvvl+jAcaOzWkfgwaD+10H\n",
       "N3Bc+Gr5l7cQYH5rkHNJu/mPhAz2poJmoC0aHvZ5YT9bpwX6OW2lej/4x1ZCByfbgcQhc6zKD/+5\n",
       "iQI1Gp3tdoZLm6AmOWAy56D+BZgt7/6bKzUXnOc6fsWbxmmMrWP7Wic7ww0fDA7WjZR+XTasxp06\n",
       "hIFJM/zeCswquHzAvjXkbE7ehmBhM2DDTTVpbx3uW9s+0ZuIQwrHlkA8YCcNZGPllJhRkgsbtZoS\n",
       "y7kAuBSlrSWOWMdIRs8OM14523XGRLkQ7FwkbOB+XIP+7dtkfpG2Svid584CaU9LzHzwE7yN+oIF\n",
       "wwkCeTL8Daxootpwta1qc3+751I6G+UMIdRulHN8dnbmTe8DWktYzlEBr5d+IX055SdHj8jhcSr/\n",
       "0k5iwJBq6CpVhO9ih3X8OA3CgC18Ja4mRl9f/DeXAN348fat4GKAjf8x8ZrZ8e91abGJwderLMuM\n",
       "pu2Tnh+pAl+OTzcppP28J6oqJNgTQd+05g9fJWra9W9UGXYzFbcTns73q8SXB0TGrG52qVWjZs1k\n",
       "LkJLvPZAAe667dfL3EGKn0BiO4XlN6yPo/rLeLOBwYw3EowmtbvTpA+LuijiAEBuLY8gZZXzR/Lb\n",
       "v0qWi2bajdAm+2j/2N5qwnrujg6/OMTwOgVJGZ1NJaLoDfKEBoEGv40hNYy43fM1r0UxDAD9Mp+l\n",
       "76K3S6THKtKP6wFR59lLuhkJk0xmBOJ9FmmlxQ9cCI4ijafKY0qGnkyq9Z3SBzn5jTLimfcok8RN\n",
       "5EqKYsvqmgFrCs2DoxQlOp1xA6GAg+rbmWs2lcKWPVo2oxX8hKYiVMIfJxQglUBioxEUyUqRdcVd\n",
       "drFUxnqaW+Ocwf1zwzTzv6u1rRvWbd1oYVkmO9HkXTkUZzGxv54fv+JMPC+YtQIfa1Ur2JizFZU6\n",
       "5Ao2+R/kiwCfZzjHD/HlebdeDufx3AdkWExAU58S15wIoxLn4zrTbANshWQYKQ/IkNB6pOZtIu5n\n",
       "0j3nX3w3d1QWJkhHV5yys74RsBXti6TeJ0Q9ryvcn6NsqH6A9fCFU/gMC2Xr96k44saH1rBMywNg\n",
       "6qRonP2BSLW498RrQ+A2szg5rSqzYYnPWQeIu7DZbuEKqgoFPPIXET2C644rK4ZgFQwX3gk49wfZ\n",
       "EiooSd4KsqcADF/ckvJerm5XDN/f0IMRSbNlpiglHipTE0pNJ0oCtbM9tOy0/9Nfwkyp75Vp8A6g\n",
       "88SFCpEovXc8/6gsY3k650tNSVwSLnV3Wn6MHxyrzwN5fazvimNUPrBe1SNEzxp2zDG5iR/NwZV7\n",
       "FVfHN1gtw6duxdkTv83OqSGiwOXmrTjqpyhuM8Y+kuq0tQl+Yp7K3iPDuAelYiZFdWLnX6Q7LBNr\n",
       "maqA4zlXNyXTNgI6BynQAxWPlhakSto8GUCOcDllG46mfd+weZKj03A6G3WCE9sLU75dWbQg9ouE\n",
       "6cwMTX3g2zdqtevfKY9PyTddfhkFutH4cPC/j+JtaZ52X+n2/hzfpH2niBwPPbg6sbtoMYMed457\n",
       "rgAPJH7QVjcyXviaYJrtb08yr8DGwJOIXUpaemJakg+7BYVzykdMvhziqFz9+SO9nvBDwXdmYlHw\n",
       "APS1YfULBimJQZ/gUW5DSAZuE73DhHcHOZtb4BhNb2RPGA9Xfkuu/ypuXTu09YkXf6PgcVPIah69\n",
       "Q97vrZk546pB8EXzqdw+3DK6tWmZEMcZbuswF3ZyJ5E9upCgYJtmlnvhblXiCjHm9u3vK+9W5bIm\n",
       "NRr4lMC2obxFPr14SfPcpd/JN/Uzo3Wo8jPkzsQK8L7j+Yd+bMhj9ayt5n/d5B9FTTTU5nXXJ8XV\n",
       "l+YbqbfZFeW6H93r+Huqlu8ZfuhyDmRH54N1JOlrTpm2SsjMTwJdeJn1QBH/jVqoj3nwoCVvKySu\n",
       "E3RuhmjWUEjoW1dxiRIucfF1WXF8aIA2upmDuwl/akGnvgdyJcMRuYJ4ntmZtWPQ3Sfnrnwg4GiN\n",
       "INWT/iQrns8GkVkxfJ/klYuC9onNWFygrHsdS2d8SjWktDBx6tnFVe/euSNImdqIfsMI1Jj8lLNG\n",
       "RVLhoozp1Cdh0kiBxzQGkcel6KK1KSGIJqBiUCaQ60OrNO41KEQmz+j8KpOP9lJXzzsT9lBdq5zJ\n",
       "lQ9z6Eesfa94xPVNu71rQbQj8Ue3X+l1P93K8Cbz4H2uT0i4jmXCl5JV9xhXn2qsfEDG+Cg8Fr1c\n",
       "s1Nh/to2OAnLxqtrFiCzNBLqmu6tfiozuAHKSedjjO8pDVy1u3Xdn1LBbYlrLSGUVSRuJA0toCDD\n",
       "XLiA+DIAKtJSwWP9fG8r5xIQQWZPC3JhORot59yK+sdqzysBDbfYtidnY9nEmehEE+6+gLMk0Q+h\n",
       "+80FL32Lxsr5zrKQnIodYPP1DHla8KboDkexTP+9GXfG709dtQkW6I+QGLMV2K7XNfzenhZiwVMY\n",
       "Yqc+dnZm3QhcsfJXL70CLUJf2+9ntju2sI6EIdqh6hy+qncZGLBdkGqUsmcWdV1/SX0RppINm9mE\n",
       "l/HFbqLwHas5tFCpkFtVkCLPaI5wb0VJPzQarcPMTjCX0bpUuQgak9GVY2GkGvTIzap9Pr25zT2q\n",
       "YA+kL9wPNyYFZvPAQW9hV9g/o1NE3OlhQ2VB6TfS95xDZYhdKlawH/0BYA1sY1HMJ9CG5aoI226X\n",
       "S6zXKlI8BAU1/KZDul1u7BmmEkKFMK34LoyXSAjZiCW9fT/9Y1jk4ttDP7qqBU3r/6LAEgK64T7e\n",
       "vzsDj3Yhq7TN7WcSKpy+eEtZNI2wsX0bn8y7TIbdFdrjsMxhLZu2FXOSvxl4Lm3w0NVl98LluGjZ\n",
       "5pMgFUbbn5Hd0N7aF0sox9QRzVV9Engj82PrYu8Vzsci/5n2yZBsqZnxCWB4mH7zF8FnEjud1hn+\n",
       "R3cAsZQ1K5x/O/kmT3pekrJXrYQwQG384RMA0KdMAjjU6vNtoEfQJ+OL3gTWELDI2gZ5pAmsMXGK\n",
       "77mrLASBWPg2i68iSN/gn7A6MGen/ie9PzDhTl4PaA0C97rtc9CJB6TG1T+HxTGTh1I1DH5jDmpp\n",
       "xXTr/XQ/AXaW9dKtZ0Tc6dkQqfkdYoVSUUZyKn+JfzYxTGJsQKQBV84IHKjlA+TU/FP1f1T3FwDI\n",
       "K/WoNYvr6wLKKB7f7T+rinv9UNFEoWgcN7YSFM2ITUvx6oaKlw6ygx1TElNgiI+dQri1SZ8rPLO5\n",
       "PiGgAAUIHviUFN4MEHHMOc9mBxN73Vasvi3MJenOM09Ud9tbDBAfpI2E7rfdDWoeJcMMQG7t5jMD\n",
       "l7Y5juVicpC7BBclbhBpdv53yA2Gr+lS9xVm9oO/SdY9H9XBV2HQPxNNWsyChaoPaDMgEhSEhj44\n",
       "NMjlpyi6SCmVOwVva1Fzmx4TyjVc0pJHWTdslpPQchyBzy6WKiX5Y3KabXFt3YLT25TMGZRMsn5P\n",
       "KkLDvdzSw8cOL6aUi5S/i5ZHVykkfRsd72FoyjvqKABBSiJ2Wfv2SkM5TdXlcwzuUqvKgZFqQ/VX\n",
       "/8K2P0hMw6vjgoCNSfKFrSfOL6Avrz7cdWqdqoYrzNkhNf3T0F+M7W2iPJJm/v+lawXkmsV7b9+B\n",
       "RO+tE6v6nAtkLSqRXAD+GRZ9B/jQ//6paAAoxs78YTNygisR4/agNOYode6gpBHMxdS57xMwCR5U\n",
       "wnzC7Wh6dXZ8Rh/wNv+5v/mrpma8gY/RMOWKXadbFNCzHPu1kpTlF54bWG292y+qVcQ3p6V+lp9L\n",
       "Kwcs5rhLyU9W+ohkPSjkL72rS5K0LFWzze4iDH5kxS6mmB4voc3z6k9b6Xlw/UVeWWT8QDhskBmH\n",
       "g/J0UJzQinNdzvZ9BMoQCmRBKPTfKytDHeNqWZDb8gMr0uR/MW8SxANIf3fc6Nz3ccejP+Zv9k7n\n",
       "yRa8MBGBRdudQc1he83jBTCb/Hom3aqQXCiCMM+PA0/4VxkKEFpC6spTonDXcgvjxziMkKimx1a3\n",
       "81crMMwphOmUMN8lvay+STGxZIItqoXQ/MeP0Q17AbT3MdGLDAg302bg+/uyBquNR6GpvswcA8VG\n",
       "AYdPGiOCncRTTKeNtyXZ/fqxH4791zscWf6IO16O9TIAhYfOjrLTTmyEKgZwf2tQjlbZhk8ZtXHu\n",
       "eZEWpwhcvB3GXl1GzobOcmmin6Pblfjj7id5tld2vH6BKdrqx5ESfujU7GxdawZiV5BOCxTyBQ65\n",
       "DBFcd3MwPeOu9eqCHPr80fsOJJBUKXI7GJLCb+uJNnmFyurBiSMkszRhliskBMWLF/NMfPH0+rcb\n",
       "B4d2H62FYNyEdLL9jWqV/+y7hWp7Bx8khm6WDtlcBBjFoqqcUH94Lf53OaY4ntOqFvtlWMDCVI41\n",
       "AYYD9TiP4LZHIchRwwBDs4kO22vRGPilCVHzjNcAv8glJV7hiqIRz80hxjE7N7l8ouAM9NmrzuH7\n",
       "cGrEtVKjWkx1JNamPFgPr8iceTaU808jkheFRFPZIPmh3304daJv78gbMiNiFef4mz8HGxT1+t70\n",
       "gI/CoqVUS9I0Dyz5vczeacBgg2YkU/YKvni/lgGOeciDziVFbjD+gWQvusZcVaa2JyBI4RgEjrmE\n",
       "NlTi1wV5HEtXOOEGeXmfiLGnKali8K2FAXoKjHcfhYyWywXS2MSA3dcmLZS2Pk08RRwZH7gmYOBy\n",
       "WC9Z9nz+dwJ23z8iW7LbNzgrdtFvIjaItJzFZHICo8TWpsXa1mKiMpqqbIH97PHV5zZX5zkTmC1o\n",
       "kmX0QbGInGod+vimDRVSnnqjf5pPex7lN1e/mTEzA77jRhy3iZD08ZgaSowMxnd0+3OfN4fSiFG/\n",
       "d8Wn7y5OP8n4n09/oTEaOIzh/1EcfbxAnmXUqOXZ/cL8vN+4LGhLSt3HViEzmXc/rHsjoZOo2i/e\n",
       "VYPhv3wK4lRp2aYLZx4KACc5h4nfWcr8EBsqqAvIJ2Z+0hvcPHq7IivQqBRdv39GZbactuO6QMlp\n",
       "itVqsMdxtmXqKaq616Xaja5AIJg8b43Cm2UIxmebD91vuJIVKTLVBd8tey7W6s91yH29lH7CGyAB\n",
       "1i5OZqBJIbu9dbcFaA+BPcuNPkmR/QNw9CyELeBIGBqHZP0aN557XXdYJ6UaGjlacH51Xl4u3UuY\n",
       "mESODcxKI9j8drAGetL35ZwLmu5sBLPZ0ppfbxepfneg4rve6bJY4oZLYIQUBr/E1o4y7Mas0/18\n",
       "cV4ulg/KB//W2na+5ac+3wbu+d7IDXv8GZ72uv3y4Dlr1Fni1fYbjxQPI5n3X3Pjx+l3xjR9wo0j\n",
       "eS4Hv9RJMhdHpWNhlQLiVqN67tchIwnGrjJKY2ZlELHPjvvwpPg7nhIUH3uCy9jS4a0fsZ22iu5H\n",
       "1oX4V6uMNagHG9cm6ZpadY/wDsCZNagxs3SfX1KFTaRXX36Ov7C7ESUWDx+kLUrlW/SvqByEe8wB\n",
       "M7po7Mm02+rgevyI5X63YJpHOvFoTqlb1nDx90ekfMdRvcPLPKOlTr3BtlwRjr8XnxNMyhj8sw0p\n",
       "TFTGF7DuADwOkizrFg3sm8XBpPr/bR/PTJ63qr72kxV+71EQ3gmwVV8p1XXQN8ZjRwtw484nn0At\n",
       "8h7So/kz2vugj5EJKJFvBsCb0QpU8YWJ6VYzNiFwyDkSymPt0hf3w0QDCTMmJuYsvu4YtHSxRISE\n",
       "LD3mCejtam2HvYaT539J6edeszp/jJIskdYAcKuiaGKkZoVIEXZ74qz0Sevc53zQtF4EV3pmjpwX\n",
       "au9nsUBHqGa0x7TiOe47vxioLmlFQu6rIzg+GgrGUa7oyHeS0TC87gFqT642KsF4l4fTj3UsWEjb\n",
       "kaR/LsRHEpX3pUArY3a6Swa9dY2sFKeAKx5Xc1BzC9bzp6YzSgumIj+mA/sT4Rn/AFFQG1In/ciK\n",
       "Su+IrJXhFPbmmlGFwxk7rrePCo+P1q0IBWLCLipF2oXbMasFUJrg4YAfQ+D6cb6TBfZAKQlsj0CR\n",
       "TUJRU8KVDf8YXi7XBfCSQRjaPpzgGk55YSwOXq1dQ2UX2Z0oRip9g1QPgGA3FtXrTHQm9nAzi8dX\n",
       "vMbscFLj86u5MCkKqcAeo35XHMUVsBCfxnsU70SATBurFmXEa3Aabd7T6574LtDegQ9Uv4IJz4MS\n",
       "oliUcfKLCtOWi9oAxJxvWSId8KYCOolwizeIQ3QdofoGQgX3kjoyRL52dw/buHx5hNoe39cA8yi9\n",
       "eDxCLomE9svsFZPxFAFzukhWueIfibLcDlhvcZcPyQfhTTP3zYp/95P9MmShuv8TIdGwduQrlqJu\n",
       "BQf/p07DzAXP2K/2LdxB1YdBoFRQISX94faR1XhM8u3KK+CRSwRVkJGifJM7NKKqjdKJRA4Sche9\n",
       "LiClqNB3Sttvcs/V+MK4Q451eBcolgiQFphkpevRfr3bGgme6tkWQcaSQpjwB3txHUyDNw6FGG9Y\n",
       "+3w0d+B+3FxX5U9pLqYPmSWU7ZtJwc6bvXWlFpyxNo9Hv6O6wpYTjaVa1BXahwfliIJPKY3d3BZo\n",
       "XzK/Tmsj6PGecrMn/VMdWu/ViVJSyjunrfSvCHlGIRLe2x8etqVAdAuI6lXDNFCKhP+xa6F+wywG\n",
       "i38Up8yRtu2nZQc1N9qMeF+HRAAnCA+Q5KqUpAOq3xf61dUGX0tbUPVT4a/cYTG8m/N56O1AsBqf\n",
       "MLmj37Bu9iWTDIKReOCo7Tes9R1TVHxcDiFzo5YxqQfAmHzZH8H7lB15Ee9bnR8H9xKOBtugbO1j\n",
       "qrEDRVwYkJEarAUaf9uT0Y7RRIu81Tu8wW6e5bGAYvj6XbrlmSVxYl1Zy/P5wh5XioLP+7HnWT95\n",
       "YsV9VieeZtqqole3I2RC+hUQwM2X9SiNgrptSU2obI50HXK1P9fAV4CaGsv0BG7ZVZ/7QyCp6zOD\n",
       "Z7iV5OnjcLawf+CwIMi9UlwXqQD5k98ZeDEOav/iKWt1VpNES/c3nrrO9CbmFugCyhm84+w5GADv\n",
       "oKG2lPQluIJ+MsTb+sKak9BBvxmaJ1O1NWjCzQUzixz44BJxQAg9MDQOU+3RHiLrvG8Cfi2emSAy\n",
       "mdIithqn46/DNT8e63ezxFIc1WUT5TlVysbigpeizEcuAi+vWY9kb4rxOvQRbnPI37kPpe8EHmsr\n",
       "ZkIayUkYDVvxcIcnQ5NtcifxqeTKcGjfmAHS77WB4lMZDs9b3bgObdOn9RkCUlEIZxIXjgJyvbMF\n",
       "9aS4Zr6HbrIo/mrqeoMcITo/m5k9gKcrZD/rvvwRwEdV3sTQTP6N2iMfo6eFW7bseswE5Z/Vf6Or\n",
       "a1mEEQQJw+9LctFFim1mSre3HrjCTbvOnhU6g8qWPKyUGqXUKP4w9pxQ9leOFlY1SB7VG1NBFYDF\n",
       "U9ncV1ZnWr3IphFO/5rzmQLrRP6a7QODk4Lfgm81QPSRvbSggBdo8k+vGpzyP1kO4gMsTJVhUh2A\n",
       "O+INhIxb8wrWHC4Pn0s+XRg4jCXtUNCaSUmyFVAA/jS3hKLtGSUzbuSTOeH7sDzihchPM9vuJzQI\n",
       "Hb/0dVVNKmOKzjA6bo1wk9wZgwNs4ZNYzri9mqCiMCGPakkhQL8u7ovpNtyLf+CNda1spReo68QU\n",
       "f97NtFLmFS+TYm4b+xquSA7kOWuisVXwl5KwR00eWqJQ1J4jmSMAMugJ6TVBwu44mo19ba+lCh+D\n",
       "I3NkDk6H+HO5+UBQRyxrsOrIB3bOl7yhXP8eV1OVgTNEXcqmYxBJU4gh2EU2aOTkT3Nn8qR9N1bu\n",
       "LrBOmGonjCZBtlPEVPd5JGjcTVFb/ESzlPZ1KHdwrHqzRiieZ3yDmH/p1sX8K9dIsbTiXaCo5GdP\n",
       "hLkwhkEdulPsPePqUlteksS63bHEJGi+knVhH1NZUN+sMVTqAYvvoGMazBxBzeXQW1bAxq+BaWnj\n",
       "tBjon56QsO+l1haUVfZ9kLqTEDW53I6MHbXaKCC3PFt2BJd44BdT4DhAs8yWHDkchIq6sb9iQItE\n",
       "Khtl196Bu7zrSA3eNg89wovBDOfQnTcXxzmZYowksX6v6RMi3ko/d+fscue+ZT8bdPUTrwAAkWNe\n",
       "i/F9i3z/SCLhfVR4NcA9uo3+8jIYTgOhD6qdRUUosHXrz1YFMxRaFADTJYZO9T8rgDGMK7AgWT8J\n",
       "s9nCle3o2BGJsZdHUNDpHZHSaI+RdvqleVCc+L4sQR3bGdBYkroiv5e/V8LDf9OGrd2jUul9PaYy\n",
       "eNH2sOFkI3CVRgS9kkGeFm6gkc4lX2+RyzhhfSf2b43uxhqK0+Py2NkIC38vQxWNMhPZ+m5xZhX3\n",
       "l2yQmBFw4e+W9LGlQf/0gX0koy4LiLSdgmpEAnDEZ1U2sndmC31bGgO9GiMsaoPTuYUoviXB4Jm3\n",
       "61wWwbuNCXOMc/xnnar0MSwUwFiPAH/m6lyoqWfP4qDlnNHr69xRznKKTEEbogsZ8s2dCERT8BEG\n",
       "9pRiXw6uWUdd8YrRQZ++/0u1vrjGSgcUa58v1QV+QHrti5EvSo7Qfaf9qV/OI8DQncIWpv2umZl/\n",
       "WdMo3nVSzmW51Cxx8Fh12moLzeCM4LoR+7bJ2c3jxc5PqV1+nfmPohYruKvhDUs0bE/7TVU7j+Bo\n",
       "4tfztFe9t9U7K4fLwW3OvRpQl/1lLTEAAAMAA5cAAATmQZohbEEP/qpVAAW4T4ACk3nMK+Bi/4Cs\n",
       "Pg9nqteRx+F+ee6NR8Ryd4urDM6v7rbogWIBYfj70VEVuUF6DW+d0fFAPm//O9anE3LaTcleJEBX\n",
       "kqMRaUqniqu46qNoLACkjOOdz7k2E8uO2dhY5USGpF3mVe2J/LKWCdtkfkUpejCB78SYgLAW5wN5\n",
       "l5Yc9TYpv4uQQ8iYtIaPI5XaMtHGpxAXz3XwQG9vWfnWRdRs81jFO/+O0AOh5kl/KV0lUrgqE6hw\n",
       "HRsukpKTE2iIdGFNDKyHhU57c2GyeVOXKxI955a0Dd2hx1ucE7jTFBVU1bBjas9zMhGFh05GLah0\n",
       "Pt7BTghSRUVaBCmXsy2N8RaKG7MB8lj+XCxG6ew/xL0ruHg4evma0pwEJCV3o18klBXfPfSeKpBI\n",
       "X8OsN9hW6OlKJGIUUjQ51BnMbaYLTBxaofThBmsPbNBuuLKSqjzjMXHfYayRbX5RM3d3RYhPi/+c\n",
       "CboAaaFvO0n+/BwFlSmjas3BAJt1+2Mh8VcZf7zdBMc1QLWy3q/llEHhaulxmWwPFkMW8FmkhXux\n",
       "bdmG6Aq+ReDlfbACvFp0MSJ7TfEE3ixcErCCfROU47N9y2dyoxAutZxZI1zfU7cgjvepevrsOqU5\n",
       "gBMGChrHlIjd2V5+kd6QO5fy1FavYq+/ILrPqLGCvWxJYw5Mm3R3FZfCwmk5GBRunlpQeH5SvfID\n",
       "H0vM+jtU0ta/xO2/JUFkdS4JBsjlTEihdPcOB+2puNzZnycLjgmW/TYJah+R9qA3XDtv58N7hMqr\n",
       "jIiXQMydS2lNkQeiNT3L5UB/5UpicoxZyaKdVAeR0AblHY5pma8i/IcxOOUQSIDmW4HkpYImPkIT\n",
       "JqjQJguQlRd1hE3R/BfkBbwHhHdVHSys/7g0GWwLURJx/S1njsUuY7AaWrWzPIoa66Cfq9BLcSQa\n",
       "reDU9gvTt4f3BLmYrejXcHLUulOQitmu/iYpChWUyUv47eoPVnDioSTxh2NKKyxXOQ5EEJ70H0vV\n",
       "TH5ElnXspJnX5GMtgjlBaLREPeJlhIPqui1B2k///nfcjJskZZGPiZ4I5MSJs+tTZqm2lgiBuG2W\n",
       "RQcc84vz/QoH2xhlkWXSA0UNQu7Z8HP8QQalQRwVQeOjQWAuBQ5Tjt3emu9QWo2J49CLrEEk8GWl\n",
       "oeWphZUv5enEayK3CCSEmG89SGX/6NildoBdQHxvm+tpd2+fQe9HJcfxj8qU7NOC8m9Ox44NWuqT\n",
       "MmRcbqD/H1u2EOjIkpO29JQdh7ghxmuCVlzfcGic/jjC0JkWmtLtdkNcUJNAgEL7+o2pvdxmOZX5\n",
       "RjdsuX/o0s7tQ+IyiXX4ixru3OS7WxfRaeERqZts9fGkK8Cyg8A5I2jHgpiL147tDdGliYGdt7qa\n",
       "vtWelQHVnnYnEwMBraZoGcywRaSTzfS0D2TURJAR1JHYhMjBXsicdXT8fxQqWze8GBF80BdRLVEg\n",
       "jLEtyrYb7nfqm41omNa02L/fXAaE7bEUfAkacpE5pyTu9yAifQxKyzNWlfBd8yb/tL1PikWRN5OO\n",
       "nQI4hRdhynM4J6pA5ERo98KvJWxhNzWt+O9AofnLvKdQa16f+/H7AAADAAvNYABnGPKEFgA/tebx\n",
       "NqWwz4TYKlbxCsbz/hoMqzQwRwpV+9IalF4A+GGDR9vgAAAGG0GaRTwhkymEP//+qZYAFA6baANw\n",
       "hrXmfVyd7Z6AsPCZYJ1Wov2OasRnCA83lKOjIav8KM8J+4lBIAyPgos0jUd3tVdv+kx5sY3uFcq/\n",
       "q1P3tamLvHFJ6bbv3Q5w8cmyHAc8Jf7JAdtrbAe5bMeNkG99BWIEhzSDYMsFYOOPX2n5rO/K7m7h\n",
       "YGyvR17HglhOTjidYTy88CH29BJZUeygMTy9Kk41gevQZj/2jCWQPYLMFCpijmsk2OH8m8oNSOD/\n",
       "d8rGJ0Txak0ddrsmjn5TyEuKuI6sq8Qpi+bDGzkZR8w56V6PvIH055J8Nv7KByvCY+8Jn0xi4CYR\n",
       "xCsAoe9l396uBu3YJ1U7O53aPzajHV8LIwNMNPdpgblIKa7VwVnbF1PvVHGEURi0trqJ4y9Q15Id\n",
       "DX3H7zkvwOS5dn+OrC47G1+BKw+4XP8ZykzdiRRQNw23SDaxiFSrjIpwmSx/FyuuX7RDjlEv7aL3\n",
       "1UYSFidVnGv1nF0JCENbKMAWNUUBiKUEe4qq8COwDBZ4ECXQvq/rw7utk1uRtj/eUyN2zn1/SDWL\n",
       "sNXbEcPDNGtHiX9gLNMw/UHYz09JkQmpKfDFpjv0E0FyWuwmtMTAmz01dcjTwL3WflciXryC6IvN\n",
       "kaiWN+bY/GmYaydX7G4gED+7yAKJtdKUVftOL0bIUrKjCr1SSFYJ0LTkHDvXLnGgRaaWiW1ouYgM\n",
       "9Blb5cUvPtpBhrfZ5kQVZO4wwmiuixOraFWecmwqSUWJ8GS3wT1YeDKasfJUS6AtMLgMxi/pqWM9\n",
       "atpWn0ukc2K3c/CF+529usr8QnznUX+hIsWmQgfZWVMcFzrenuryKXrziMrKtV8eWj9IMIq0PZ80\n",
       "VAXoM1YZ0NGqxY532Qxh1/VqlVpAV0+AkteTvKwcae3LUCBLdEbMcm9JzpyUWItorj5QWwD4WdH8\n",
       "pCXO06OG67pbb7Fa6KdYqDhhIPpHU6chPGTU+qxCcoidItXeAargJubgaDarhAiEUuT6DiD2Titq\n",
       "uOKl97IOqYwfrivjvMnTca5LOT5cjFei38A8g6676nbp9vm3WmlWmW7CzSnNmMQrmf1tK/yFnIIa\n",
       "O0fPesJXT3rTHmaHf6H5bCZ1BAJ5TFERhtwtaxAxdYeyu3zg0wH/OLShL6vTOuUQ/rImL68YX3R8\n",
       "k6PvRJ+zYdGQ5Ko9ZPpWogLf3EVsgKQMO7dByh/5+BZsspF95RO6d5lr0VYI/b5FioYbB+mCTOYA\n",
       "asgSAvnQpoMj7f+bH46bVs6s/3xf2jsDKtZePc0WC9bJNMZubFF5XmB4QHiB5YpsrkArBJeAk7qt\n",
       "QatDIwDfPGACSDuDUGog+e3gTzkIWWouPtWxX638Hk5dpPP9ECGkvn/ppww871konu/fLiedyZ4S\n",
       "JkHLMHOIfP8lY6I7ODVlZvtoE7hguJd+dF9+0BNIXAQO/tPUGcryjy8oEgp/22rRr9m7LtO4BVVc\n",
       "hz5Szcb4lcSFEBh5JRpm4Xj0mSiR4hEt3rVt419x3OLLQnTw3jTyCxU4UXCcHgQaBw7G0nYdOk/b\n",
       "mREaBceThVdO/jgkrmYoUBQKKjp3jk12VDUo5NN5mluJLs/gRYqYv0BugnNbiKO1gXvHrD/4meV0\n",
       "+4H1cMPe9p3japroihw3eKRynO2PL3an1ej+5LH5oqgxwfpSeioFEQ1/SzSmR2BbVBxj7qH/5yzq\n",
       "wzb4voVOKKFk2E+sHfDkojtDWQ1w4ZnGMAlfj1FjhZ+83D8TBlcXtd8JpCoIX3YyZXxXiTNqbGaC\n",
       "rhE++zIP+yZ66C7EEdaSdYEeK44W8yZhLonsMfipc395xT2wTB7nGzZjCJ2K7BZOAOEMZ8c1vH6h\n",
       "h7L8aatTlXIfd3+F/7LRFd00m/KLftBfaJnpzq5f28sOLuzOVu085JCmFymwe1iOFnbcKVoQCUm8\n",
       "5q9rh/i4TuaXr9HAk+fyYNWdKYxAyXcIZnucD9ypo8bV+2oYFZBy4LTO0mp5MY6345kc/+FLbQRL\n",
       "kNDajy2q347dgE7tA0AB812JoNUTL6V1w4o+6uj9xR+LFxacKYOT1xdrYrIABIjryIKOAp14WAjR\n",
       "oAD7gQAABFBBnmNqU8O/AAoKr15tltFNj+l8GPWKy/4ANovEPbfHbmPqMK2kdqeNgaprY0dkpe6q\n",
       "1Hq5xpvbVQeEsP+zq0LMDcPHtgy0DoVJU2I7QaznQNKfUdvF2vLCIn7MwSat++UP/Ww0HQIyQkT2\n",
       "/H3+85RaKz+mEMqe16nvdf6PPTS4aJm2/KAYgvWKrweviINBUvXBOAc0Pt0t51+uLwyMEFrNoWZl\n",
       "SXm4cvjiHOeRQfyx3OM+lnS6CkRBfucbDpKG5n4//eZoUW8H7jI/XIQCxiugAAvBR/14/eOZRvEv\n",
       "FFbL/uamsTnHqrd1QcPLHfL2nzNw5eZq4CnGWqXILuqLJGZOut4h6w9/Bs3oJK69ar/rLz4W5JIR\n",
       "UMdUPJMrCEvYeDWfvPDODb1kDb6ySd0QH4WxVHD3NMTQf4sbNdm+xM95mobW/tbHmEACfOSEX1t5\n",
       "CveOye90qtEnoCnr8OLDk6B44kVfGT9GZawp4o49PJ6VlQQ6VO9mGEU9bkUkxgZo4VLOlfLKuwba\n",
       "H6m6vj1kZYtmfre/T/XDekEbt1h5RIcjCb0abV1CDQdFuc1Eqp0JFJc6w7vpPjFWsephRP7KHV5v\n",
       "coF+IRcq4/Lu/lBw1PjvNMRwAbvLal//+BxqYQ1kjPuozrqKcisCQNSHhqHq1dNY4Z335EwN5+OQ\n",
       "WNF/vNR2/O9xJOnHDsGVowv2V753EJ3OF0PJCDzPgFwRwnFOMuWDk9QomTwlg+hV22dOUTEb6JRY\n",
       "EjDPP7V4kda5dwrHnbkvaO0Hexqxy/Y2L89C3kufqKh7+Hgf+wgMyqAQH+wuCdMfQDxb0grwqxLg\n",
       "tZi3KaI4ysAyEb22MILeYTBjKxxlOdQLT/0msYDCPeCmln1hYJA7/SGm74DW1A42OJBzzA2UACQF\n",
       "WeolG27iNM0YZsFk3ym9Nk0iX7Rj7BlRINyG8QAFn7ZUW6Ftxy1t88lAxkRrirqkp2sI3oymNy4m\n",
       "odhpWBCUgVJBGtGJUDH0PLfKhbudo8Kzh7XME0WND8B7xKxlUK89iMjclqJg+qEWDggwdsq5S4U2\n",
       "nr9w6oB5/NHY6yeTs+1b+scMzaHany0cE/+/+ir91o+I0JtJAA9G6Ei6W4rBr1TUBmfFE/bUvWrU\n",
       "1EyrMFULpJd86PTz/ByP/+fjc8ptYadpuOnphTiNphor0NJfDQ3V6F9hJ3P0Ys/JXT6bHLz4A+O+\n",
       "aIWVn+xcHkUtaBGwi5zDtOOjOCzs66YSH/CBWEs+fr9e9CZdOELHNSxRCMB1El0D/flSlWOiFuUC\n",
       "WxpdTWtvi80/3mpBDsnIkuvd/FT5Cw9zGUf9P/cjIE6orSGI9HKzSpePPISMClPKCi8gNKnR9FUu\n",
       "ngrTjYoWDxegAABbClCTYVDXa47CwQW/xL0Rm1XGEoWCefGhWhNJKvDc8cVbbJ2bHdVkDMoxIjVf\n",
       "R74n0Y9JoBXTWEP3K6Eq4M1mcMiCgEOAm3EAVMAAAAT2AZ6CdEN/AAeFVTw9dFU8XT88wAnU7H9t\n",
       "8duYqIOpNOzDDVAtool2oFP+J6x8o0nrToL0889whonygHsK9RzBLEJbaMhhf35J4TQQe1/vVvUp\n",
       "6Ie74XktvrKaNi1+qcwZEl4xik74t1gXJdkpg1dSZAyE0kK0Aa7hIj+NS4uAxo27sYUtXdbGu6kA\n",
       "1y07bRX1fY4RbetWmdg5BKmQ3OfyHn5/57aDcWpywuzjFeKryHKHTiP81BW5hspBLoi+lwHpiHJZ\n",
       "qaFJQP+9by+n2cpv4L7D5atDBqv760zOuopk0yH0MvJR/L17pkPiRtyT34jvxoR3r6d+vwNde42q\n",
       "XxTtx0zfmn8+f1oJl7bhgvklQAPViDQGso0W6AEmWwo9Gl3UqdfqhIEsR7CXsGAJADRoS5bReMMi\n",
       "T/dtoR4202ZuMDY4a6n/Wm8iI1B6+t0GRyXaXspIcXqLJOoSXqGFTgv/w9KG1db+K2DnZQj7UBHJ\n",
       "7W9X8Es9IpaDg4dT3uNtys7gdqh6iOmI5iNKQLRCsig/X+czaZ/tqp7IDBP3maTqARyukPMnA8wL\n",
       "+rQlgyt5yWMvpcC58hgXuFLojBYCvLc8u8Ykjb1RbGDbOhVOsuHQZC9cm2vkameYv5hIxuhbFHcb\n",
       "a5FT/BT2tfQJWCBC7VOxAx4cSxlPr+qYJ0BcAvyernSmFK0pLuickOMO3T4EWtVmCXJ9ynY8p1iA\n",
       "G8WyBiSEM3XnE8rwwQaO1s97LiRkce8esQEW1UFWQyL5bIaczEkfp3IKcps6l35shpcU9oN0VD9j\n",
       "FfANSv08UskouaHrOengxlKCIE/YBTqfurK2bjygfpO3PpYQj+2gC/ycAzuJmXhadtp+Vr8KB3vO\n",
       "1F4P4VmFeSa+KfK383R8x0rLzO4N5c/69ahF9tk8gexqYjRTayoAU0elza3oi//fGKarihWztwEM\n",
       "B5BULBxYZdwIgre3e40r8/6ODdplY7Xd2zWbQbJjslGuP0US9Y1H+Fmg0CMMLSvLeyesECJian/T\n",
       "vc46zMO98C+wWigDMnnmm4gL8jWTwXDwUOs6CwtvwgIt894FsZOZY0gdfDvXivhEWW+xxkavxZKu\n",
       "CmTPIUgGFqGYWvnNDBarcczri7V5T6vTi7P/Vhu0zyrSa9VG5vSVJCCSUqj0Tp0/Qchvgvz+MsOv\n",
       "JxqE58M6TPoiEzxRbpBXFZdWQqMpAzIlBBakD4QApsWqzFW/kFbDX0twzdMnA0mKBRkMvjq19kP0\n",
       "9wNqj1oERMMjr1UaDppRojF4U1186wRWqk709SzpFQCDWCpXICbsw88hAvYCS2xBwPAj3/D7aBp+\n",
       "geT6Ae4TabdKVR1fYeo7Sf+Aktjz+pA+I0DvSXUUF/yPHeHOywwhHkAy+6Z93AM5jzmboIPbteuu\n",
       "HIYx0xlsekDlKjjeSlmNQufD3dqrK04s2prttI8jbIg78WTAKYrfH2u/bASzH4UkcOVv6sqq8cxw\n",
       "1M5X7jUlX99VkWU3jfALRGdtbpaiYdldrH9CI1gD+GE9etpu7p6eSrudjHPTyXPA+Q9T6dQ17WwJ\n",
       "R2rlSlFfUT1tvJVS3RIHKMd26E4waGbJIDDGGZUQ9BGJ19vrn5fgqSG2DRQJP3AKS4DIqN8PhIll\n",
       "P4EYfNk+8Kju5FU4hVNbXWx8cHIoAayT6LgcgE96clgTy6pIuSfdkC4cE7iMAABaQQAAAlkBnoRq\n",
       "Q38ADilCC3IAF1XJd8Ujz7/zUWh99CA9fG68zFPyJixeGosEcwYyaETgjTPvOrwE3otJL8uI90PR\n",
       "WRFbbYl5iZddv/Uq/uPC6Wl2/rJC3imVtc/1Q5+3QszoJ/UxAy23OC3W7E1uLVYMe0xA8pJ4I5/k\n",
       "ve6XBT4vd8GdACGRxHkinmSYulzhMPeoIHgm/DhktDU/TeKig21hZXLWM3PQEptGEsUIrHTe93Op\n",
       "ptckjW+zKnlkcCI823HlGdf0uxY2nY/i5O0aBmkVL0HXB87oJtjyYXhHa+2fBmoZ/UtoJPhN9iq/\n",
       "+macjdhh0N62pwJaadCH5JRUx2XuQNnQpOOEUf2LykaNLmToFaCmhv+Bxmsjua0ltNdenRRAUC+x\n",
       "hU9wOBTTg0Ioa8b9ogGmbpPr6gkTnV4Iqgp3qDcBUg9itwlo+TS5CVbzPFc1veXsSnJVFwsgulvB\n",
       "I7bIkFdd5XJw/bhOyqRstLv09APBAReUJFfeYL7QHZwWnn1FodTeZdYkApwJ4k4ntNrE60LmCtjl\n",
       "Okt+6smO/tRLjaSPzduap/qNXrVALbVNpsM8dD68excjQyl2BpH6ToifpzPO8eg+HmNAomeDzMOU\n",
       "RayhyCDI+fchTdGP/IuPdSrp/xQUpgOMxitmkOd96dBidV8deBO+1Su7wl6b92ZuS4FxWZ3F3e1p\n",
       "hL55RmAP5Vgxu/4+yDVrTZTDylrO+Z7jJl+dfOAE7h3qehWvKOvU2Sgd2xxPJ56ORfLtNVNJwg31\n",
       "6e39I75lBF3NtWLjp8ppvJbYXQarBRsEYAPnAAAEu0GahkmoQWiZTAgh//6qVQAFKYrs5vwBCG70\n",
       "JSaOsyU875J/L5bT9/qto7dJ0k4DubCDKGa0UC3eccrO9gFXn5+NG/HHRq1yKKev3VgU8nxNgBcr\n",
       "7yHHj8CVx+KRDMgFv9CD+vHKL0MSNOIsdDgUxrHtwOoFxF9KikCLx7BSxVZuImkCaWTsanmEnGBD\n",
       "4f4X60UQsUlc79o5rGVNehxV7+kpmUCu04vMJe9VICMSn19mEnczANn9a6t3udPjoBTjhhCZcnnw\n",
       "oUzcu4xch031BsZ3pjkr28STSLp71z0dwj5WlxkynfZ4eDvXZb3QdYLiqY/CRg+pC1tzyyLdfWFc\n",
       "rkmaGFiWfP76xoYDAVLHozLXgd2ZUCDDlOZg2RQtB1BpH4d29clN0CaYJFwu2gIUFbbJ47+R8nqJ\n",
       "cmUE6TkinKivhb47/2qMtaIRyYQmRhNvtHrUG5XiNKG93G+q+Y37a3JjFIeg3DQOH8Q8M7cXldaB\n",
       "Mho/CMLfb6SnjQVWRk9nEy+cNXdWMMz11lq8v6muHTSkylrvBUNUcDi8pFiCDAjIgVP35M8ifFsb\n",
       "9wDaiiCUne9t+dKK0hPjWcc3akUEX235sF2/onD3Fywk+7jZiSZMXdL0gHrt+jorcAGIRDI9Y6Q6\n",
       "/TtHSbB/gjNoewVlFKLvbaKuX/z92hvyjrKaI2tXNcF/emdAym/fvdlcs+ngGMaEo6n+sTz6AKLl\n",
       "pP2AI9la6IZixAozPZhCwQ7LpeTeRPrA6keFMzE7OL0RAd1JfKlZShqladBqTghu/xXYxML035wb\n",
       "70OPqCs9nPQLgTCOxm7Ellnr/EY5AdVSkkZKP7rAR1aQxUKqbGprwmNHrmRUu33cTIuK71sHCFpX\n",
       "KyddIjB/+TFPaZpY+op5w7sH2+6S5GY333ajPOuL62ZRL0ELi+Dbku2lX56kpI7RzZsEXWDzgWf6\n",
       "7fSoEk0Iawe5c9QpJWM9mThiYieufq6IoenkidXURh3z1cGyV/jg5v3gp1LEBr50a7K1WXTAnJ0/\n",
       "1yvMySZUJY5yQj1YnTQHRadKkh6AKPLvEe48bUTYjPyEl9JLKSAfkxwvX5lsl7kL32fQ7fAOeteQ\n",
       "8vfndA/4tHFh05tB46iBgzzOJvnfWrE08fDgBAjFCTZttZJ7YKGPjYmFlX7iN8PMxvA84HOmQt6c\n",
       "dU0nlikyAmQwfV81VJmF1pl2kkh/e9eYsPw/rRR0QiZbtEfnWTUB3hzpte1vVCcTnNuXIWOABqO9\n",
       "aMak6zPAp41TeRJaoIK0z08JYw20A743UE0uceBJATQ0+7xDRQZcWnPNKNiiaCuWY5iKoqq2bdqw\n",
       "S+r6o/x4v09E2eTiPKBX1k803NNvwyt2WsTIhxuuTSi6bc+Ewtok4F9FdokcpuYXww4TUSTfZiYk\n",
       "qVQP57Abf7s8EyIPhaZGRXhGPD7q4YXdFdHnmwff06uquk9d4KzRaCwDAW3ORbF5WzMBGht+NeMb\n",
       "62vG6ETu3WejjPpvjJrWL0x7TMm4jRuz6Iwq2QgUr+f3tjdENXd4MJGTmUP94pxHvfa2Q4ieAcub\n",
       "z83V8s473CAcnLK8tTN/iW0nRPzW+TCdCRq6Mylr83zPYo0+jBxdvz67kr8HAAAEVEGap0nhClJl\n",
       "MCCH//6qVQAFKYeGQYAn0hnmUNpoCjEtptxl5f+fyuGin9vG/0YGKeF4eiU7h9nhpryimGbtuC4o\n",
       "4nMVL6Afj+6g2lnQ8+fBbjLSdXZ8r151h5CavPN24xZZRQMqw/ztOItTHWNTG9xVaDubXyXOSrXS\n",
       "nWQwk+fwQ3bTugqf/Z5ltoItuvsoA4bP2XBySZhKlUSK/8HVMIuGILyzS5RTyoPYTvY4OJkUDBot\n",
       "CK3EqLTj6VMw3UH6WDsGf/l0i0fuKVBKNiaBhz3LfWCkBosnB/kEzJGTLmBJn8/gHEf64AeVngaN\n",
       "12rL/zQts/daQq9Z+zPXDc2160Zy3wSIRUGSNVXcsSnE3TKytpnBOOETTBrLs12JQQOZ9DHjt0w7\n",
       "CzA7LHZV/yByhItuff+AU4h+Yr5JoJxdq0WguE5bZjQtDPEwuLrKEv1LtsakN3GJjx4+hjFYEzn6\n",
       "5SQu8S7g95v+G/sgugcwjYuHM75AgvN9fICqWz/kgHJorTZKMgVddcSDFlkHdELNsPaW2vCS5pZ7\n",
       "5B9XIoWagizoOEZWHfvZruX14hGwiOF8wru0Zcw2EXaiGJ5kRd3wHFdvuGIX5nWqFCPHOau+Y0w7\n",
       "Frs9HlYYs/Kshw3vI7ROer2RELVpLwKVNp6ei7uUXoQU+8NjNWXQ/X0fQvfJw3A6VoutYTNd1tqM\n",
       "gCaUeLl+RU8oN5csZkUppLLFWEfQpWgbQNn3YVUWuGgbLWNFKIopyvjANL8sgSv3K4QkkfQkYyDJ\n",
       "clpgZKqbf9bk5hokP3XnPObxsfM/6Bo8uXZByl9QIaBOX2IrqsC9hWFL+ykI6gJN5OxVw6ENGZ/W\n",
       "JXriLxkKhvhJGufdCuJrRCFtOt5nsZtKImis1mtduB3tbY1DQAIt3TAjmShrUAbvpwI9xsnnWO3H\n",
       "jcV/NUIt84bpz1nefj1xNFu8a8Zar6wxT8fYEOfgMjVZoPUzou/MK8ZNfPZzaqmImRhEbPtJZNYM\n",
       "nKV7VwJD33jpRzspzc3bQ1xpPI31FTTD9imJfsmwzDnHyPNt9/CxPQsx8GgpSMf////BNVKpEqsb\n",
       "HNGuCfRk63FujwBGOScv0zig9a3K0uqdOgHp2SqboVml36RBdQC+mn8WtouiJ+bDRCERGzdmDxNS\n",
       "ka3a2tKW4X5S07dsoYouCltQ76C94Y6r1Rh8HG9e8GkLQta7BmBAhuR6lbzOJcp/Ob0X/hU36qDH\n",
       "UvLtQc4K1YF+ICIR7x12KVmNKT1+nsMHCCLtTHkGZmfUFHS+N9QhymNAro0cH+L6IewJebFLc4nQ\n",
       "FSZByOWUaQ9MiTZ5dqY644VkbieJQwo4tEhux6FHrL0ZvWCuNpDjfGkn00Iqi6ivMg67u6Metr/3\n",
       "Cqw5irEmv5zNrG93fW9XTRcc1gjb8PYPsmJdMF9JXYZ0Lufzf9JHJfv2eYATjix5kJXD1VulrYA/\n",
       "NVi1MQ7t5oVb4rzPSvIAAu8AAALSQZrISeEOiZTAgh/+qlUABSmLT54An/lJGhTsppTK3UQyD4I7\n",
       "t1b9WBzN7ZV2xkNOW0pie2k18YQ4qB/lUg2nWDg/mLrKmfIT7hPWZHBy6ITNwqqON00k689YrYrJ\n",
       "mwVbxylH2c4Vc/prutPNfgaol4wYkckjvmUp4FNK5X+xEVVjTe82hNoqRdeT33guqT6tiADLvj/W\n",
       "ZuWFG+YSCxujxsaFU+xfA78ClcLuPA0Dr4EeV8ec9k94Zr1zN3bfguiyJHm4/LejrJgOwQEHcilg\n",
       "gZoGLqVV9QOOKW42dz88jwh2guLXbL0qmFyMJ1b5Fo1/Ut8FEEi2WPq+oIX2k0ckHKexxcEFwc03\n",
       "BKwCNKJpvKouW6to4uvFdIM+1aFfD/BTDyPy8mGJIfsy4zYsaikL7bfVHilZBDGvEQIUhls2SyOZ\n",
       "dh2++dx/E9sQsiuctnfyW0Xov8QBOKuuVCqoFjC9VUCrrJqCbSxANZVsMs0lkdNtMxlmHZ5nB4AK\n",
       "aClcOLD4qoHTaSyXRuTMvo1v7AavUszAG3xpwf2hkNy1NzmM0rh8XIvx2h+yWxVGByYAVxocxuuJ\n",
       "CXlpNV81LXakYm2mcK7SX7zBFG+VDEUzyDM/5+1EdZo5c6cO8Mr9pGQ9xCdcq91AJU77F7QD7UR4\n",
       "adK4sLhZOzcM81Syyx5z6TRGcSlHq9qUIPNu8dhQJttW4W1S/eePu1rjUW9zkGZiyv3X7KmGFhKz\n",
       "YWQa5oHNT+mlLVgNzNwzMa6o51eJf8pYx0iYmABCDMWDfZkzjQxLb1OER4iKVS5PlBZNm5itsfsw\n",
       "+jRUi6WZ9LjQ46wgL/FQXiWVakHtWehot6mJ5BPEjVj/30l11AXAOSmzLlKOZZgMTKW2shAmzvwJ\n",
       "OU1E30LqZ1JC4rFeozZnVRo3ZdK2R7mkAu3vFMkdBrICl4cHU3m64if2T9nqsCee476P05kd6YCk\n",
       "dMAAAAJkQZrpSeEPJlMCCP/+tSqAAqZNXofVefdBFR+nG5uWpACy6ydGAZRo2Jw35CPetplQes0w\n",
       "mGzF3fkhw3hXk3ddUHQXNZrOJka7iIIDLWKPWoMJzPeHwFwbjiXm4SuL9Cuy6F5hX2pOnEyis9zP\n",
       "ZUu31duBVxu+3Y42AogJqRVAn/RKSHgc8FfnO4kO1PrNtG+t7nWUfWtPocKdAy73L92z9lxpgCBV\n",
       "pPmwapYHC57bdly6Am2/OE3m70cJR3IIVV+cGWiTfd7RBYwZqyS6ENcgvoxuZQSMJFeIobX05OPd\n",
       "mkIqQN0pqmBGb3BniibKmOg/I5ad5ksymTNf0FSMS0RkHDl+79lwJ1WBmofvRsgJsVSmNTwHDr4m\n",
       "U+ngIJFI9VkHrlNC5lcQ9pnqRHJTip350RvZ5UBkPb85UcljDWnShtwdHZQlDRgRYwBQjWftN91G\n",
       "ETSF2Klqy7/q7SHmhUbGiBKov5nu0kvYSSpjEQ99QA19zN6QpAsGYQ2eiFW+RxU5AA6Lk97OVopt\n",
       "z2ntwT2l1F0lM4gLtFmwCdyouCMwPREBdMKWgOrFgi/catRpm2I2PLOAVDROv7wNOo42uox3RAcw\n",
       "vp+A7r6zzXB9e/cBFjj6kJ2ETY/tmovNW5GiQEjSNDJ/fLWUQ+G9Q4MkfgJ4RyNluMJFhybEnxdJ\n",
       "gQKijAa3/pwP2RtTq07wkjAgf56m2jb3UR92aoYWsibeaLFCgn+1yW1pj+U5pO2/cAwBGAY5hCEg\n",
       "xBtYft6PdVpZV0y1ezyCWl5SiFi0YnHuahuiu8CtRn+TWx8OGRHtDUzYVxIYACkgAAAB2kGbDUnh\n",
       "DyZTAgj//rUqgAKmTV6D6qo0GgtDS+nCJZTWGPGtWdKNJbOwgCgyA/lnx00pOJnfCBsNL25Ri4qJ\n",
       "lIfvyqHTjldcD9+/ketWlSQLUDgFWcxK7ZDgrAGmZ7k/0K6XKVGOLtwE7rNOI8OAC1iZ8SC3pHxh\n",
       "WnogWywGM1yBQykd7bB/47NIuMZHxkCrY3GsofhLpiuKsZLHqak6KT5eiUiC/0+PP3pnpGSnk4iA\n",
       "bdWxeFgQ9SuSYNQIb66Ku/ruVBRFlMCR4W3tes8eJ3QM7JRwBIk1sYGOOWnPNkhkdGk0MTcH90jn\n",
       "VyKq1oVSTJxj+l08+5pHTjgt4+Flz8KXhI2jasqm7eKKqtay1tAnAYGkZmtt0vk6MKmFz3MlXppI\n",
       "KlLtgZSSkSj98BK/AcFST1CswirwaC0Z5/FNnhn01nLnoK4VlpLyWE5mGhKH/kbmu/cHVHuTQfrk\n",
       "LdJeKUYAqDQvj39cnsAkf8HE+Mw8Ywsr4F157B07ccYJY/Do4LJvN21Ibov5raazaQBZlJVdhCQX\n",
       "wLdlez53tLsZcLHpLsktdS4z+jrapbEQ1Rjqi43w4XMwvqRzcemMp95symFYbVesnHske+gfopO7\n",
       "3mPAfPBNMrq5hwAFDQAAAD5BnytFETw7/wAJg5JuEmE74bPWEYX9VsboAJzbiLpuV0U8sESUXa5L\n",
       "liglXPJPqvjoeCPyJEZHuGuquABRQAAAAB4Bn0p0Q38AB/D7AF7HvD40899dhmarsKU8eG4QAg4A\n",
       "AAAYAZ9MakN/AA3QBvn+At3SDDkVfLuGwAPXAAABfEGbUUmoQWiZTAgj//61KoACpbLnrBMTHSIA\n",
       "c/GSWJH3LOrQle+Ghark/2+ZrLX9QSIW+l3g3PlKuDugSGR5EBqPznIUppzQ9Z8kczHJtriXXmnz\n",
       "Fl4+nYcpw8kBNF8vrjwQG28MjdLzmUzbf0BqPyW0fDjEeklrkRsdDWGnJV10ZwhOr5CsejJoIjM4\n",
       "g8Tm0/i+wE7l0BpkrQ4SDAJHSw+1FustLo397HA0FGh9OKbK61PVpkb6521IHWIn1i5PauQDf+JD\n",
       "oNE+iUj6DKes+Dk5Xw4Q3INwsa7taGsuxnDNE/QhGoWFwP+ntt9TrEkbDGQZ/t2PF1KnmLVQ7Ld1\n",
       "zfipVRkZa5AFcgQV007mxgjBlS2yojo22/gZNhyKOV7VExu1s67UhUYMh4bbqUx4Nt8wJYFYeHeA\n",
       "mXmOpbiobWiKEchbG6XzGEEyOkC61TmZfSLQWxBrVGFFa9Ew0rGXGFKEfZiYmPO5mFGLTNT3Pjlx\n",
       "bZSXTdrfzWkRgAKvAAAAJkGfb0URLDv/AAoIKbLE1/F+8hNsrdCfPL6jCNPhr5tt8s8IAKaBAAAA\n",
       "EwGfjnRDfwAHa075yVldcUDWCFgAAAAXAZ+QakN/AA4ncPr7tjZdHzBQQb+AH3AAAAFvQZuVSahB\n",
       "bJlMCCP//rUqgAKVpZRABW+9r4qAV81y8ElYa1fQvZWu/C0HgzpTsyNft6ryYGR0qs09/PBuI96w\n",
       "HIqSsTPiP6UZA8IPtlLhLVnq+tbnCuEL1SvLYJfmgRUHVoFv5f0ALnQ/yxLqVWcvWomLXSccJFNL\n",
       "VbQI6CTbQte9urIunJI6fg5bJjnDD/NXyFejOLLnN6fb3MFVnDcHMA+4YfNN5mvTk6mLwWnOqrqK\n",
       "iyIqUFn3xhlfak/+qrY9Ctmy7P0bKoy+YumVgU0sZKaG6kxjrOcUIg7qWQE0jlzjtsy4o+oAuyPi\n",
       "RpGhw25YgRNoOaVuViCLe8LcY4JXvBQ1Geu17rxFaxQFpeATl+mTX1+g/CA4Rx+sqjmmUbceTGv8\n",
       "uNyOGjufYJky+K5fDgg8wAWRcIUDa+xNnR5FOMn514TSIW8HUSietIG6a7MO6O0HqIM08LTg0uUb\n",
       "vcnDsP/uEQUJuRs3+pkzAAAu4QAAAB5Bn7NFFSw7/wAJg5Rm54IHLIkjjGIZj58HM+AAbMAAAAAY\n",
       "AZ/SdEN/AAfvUE54zWVMf0iffkKgANSAAAAAFwGf1GpDfwAH8KNP6Xj779sxwIAygEjBAAABJkGb\n",
       "2UmoQWyZTAgj//61KoAClERcgAOLppEASbCWO0ToVhK5l8sZ7+kgRUWuv7XyLO6SlVGLkXY83wya\n",
       "1sCAMJJDzw/gsC64N22qwZpPtXoDWbsLHQYzgfZlFYRskTnDyW9FS9U9qvInlwMQz+2SxBy4CuoJ\n",
       "RIfPTcj4/sljhh4wsAkMGHmT0fEHBu9wxu3AC5il7Y4dBEk2X7Nqpgbt8TKhTFLHzVqlRc7OuYLY\n",
       "2F9lowZcvAtSVhRQU2Wf1/fDV//MuDgrLn4J/6CLVlCUhB3OSqrLrox8vQdaAWAeFv3ndIWA0IYb\n",
       "hESxOr4qDvVg8B90RWQYMJzNjNXGeKvL6RyFCEmwMLXp5dGtTqfOuotZ6MZXo5+L7+vwpajPMJlq\n",
       "NCrnwACtgAAAAB1Bn/dFFSw7/wAFucM0TUZda8hpHZfMdlKdiAAQcQAAABcBnhZ0Q38AB+9QTncn\n",
       "+0Dhtu7AHAAkYQAAABUBnhhqQ38AB/CjT+f0I4qX7wZpCdgAAAE2QZodSahBbJlMCCP//rUqgAKV\n",
       "mt0wAIkLUG9PmQb6OxP88h1OrcoBKgOOj2Yc5puw+bsnXPI0SGT8J3bmUxzwrLZwDfgFMdo4Ztng\n",
       "NAStaJE0An7wuQ3l8djG9feXuG7PJDuMr9JfIXEkVxRVHRNLXAaBolOQwgarXoPnarQL+1OYqFuc\n",
       "cJMWU9TdJS7OLA1yHOuJvbxxQWjWB6kpK+INkaorn17hCc3y0Fn2eM9fe0mp6LZEIGEO+Fopv1hP\n",
       "2XFhBHSgZfblqotYwKIPKxMGFEDs7AoXXQaNszWGsAjtKCW6CXpzd1tdOzLVO2KjrbT14NSPrqB6\n",
       "e7k5/TkQAzu9l1eEDnvA5IA2yyp+Z0/x3alt0bxjFNDI1XzOK3l26KZXygqKtyJbuWIXKR5SCNXQ\n",
       "JJO0MoAFbQAAAB1BnjtFFSw7/wAFucM0TUZg/+soBF8x2Up2IABBwAAAABUBnlp0Q38AB+9QTncl\n",
       "GvoJsOrSE7EAAAAVAZ5cakN/AAfwo0/n9COKl+8GaQnZAAAAxkGaQUmoQWyZTAgh//6qVQAFJ86e\n",
       "AEYosPw8wTuMYizyJq/JTI2cRyya2mgoSO3gXCPQqNwABxVfkJ4I8mrITaqabRsHyI5UhYjOBTpn\n",
       "J8SB/gGrm44d8Ydlv1W+64LaWGvDKgtR+lTprGiytLI3EgQT52TQ/khSM9Kgi76LkFXHZGkL5Yiq\n",
       "fENC/k7n+DkJaFAPGqed2XYq4mVAT1OEQOVJpEWTYLqEhSTlch8f1WATT10SC+y3QKgaO18HYWz2\n",
       "VDfAnwAJuAAAABxBnn9FFSw7/wAFucM0TUZdaaMsBY6SX2fftAM+AAAAFwGennRDfwAH71BOdyuO\n",
       "gbaW7sAcACRhAAAAFQGegGpDfwAH8KNP5/QjipfvBmkJ2AAAAIFBmoVJqEFsmUwIf//+qZYAFBXH\n",
       "xdEAB8YpmvJ/HewZop+p8PMMOtQb7EI8rnYwGP92/2Qs7LC2bA+X8uHQbqTxWhTHEuH/DlwrDLzL\n",
       "5yb1tugFvqsQme6aiMV7FTfqddJy7OQPeCxo5au7ZxfKXzB6K7N1riHlbJPt90wCWWfAAZcAAAAc\n",
       "QZ6jRRUsO/8ABbnDNE1GXPi0+uvDztpmhAAFlAAAABcBnsJ0Q38AB+9QTnkJBWjI27sAcACRgQAA\n",
       "ABUBnsRqQ38AB/CjT+f0I4qX7wZpCdkAAAAXQZrHSahBbJlMFEw3//6nhAAAAwAAJuEAAAAZAZ7m\n",
       "akN/AAfxSvokmkXUOOPZQ39f2YAKaQAABO9tb292AAAAbG12aGQAAAAAAAAAAAAAAAAAAAPoAAAP\n",
       "oAABAAABAAAAAAAAAAAAAAAAAQAAAAAAAAAAAAAAAAAAAAEAAAAAAAAAAAAAAAAAAEAAAAAAAAAA\n",
       "AAAAAAAAAAAAAAAAAAAAAAAAAAAAAAACAAAEGXRyYWsAAABcdGtoZAAAAAMAAAAAAAAAAAAAAAEA\n",
       "AAAAAAAPoAAAAAAAAAAAAAAAAAAAAAAAAQAAAAAAAAAAAAAAAAAAAAEAAAAAAAAAAAAAAAAAAEAA\n",
       "AAAB9AAAAZAAAAAAACRlZHRzAAAAHGVsc3QAAAAAAAAAAQAAD6AAAAgAAAEAAAAAA5FtZGlhAAAA\n",
       "IG1kaGQAAAAAAAAAAAAAAAAAACgAAACgAFXEAAAAAAAtaGRscgAAAAAAAAAAdmlkZQAAAAAAAAAA\n",
       "AAAAAFZpZGVvSGFuZGxlcgAAAAM8bWluZgAAABR2bWhkAAAAAQAAAAAAAAAAAAAAJGRpbmYAAAAc\n",
       "ZHJlZgAAAAAAAAABAAAADHVybCAAAAABAAAC/HN0YmwAAAC0c3RzZAAAAAAAAAABAAAApGF2YzEA\n",
       "AAAAAAAAAQAAAAAAAAAAAAAAAAAAAAAB9AGQAEgAAABIAAAAAAAAAAEAAAAAAAAAAAAAAAAAAAAA\n",
       "AAAAAAAAAAAAAAAAAAAAAAAY//8AAAAyYXZjQwFkABb/4QAZZ2QAFqzZQIAz5+EAAAMAAQAAAwAU\n",
       "DxYtlgEABmjr48siwAAAABx1dWlka2hA8l8kT8W6OaUbzwMj8wAAAAAAAAAYc3R0cwAAAAAAAAAB\n",
       "AAAAKAAABAAAAAAUc3RzcwAAAAAAAAABAAAAAQAAATBjdHRzAAAAAAAAACQAAAACAAAIAAAAAAEA\n",
       "ABQAAAAAAQAACAAAAAABAAAAAAAAAAEAAAQAAAAABAAACAAAAAABAAAUAAAAAAEAAAgAAAAAAQAA\n",
       "AAAAAAABAAAEAAAAAAEAABQAAAAAAQAACAAAAAABAAAAAAAAAAEAAAQAAAAAAQAAFAAAAAABAAAI\n",
       "AAAAAAEAAAAAAAAAAQAABAAAAAABAAAUAAAAAAEAAAgAAAAAAQAAAAAAAAABAAAEAAAAAAEAABQA\n",
       "AAAAAQAACAAAAAABAAAAAAAAAAEAAAQAAAAAAQAAFAAAAAABAAAIAAAAAAEAAAAAAAAAAQAABAAA\n",
       "AAABAAAUAAAAAAEAAAgAAAAAAQAAAAAAAAABAAAEAAAAAAEAAAwAAAAAAQAABAAAAAAcc3RzYwAA\n",
       "AAAAAAABAAAAAQAAACgAAAABAAAAtHN0c3oAAAAAAAAAAAAAACgAAB6rAAAE6gAABh8AAARUAAAE\n",
       "+gAAAl0AAAS/AAAEWAAAAtYAAAJoAAAB3gAAAEIAAAAiAAAAHAAAAYAAAAAqAAAAFwAAABsAAAFz\n",
       "AAAAIgAAABwAAAAbAAABKgAAACEAAAAbAAAAGQAAAToAAAAhAAAAGQAAABkAAADKAAAAIAAAABsA\n",
       "AAAZAAAAhQAAACAAAAAbAAAAGQAAABsAAAAdAAAAFHN0Y28AAAAAAAAAAQAAACwAAABidWR0YQAA\n",
       "AFptZXRhAAAAAAAAACFoZGxyAAAAAAAAAABtZGlyYXBwbAAAAAAAAAAAAAAAAC1pbHN0AAAAJal0\n",
       "b28AAAAdZGF0YQAAAAEAAAAATGF2ZjU2LjQwLjEwMQ==\n",
       "\">\n",
       "  Your browser does not support the video tag.\n",
       "</video>"
      ],
      "text/plain": [
       "<matplotlib.animation.FuncAnimation at 0x7f2c53dc00f0>"
      ]
     },
     "execution_count": 71,
     "metadata": {},
     "output_type": "execute_result"
    }
   ],
   "source": [
    "fig = plt.figure(dpi=100, figsize=(5, 4))\n",
    "plt.scatter(x,y)\n",
    "line, = plt.plot(x,lin(a_guess,b_guess,x))\n",
    "plt.close()\n",
    "\n",
    "def animate(i):\n",
    "    line.set_ydata(lin(a_guess,b_guess,x))\n",
    "    for i in range(30): upd()\n",
    "    return line,\n",
    "\n",
    "ani = animation.FuncAnimation(fig, animate, np.arange(0, 40), interval=100)\n",
    "ani"
   ]
  },
  {
   "cell_type": "code",
   "execution_count": null,
   "metadata": {
    "collapsed": true
   },
   "outputs": [],
   "source": []
  }
 ],
 "metadata": {
  "kernelspec": {
   "display_name": "Python 3",
   "language": "python",
   "name": "python3"
  },
  "language_info": {
   "codemirror_mode": {
    "name": "ipython",
    "version": 3
   },
   "file_extension": ".py",
   "mimetype": "text/x-python",
   "name": "python",
   "nbconvert_exporter": "python",
   "pygments_lexer": "ipython3",
   "version": "3.6.2"
  },
  "nav_menu": {},
  "toc": {
   "colors": {
    "hover_highlight": "#DAA520",
    "navigate_num": "#000000",
    "navigate_text": "#333333",
    "running_highlight": "#FF0000",
    "selected_highlight": "#FFD700",
    "sidebar_border": "#EEEEEE",
    "wrapper_background": "#FFFFFF"
   },
   "moveMenuLeft": true,
   "nav_menu": {
    "height": "116px",
    "width": "251px"
   },
   "navigate_menu": true,
   "number_sections": true,
   "sideBar": true,
   "threshold": 4,
   "toc_cell": true,
   "toc_section_display": "block",
   "toc_window_display": false,
   "widenNotebook": false
  },
  "widgets": {
   "state": {},
   "version": "1.1.2"
  }
 },
 "nbformat": 4,
 "nbformat_minor": 1
}
