{
 "cells": [
  {
   "cell_type": "markdown",
   "metadata": {
    "toc": "true"
   },
   "source": [
    "# Stochastic Gradient Descent (SGD)"
   ]
  },
  {
   "cell_type": "code",
   "execution_count": 20,
   "metadata": {
    "collapsed": true
   },
   "outputs": [],
   "source": [
    "%matplotlib inline\n",
    "import math,sys,os,numpy as np\n",
    "import torch\n",
    "from matplotlib import pyplot as plt, rcParams, animation, rc\n",
    "from __future__ import print_function, division\n",
    "from ipywidgets import interact, interactive, fixed\n",
    "from ipywidgets.widgets import *\n",
    "rc('animation', html='html5')\n",
    "rcParams['figure.figsize'] = 3, 3\n",
    "%precision 4\n",
    "np.set_printoptions(precision=4, linewidth=100)"
   ]
  },
  {
   "cell_type": "markdown",
   "metadata": {},
   "source": [
    "### Linear Regression problem"
   ]
  },
  {
   "cell_type": "markdown",
   "metadata": {},
   "source": [
    "The goal of linear regression is to fit a line to a set of points."
   ]
  },
  {
   "cell_type": "code",
   "execution_count": 218,
   "metadata": {
    "collapsed": true
   },
   "outputs": [],
   "source": [
    "# Here we generate some fake data\n",
    "def lin(a,b,x): return a*x+b\n",
    "\n",
    "def gen_fake_data(n, a, b):\n",
    "    x = s = np.random.uniform(0,1,n) \n",
    "    y = lin(a,b,x) + 0.1 * np.random.normal(0,3,n)\n",
    "    return x, y\n",
    "\n",
    "x, y = gen_fake_data(50, 3., 8.)"
   ]
  },
  {
   "cell_type": "code",
   "execution_count": 219,
   "metadata": {},
   "outputs": [
    {
     "data": {
      "image/png": "[encoded data removed]",
      "text/plain": [
       "<matplotlib.figure.Figure at 0x7fd35dc6ab38>"
      ]
     },
     "metadata": {},
     "output_type": "display_data"
    }
   ],
   "source": [
    "plt.scatter(x,y, s=8); plt.xlabel(\"x\"); plt.ylabel(\"y\"); "
   ]
  },
  {
   "cell_type": "markdown",
   "metadata": {},
   "source": [
    "You want to find *parameters* (weights) $a$ and $b$ such that you minimize the *error* between the points and the line $a\\cdot x + b$. Note that here $a$ and $b$ are unknown. For a regression problem the most common *error function* or *lost function* is the **mean squared error**. "
   ]
  },
  {
   "cell_type": "code",
   "execution_count": 90,
   "metadata": {
    "collapsed": true
   },
   "outputs": [],
   "source": [
    "def mean_square_error(y_hat, y):\n",
    "    \"\"\" Returns the mean square error.\n",
    "    \"\"\"\n",
    "    return np.power(y_hat - y, 2).sum()/y.shape[0]"
   ]
  },
  {
   "cell_type": "markdown",
   "metadata": {},
   "source": [
    "Suppose we believe $a = 10$ and $b = 5$ then we can compute `y_hat` which is our *prediction* and then compute our error."
   ]
  },
  {
   "cell_type": "code",
   "execution_count": 87,
   "metadata": {},
   "outputs": [
    {
     "data": {
      "text/plain": [
       "3.7165"
      ]
     },
     "execution_count": 87,
     "metadata": {},
     "output_type": "execute_result"
    }
   ],
   "source": [
    "y_hat =  lin(10,5,x)\n",
    "\n",
    "mean_square_error(y_hat, y)"
   ]
  },
  {
   "cell_type": "code",
   "execution_count": 91,
   "metadata": {
    "collapsed": true
   },
   "outputs": [],
   "source": [
    "def mean_square_error_loss(a, b, x, y):\n",
    "    \"\"\" Returns the mean square error.\n",
    "    \"\"\"\n",
    "    # computes a prediction based on a, and b\n",
    "    y_hat =  lin(a,b,x)\n",
    "    return np.power(y_hat - y, 2).sum()/y.shape[0]"
   ]
  },
  {
   "cell_type": "code",
   "execution_count": 92,
   "metadata": {},
   "outputs": [
    {
     "data": {
      "text/plain": [
       "3.7165"
      ]
     },
     "execution_count": 92,
     "metadata": {},
     "output_type": "execute_result"
    }
   ],
   "source": [
    "mean_square_error_loss(10, 5, x, y)"
   ]
  },
  {
   "cell_type": "markdown",
   "metadata": {},
   "source": [
    "How do we find the best values for $a$ and $b$? "
   ]
  },
  {
   "cell_type": "markdown",
   "metadata": {},
   "source": [
    "### Gradient Descent"
   ]
  },
  {
   "cell_type": "markdown",
   "metadata": {},
   "source": [
    "For a fixed dataset $x$ and $y$ `mean_square_error_loss(a,b)` is a function of $a$ and $b$. We would like to find the values of $a$ and $b$ that minimize that function."
   ]
  },
  {
   "cell_type": "markdown",
   "metadata": {},
   "source": [
    "**Gradient descent** is an algorithm that minimizes functions. Given a function defined by a set of parameters, gradient descent starts with an initial set of parameter values and iteratively moves toward a set of parameter values that minimize the function. This iterative minimization is achieved by taking steps in the negative direction of the function gradient."
   ]
  },
  {
   "cell_type": "markdown",
   "metadata": {},
   "source": [
    "Here is gradient descent implemented in pytorch"
   ]
  },
  {
   "cell_type": "code",
   "execution_count": 251,
   "metadata": {
    "collapsed": true
   },
   "outputs": [],
   "source": [
    "# generate some more data\n",
    "x, y = gen_fake_data(1000, 3., 8.)"
   ]
  },
  {
   "cell_type": "code",
   "execution_count": 252,
   "metadata": {
    "collapsed": true
   },
   "outputs": [],
   "source": [
    "dtype = torch.cuda.FloatTensor"
   ]
  },
  {
   "cell_type": "code",
   "execution_count": 253,
   "metadata": {
    "collapsed": true
   },
   "outputs": [],
   "source": [
    "# from numpy to pytorch\n",
    "x = torch.from_numpy(x)\n",
    "y = torch.from_numpy(y)"
   ]
  },
  {
   "cell_type": "code",
   "execution_count": 254,
   "metadata": {
    "collapsed": true
   },
   "outputs": [],
   "source": [
    "from torch.autograd import Variable\n",
    "# Create random Tensors to hold x and y, and wrap them in Variables.\n",
    "# Setting requires_grad=False indicates that we do not need to compute gradients\n",
    "# with respect to these Variables.\n",
    "x = Variable(x.type(dtype), requires_grad=False)\n",
    "y = Variable(y.type(dtype), requires_grad=False)"
   ]
  },
  {
   "cell_type": "code",
   "execution_count": 255,
   "metadata": {
    "collapsed": true
   },
   "outputs": [],
   "source": [
    "# Create random Tensors for weights a and b, and wrap them in Variables.\n",
    "# Setting requires_grad=True indicates that we want to compute gradients with\n",
    "# respect to these Variables.\n",
    "a = Variable(torch.randn(1).type(dtype), requires_grad=True)\n",
    "b = Variable(torch.randn(1).type(dtype), requires_grad=True)"
   ]
  },
  {
   "cell_type": "code",
   "execution_count": 256,
   "metadata": {},
   "outputs": [
    {
     "name": "stdout",
     "output_type": "stream",
     "text": [
      "Variable containing:\n",
      "1.00000e-03 *\n",
      " -5.4515\n",
      "[torch.cuda.FloatTensor of size 1 (GPU 0)]\n",
      " Variable containing:\n",
      " 0.4145\n",
      "[torch.cuda.FloatTensor of size 1 (GPU 0)]\n",
      "\n"
     ]
    }
   ],
   "source": [
    "print(a, b)"
   ]
  },
  {
   "cell_type": "code",
   "execution_count": 257,
   "metadata": {},
   "outputs": [
    {
     "name": "stdout",
     "output_type": "stream",
     "text": [
      "\n",
      " 83.5262\n",
      "[torch.cuda.FloatTensor of size 1 (GPU 0)]\n",
      "\n",
      "\n",
      "1.00000e-02 *\n",
      "  9.0736\n",
      "[torch.cuda.FloatTensor of size 1 (GPU 0)]\n",
      "\n",
      "\n",
      "1.00000e-02 *\n",
      "  8.5814\n",
      "[torch.cuda.FloatTensor of size 1 (GPU 0)]\n",
      "\n",
      "\n",
      "1.00000e-02 *\n",
      "  8.5434\n",
      "[torch.cuda.FloatTensor of size 1 (GPU 0)]\n",
      "\n",
      "\n",
      "1.00000e-02 *\n",
      "  8.5404\n",
      "[torch.cuda.FloatTensor of size 1 (GPU 0)]\n",
      "\n"
     ]
    }
   ],
   "source": [
    "learning_rate = 1e-4\n",
    "for t in range(500):\n",
    "    # Forward pass: compute predicted y using operations on Variables\n",
    "    y_pred = x.mul(a) + b\n",
    "    loss = (y_pred - y).pow(2).sum()\n",
    "    if t % 100 == 0:\n",
    "        print(loss.data/n)\n",
    "    \n",
    "    # Manually zero the gradients\n",
    "    if a.grad is not None:\n",
    "        if a.grad.volatile:\n",
    "            a.grad.data.zero_()\n",
    "            b.grad.data.zero_()    \n",
    "        else:\n",
    "            data = a.grad.data\n",
    "            a.grad = Variable(data.new().resize_as_(data).zero_())\n",
    "            data = b.grad.data\n",
    "            b.grad = Variable(data.new().resize_as_(data).zero_())\n",
    "    \n",
    "    # Computes the gradient of loss with respect to all Variables with requires_grad=True.\n",
    "    # After this call a.grad and b.grad will be Variables holding the gradient\n",
    "    # of the loss with respect to a and b respectively.\n",
    "    loss.backward()\n",
    "    \n",
    "    # Update a and b using gradient descent; a.data and b.data are Tensors,\n",
    "    # a.grad and b.grad are Variables and a.grad.data and b.grad.data are\n",
    "    # Tensors.\n",
    "    a.data -= learning_rate * a.grad.data\n",
    "    b.data -= learning_rate * b.grad.data"
   ]
  },
  {
   "cell_type": "code",
   "execution_count": 258,
   "metadata": {},
   "outputs": [
    {
     "name": "stdout",
     "output_type": "stream",
     "text": [
      "Variable containing:\n",
      " 2.9561\n",
      "[torch.cuda.FloatTensor of size 1 (GPU 0)]\n",
      " Variable containing:\n",
      " 7.9919\n",
      "[torch.cuda.FloatTensor of size 1 (GPU 0)]\n",
      "\n"
     ]
    }
   ],
   "source": [
    "print(a, b)"
   ]
  },
  {
   "cell_type": "markdown",
   "metadata": {},
   "source": [
    "### Stochastic gradient descent (SGD)"
   ]
  },
  {
   "cell_type": "markdown",
   "metadata": {},
   "source": [
    "Nearly all of deep learning is powered by one very important algorithm: **stochastic gradient descent(SGD)**. SGD can be seeing as an approximation of **gradient descent** (GD). In GD you have to run through *all* the samples in your training set to do a single itaration. In SGD you use *only one* or *a subset*  of training samples to do the update for a parameter in a particular iteration. The subset use in every iteration is called a **batch** or **minibatch**."
   ]
  },
  {
   "cell_type": "markdown",
   "metadata": {},
   "source": [
    "### Visualizing gradient descent"
   ]
  },
  {
   "cell_type": "code",
   "execution_count": 235,
   "metadata": {
    "collapsed": true
   },
   "outputs": [],
   "source": [
    "x, y = gen_fake_data(50, 3., 8.)"
   ]
  },
  {
   "cell_type": "code",
   "execution_count": 236,
   "metadata": {
    "collapsed": true
   },
   "outputs": [],
   "source": [
    "def sse(y,y_pred): return ((y-y_pred)**2).sum()\n",
    "def loss(y,a,b,x): return sse(y, lin(a,b,x))\n",
    "def avg_loss(y,a,b,x): return np.sqrt(loss(y,a,b,x)/n)"
   ]
  },
  {
   "cell_type": "code",
   "execution_count": 237,
   "metadata": {},
   "outputs": [
    {
     "data": {
      "text/plain": [
       "1.9979"
      ]
     },
     "execution_count": 237,
     "metadata": {},
     "output_type": "execute_result"
    }
   ],
   "source": [
    "a_guess=-1.\n",
    "b_guess=1.\n",
    "avg_loss(y, a_guess, b_guess, x)"
   ]
  },
  {
   "cell_type": "code",
   "execution_count": 238,
   "metadata": {},
   "outputs": [
    {
     "data": {
      "text/html": [
       "<video width=\"500\" height=\"400\" controls autoplay loop>\n",
       "  <source type=\"video/mp4\" src=\"data:video/mp4;base64,AAAAHGZ0eXBNNFYgAAACAGlzb21pc28yYXZjMQAAAAhmcmVlAABLbG1kYXQAAAKvBgX//6vcRem9\n",
       "5tlIt5Ys2CDZI+7veDI2NCAtIGNvcmUgMTQ4IHIyNjQzIDVjNjU3MDQgLSBILjI2NC9NUEVHLTQg\n",
       "QVZDIGNvZGVjIC0gQ29weWxlZnQgMjAwMy0yMDE1IC0gaHR0cDovL3d3dy52aWRlb2xhbi5vcmcv\n",
       "eDI2NC5odG1sIC0gb3B0aW9uczogY2FiYWM9MSByZWY9MyBkZWJsb2NrPTE6MDowIGFuYWx5c2U9\n",
       "MHgzOjB4MTEzIG1lPWhleCBzdWJtZT03IHBzeT0xIHBzeV9yZD0xLjAwOjAuMDAgbWl4ZWRfcmVm\n",
       "PTEgbWVfcmFuZ2U9MTYgY2hyb21hX21lPTEgdHJlbGxpcz0xIDh4OGRjdD0xIGNxbT0wIGRlYWR6\n",
       "b25lPTIxLDExIGZhc3RfcHNraXA9MSBjaHJvbWFfcXBfb2Zmc2V0PS0yIHRocmVhZHM9MTIgbG9v\n",
       "a2FoZWFkX3RocmVhZHM9MiBzbGljZWRfdGhyZWFkcz0wIG5yPTAgZGVjaW1hdGU9MSBpbnRlcmxh\n",
       "Y2VkPTAgYmx1cmF5X2NvbXBhdD0wIGNvbnN0cmFpbmVkX2ludHJhPTAgYmZyYW1lcz0zIGJfcHly\n",
       "YW1pZD0yIGJfYWRhcHQ9MSBiX2JpYXM9MCBkaXJlY3Q9MSB3ZWlnaHRiPTEgb3Blbl9nb3A9MCB3\n",
       "ZWlnaHRwPTIga2V5aW50PTI1MCBrZXlpbnRfbWluPTEwIHNjZW5lY3V0PTQwIGludHJhX3JlZnJl\n",
       "c2g9MCByY19sb29rYWhlYWQ9NDAgcmM9Y3JmIG1idHJlZT0xIGNyZj0yMy4wIHFjb21wPTAuNjAg\n",
       "cXBtaW49MCBxcG1heD02OSBxcHN0ZXA9NCBpcF9yYXRpbz0xLjQwIGFxPTE6MS4wMACAAAAY62WI\n",
       "hAAQ//73gb8yy18iuslx+ed9LKzPPOQ8cl2JrrjQAAADAAADAnTFsu53XQ2mHYAAAqwv/wWSuSDc\n",
       "RQAB8veZ+Jxq3QgEUn4plt1cZVCMzj7PB/nortiPaJ7/D1aIbv+nvKv5X/BzRfsgeJUrHO/Aarn4\n",
       "wpKNkfUDTIWQa1j6YYAEvHLE185j0CtUMb9Skd9KTY/cV9ZNiXniO1iNsNXSgfJHezQq0WjRWGer\n",
       "U7js6JKG8KaIKwc5qd7KF2a5p9HA/L6tL8WNTy/dAB/FD71W2SSUOrZ1qt5eq1UnV3AbnjMshsX4\n",
       "22gwm5+Lxf2Ao2OsTMCzDEwDWq0vRnog9DMzEXyTb98udt4FA8av6NjkxoM8b179ywyNi5wF4G+k\n",
       "lq8pXrs5jHLP0oKf0XNu+/RHnmUkwpUkqVvqaqHZjTrUi77ZPw2MAZ76weKZoML1Fhh5b5U5Ek1u\n",
       "To8+DnIhaEMXKRwgP5nyL+GoZp5OKMQy66+6ImphrpXC3TfC7SMlLusk+oBI6L2ACfoBQcoiPigY\n",
       "+q/0a4eU7FnpKEurL01NTSBhmawrb24R6YxBf/TjpFcUV4xrbnZJFP8aPaqnOFGjCgFzVf0kpAvQ\n",
       "RIywULFEkA0VrqJzVzxLspUXDsdrWjjZJ/1IFFvqjDXTcsvdmcyi5UbnJlPa+qL3tRCN6cRlY4ku\n",
       "UbVuxp2IkLuWGDGcjx91ASfQeA5a/BGPLS5AdmdJpaoTAd1wiTdAtvjRKkvKeGG+lOW/07lxoj3E\n",
       "yNI1Ngtr/hJfYmk0pXscJSheEmwWAilobmZ3NW/OpW63vK9cV7r04NmE8J2fMEgpXKW4FJjssZiv\n",
       "Exa/i/L9gZDtN9TBSnnrg+e2ECQ8mSZars2p5Xi+JbqZhizetdTml5tID5pAP3cY6K+IquCwyzfr\n",
       "p0v+134sePT8H2ifzN3X7fvOUmW2bg/VNi6qvuwhNdrUxRpqZQXs759tACzT7f/wQ8J+ksXqcuBb\n",
       "bAXB1gJzCT85MymhUIsdS3QZ67hWUx993qsTn2yWwqAJG5QIBCr6LcGiUomxsziQfeWjhqJg/pQ7\n",
       "Y74WnUp2p5//I/dVTQxMLB0MvfGxOmCWnIVY8+Krw6GX+cAC1UtSwcoryc1tmiJEI4pKlX0ISPaQ\n",
       "Fz6zD2/YEha4UoGYb817mPPTqzRnd+kJHgnQt8kKkOrAtzx+ZQ8jLl3/g8wP6F9QpeL1WIbS4ySK\n",
       "qrgLkceAv0vkhh1sNYIWLCsD6B8jPZAEC68zXkYnB9rzsD+NG/z2sz/1enCbljWstwq+c6tXOiTM\n",
       "N84pTc48nw56f7mPFYLBMhCvVyJtlUPEiVSEk/CAsbbnLf47//Fq9Yc8BsA9fUCBTfz82bcoM5b8\n",
       "fl+f0E/DkVOqGpHEbr7fCWmEclYCPkBYNJjflgLTLWtArs2/wO8uiUlSQwomAhDGlVAPVmgxpKNN\n",
       "qvZPvcY7rdE1XSTPa9/G9nXp/14tW1MkPEvhBcwv9YBmBJ4lqxQ5YYpc6rauAG/TuMUZDKKy+R8C\n",
       "6BqSF3jLVkpccGqNsv97sLjw7p/Abk7VyaVzvdR0rDIP2jepZRnL0FR49hRxHgyTagVrOBnX4XdI\n",
       "6Zbb/rV9DcE+tkqNEweA0//0/sdPrdxqtcjdfupVu8SQ0w31PYbUoyFmj/aNQnxL3pj4wQVHHlw+\n",
       "/rJHfIX/UKqAYp1CHVFRheUROGh1FXVpfskCgD5N/SSCS+Uf2E4iuAKae+LLyJfw87Id9ic5qb0y\n",
       "yIM9qz9IrU0h1uWFhw6S8iI6ucJF1FVgnUqcis9ouIjRojBTLhWH2azM2OR7guBiTsIeb4jCK6VD\n",
       "yBLdyK5279exb9EWl6WQ6BQbz7Cv1ox48ainvJrllDY59o1GAP6OgDTokCjZ18VzyEInPEXHfp+h\n",
       "KZJp0oJRxsoGsYsLpQH7Xxk3FnUW/dm2zGa0Rf6LVdINY8vcV2ZMX22EZXSz4OJ+sx4lwNbK4Rhh\n",
       "tU+ETCfjGwronZ5ypj5hDe61P7q8IrHpCrJtkg57h4X+6trLtjCgnm355E1a3Cu3Gva1EHWRupKP\n",
       "oD01jhla8B4g30+PDiLVsHStzrUZZ4uOHkkCe5LbCjO39HGklB/6VDC7XXLgwspK0ctNooE+Dqcu\n",
       "fbTrfERX9n2hqxxNt2LxQWB/pzi+LUXq4MQn5VmS+LxiNwkIq+ya4S1on7ZH51q5Sj27vc3N/btj\n",
       "syru7K3vPwCNlmofoHz7jTu+/uA7lud/ehDqQ0eE39TWtSz79umYkt4/viP4qnni7whRg3uPIE8h\n",
       "FV96OFkZMLhLfr4plqHIS1RriIZA4BFkl/AAphYmzHj663TJfcWflTl634llYmToQtXgegONDFHs\n",
       "XtZ4Yj75wJuIfLxTGeTTFI4PJhPLiT2Vho95RZzmIcVNU9hZI7RfBDPZfaqBe7thrpVldcRolbcU\n",
       "cMtbskcq7i6raaXbHUk1z95sdnSyX0A2a11caPtzYhh+gJCVYMuZMBivd4WEquoQMwdNzPrM2ojE\n",
       "EBeYVcAFsDs/WaKbIQ/cjqQH6yBzh4XbPcufJjUwWAovpx+INrCebXWBia6epeEK/x8U5EiN3fcK\n",
       "7UZPAzqMY9nwlNpio4DNQQpy3W8pTqFxiRsl3UBeGaINOLeN1uEp69i7w/wQynpnn7k2sE3B/6kO\n",
       "B1DllN4b8GPgU4J0vq7xXCCot+INzusIvVpAMLGo1rP5SDKIYYZI3P4Hf+CzLjKUPB78BYy7yJ1+\n",
       "++T8E38uqQxcgxo4KUBP+88DgYeUZubg/AFrAO7g/18UugmLWGG3zmhdGXtd0hehhuK+UXe4lZQQ\n",
       "WBkvbzi8bTN0ZfThE/erJ55cEJZMel2brwboSLpnIcBN+AQGp29jfh2b+qhP7GH2T72xdn4N6zt0\n",
       "DRBJwetT29mlPA8l2niWUPWxu3t5LT1xQEaWUYEADtBpgqZnB05tX4Q3VhFx0jYXW5QuOEzpBZ8z\n",
       "N+gFBHavA5gOxm1bx73BMXwEF+qbBKXoCGfNC0NO9gcK7BvZ+YhPWlCzKkwo0lhveE8keBHLbhqH\n",
       "YxkJ5JbAi1pYNH1aEiV+bxa+GBXK502K+611faA5LscjrbRNM+7eToZD4gjUojgBtxGs2wZMgNXQ\n",
       "99SGUyiWfrDAr7SbhNt8GZ7cqV4QzfXy8J7SK+QM08299ZTxd0GVSnnk1aa3HEtrHqgPRw9N9eLI\n",
       "v79ue91R6aTxlG0NWJEyb0z6oAkr4ST+GfnbcaDc0WTi1TPDQPMyDvvl/IJkQZdFZBePW5PF5bmd\n",
       "P028gord2Mq2NTAPgp28aMJ9Iy8f/+PYqf16XCkRr1WnwNDx4xUFH+IV+YaOOSLtP46RuyDZJR2c\n",
       "R/J4/fV9eUubDmVf1HN6Hv3eqaMl5fZozF/zErTVL5kbdPVJS7nPTX7zSAHlUV0Ns36bsplmEAXi\n",
       "bfXCepaRshA0nSjdesp4Bc/fiYK3M6UVQFbHDaX3v2srzlHhVqchX1C1KVdb+GRz1gKPmZswELbr\n",
       "JIhdFXzINvna0g4YnLfQbGS7V6FIou5Q7cIC8v+yDydIQ5QfBEf2QrukY9Svd+4eP4JmN/MpQ4fX\n",
       "19mRmDBZHVaAxkEkwuxJLyBgZ+F54Ok/zdDLoCJqZblXstTggPDW2zeKT9ljtNJNRubsZl/+/vv3\n",
       "iY+xFkB9iXAX2EoJoM2fyY0rQX941BZK2oZa0fM5bkUhQ9PVv+WcjLLiofS1HcZ860yLlApyd/aO\n",
       "5SrJXM9QsxB2SHiZ+j9fmmNDWyDwNaGQCflvnxa/3wAA5pffTmAA23B0J7uhsMrcMFyHM/1lAT+E\n",
       "kKkCnSZqkg7I8/l+rHnqRU9EONg5Wun4Seu5wgDyved0lrgoN/GK6ugvqVqVeFm+//tVfyCek155\n",
       "jL+6Z0TRywY3xfyM0ausXFKjo23t/+iwXdmv1ATeHKOFV7Uoe+fKfzMleoq+ce5eKdTIaFjejAEh\n",
       "YPptkcJhHR/PQaaVIDhNtST9eviU+nG1q4/ga8k+7LMi5DxGOzFtpSVKYcXLERUMz6itPXAD9vxd\n",
       "m/CIdCA5S+duOMUKgm/XsfXVBLG4X0Od7TXAQedztXmH3P4XWi9NNkdFeV9GTiX7q/0P+MoFBf7O\n",
       "xlBrxvAR35r4l6gN3B1EuhlJGqE+EQFcej9mNMQcAOKUdo+7L/GuXuwsNvaFosTWXVtTcDX13nUb\n",
       "1ey5OmtNKW+LmEx/cnU12Pd8JyjoPPea+OGhCl1QPNN/LHnVBYf1guNU4CYyj4cirm1JZ0CpBTTi\n",
       "9sJjcSJaVi9LovfQYF3FbFgzcOhu7J/LSrzegXedTCsWpEahwMF0Jv4+3qQyyz6gdfVQ+71Xv+5P\n",
       "yALzlotiqqCDjwbwGv0FcfY1Ly6Wbqj6ijjfHWcH9uFjHyaqnSVsjVvE5q1zkfSgzwXCkhzaHsw6\n",
       "XNWVwr23zcOlfcTUVjifkw+hUxYxNL93yRpNoARHP+FDOu6eeHxNslQHV5SRf7jgUZZke/uZSwX+\n",
       "a+q1+5D+CzUI6qdCwx1tJmZ9VP17PE7i69rr0wm+gpFaAqz9t4eEK7YPBhGtgxYNsdPO7rl2atux\n",
       "2wG6/BEtwry4h/eUriTRXO2FEiujVru7HrtDBzdZAJcV5ZSPuYsB4XafZBiUm+gRhAf7MOGXc0E6\n",
       "NevIEXxqA9mSHQv+JuKOMVZ8aDQwhEOlpQIKbKMQ6+rL1p34uDZ6CgrSmDRWrwI1x6pL51ljacrL\n",
       "xPUj2GkOLLlmwoSkoKG59EewTvwPotHyUEd0t4UnzmqnD7lhu30h1kLM84I129eZe9X4cUvV3IG5\n",
       "q5qKxrfuh2dRYSj1iL1yTHU4SZ2BJDi2VYaBdeaJjuGOQVQiG1eRzQ899ugya65/o5/D/SLTro69\n",
       "WM/xxGytzC6RdtinpZJ67kY4I+w78vgXxr9zbzGBNX9BPzmTtbhT3GzJDV4y+VMntczqHw+ybwNw\n",
       "+YnP071YCDb2XxcoFHlhJbqGtX9wUM+S8Bns/fMBImhyDjKzYqrpbbwqC4Se7jCKmyqdYOxlJGLP\n",
       "16xVkvURTJ59UTUgoTylL8dqRXkHglMzb5ut+uIpdsfOaYuB9eO+ExJhGz8YwlS9rDQkYmYLClyc\n",
       "m6BF1Ld1xWQXCEQfgBTJ/Zxci1xCnHGsaPjdv2Th+tYN1/rhV/DYLExdwgPxUuUOw8aLsPweYlG8\n",
       "I0jUvKGGe3MX17hok314SdQ8yBG8brCL3RLRaH/vUQq3wLSk3DJUZ6Yj/U/t8SO9O5k+rq0eov/1\n",
       "sMwUM6QRXgxoNA7HsCu4xXHFLHpVjDw4rf4xMb39GskMLA/9Id58Lk1jHL1lM5g69PnwsMA9dCt4\n",
       "uxGfrv1bT9sC4cNasF2C+WAGlbWbtsdJeOcPSqZ9M+QAajNh1x8ZhABJgJFFEqoF03vs4djaNvw2\n",
       "DGa33K2x3XSuxLcI0uJDuAaHNL39YBpzVOS90eJ8edJn4mzRI1EB1mdCU2gzRa94b1R9GgXuQipH\n",
       "tBQZoTDYEgQ4C1+06LxxwKu8L7qLEK5507T69W8KnQXeeLPwc6fAYAAkaqpwPb/UyZeFNOccncb0\n",
       "6CwYLjmjgVsryvRdRKpoza3wVwxz1/KPBPSQcmEU9WgQazk01vqP+QTdjkX+8fWU9Y379XCr/kzn\n",
       "yYCYPY5HRnIjOl7mFkpBvvB5TTkVf151PvsOCQeJhBdsfwKdex2BchMB/9Hqn/+1R7xfNOxinbyT\n",
       "SP17lUArTmmLrJYXyJyhYMu4D80Dg2xIsMO/ULejduF4DvVoxZrtg4qibQGNdUCvpKGZf363J2MR\n",
       "sy67sT6rjFwge5vdQpS4mrWhn/aS9Kjv0aRb+HaAm9y3K6/xDjJACS6oUXyLIZg0uzhv9/I41gAZ\n",
       "g5HddEUn/e+MZmufEFtrTtlknPBVi+eqsPZcMLmpNcGarxDVnv1ryP0xceOU1Yzomfd8bgOyjIly\n",
       "r/ggIkCbPg9nHuA6qnM00/+anK22dBkOnrI7uEjpf77dggabJhfse9NTT9subsCmkdBz/WB5M5B5\n",
       "+errGK9PIz8DFLuSpx3OnPWNtqI++Y+64FLQ9hEjyHELtFHFPmZGXehNr6gj9ej8EynbvZZe/qW1\n",
       "S8jx5MgWVn4H/3usDdOTGnkCQh2T+IMFzICmt1oaIDeAbkOjkt/0XMIkA+A98tthXQrU+WAku0Rq\n",
       "R6/UNkUzeSmwNcX//FcROef/HbLE07hbfb+zmMWJ4LFyNTPLPkTw1eBU89vLot+P9PTS1p9+tJfZ\n",
       "P6jT2MpaEn6BiNnZSHXSKXTg/wQvNTzE9E9M853CX//C1bLN5l8Y/gObQfFVOyB/0rMOPGe2grcY\n",
       "9Tg/Dx0c738I26rkuaJcYpD4wpODiWOjNgcGgYP2awVyUgfChRlHp4zufaUjtiU2Fn4wrrvg6i5T\n",
       "/KKuhzPkdV0eqCHZ2T0m4oL9nkIr22L2OnwQO2AlE5wlTqxqZR1SPH0n+dz7Y0MYlrm9QOFIURLz\n",
       "aoftsYAssy8+xLDctOrasV/vVhW4jzuExXG2d/IC1uwcn6YmyCErE7NbeEXAw8rVJLhIEgdXthxN\n",
       "whGhKXHvHGPxq+5Tvc5OCNJAvMuxqF7q7+tcR2tFBJGoH+84N5rfr6SYF5RS1cqiL8ou0NKfunAA\n",
       "HWy7aqii4ZYJcIoXE/6uQpDRajv0a76IahL6ULNeio8n4bqwMsuz8WtclRTpN+Pa62RdkTA3BXCk\n",
       "I/8RrtoPoYnWoI7rQiqTefzZLr5F/7PdMqVM83trLyXHHtmPdMHScpSmKy9QSomLyhD1WElWUUTt\n",
       "aU1Mv7gnoT84IkTQAJGvR3hwKlpxIeL7qXAFA9+Y+XLkeg4nSUJK8PNZaSY0tMdKjakCazk/7mFz\n",
       "bUwQfjwBe9yRz5dxou9XbRn5+wp3YYZWF8Nt+qzZ7Z7uTazxbktX6wJtdVOc2HbvylKAH0m6pRh7\n",
       "2Mwdm59qxSc4lKp7ath457ZwkYUPS+eJ7d/4yL02cbGDkShp8/Kb9xsdhva/gCYU2qX/i+mx6sA9\n",
       "HxNSz5apWy0wwTnePxE1GE6T08b7W/SiuYYtPkaGAqrGfNvDtp3I7ZpoA4ypQ6JSrknFURnavuT8\n",
       "TtmeyE+IdbopfZS7wECoPz+3JUuXGAzjh5+bGqD3gzXaBc9qGWcmizrrFeKJ9trluvc7rlHMSNoJ\n",
       "k2wPqGrOoHEcvqq7r6se51Q/frpoy4VgkTe6tF3Oa8IeyE+jDwOQsRA3s/VxKaZti1114yj2kMd3\n",
       "yRZn2igMQ4dEbvhG8m72pacj8r6dpeEVh8PnUv30Dom+GAYrXp51Dqa5hC/dpoujugrkAke4uAzY\n",
       "TpYB7C8DGNMXodT66m2XcvA6EgCk1qJLJr27JZo6hwEex5EVHaettR6plDkHKhMCjzukFTWBymL2\n",
       "lM9RoSoY8/nQZBTg2NJF54xFv3/4vskLzn9gBocRx/1a19lj53GnQVebLw3g2O3XtXqb6k8u4x1U\n",
       "Bao2ioqDJZ7hCruNKGdCwiXs6EQp+oDE9FGDr682/nRq39DKOCyPfjnZKjoA4UvEJjIaR3Ub1Ezk\n",
       "pLBhYyZU90/ZtA4fi++37CgQOD+7zANuRv93O65inSBJDv/pJfpRSkG2tx0fTqR/+IIYn0uj/dTi\n",
       "I5xu0voUXMhNCW81AzfkD+mpYsfsn66gU+W4so0SLgcBopvqngQFRLK7ILUazhIfjThSAag3IjkN\n",
       "ycJIHfEXnKDepVmen/z7oeXJTqzTamVdkXvq6IEggJD0GFWwSO7Q6YWtCpaCa3QSCTQpQHMUoI6r\n",
       "e4/9UMCynVh+jp4VbtuzYDDZykwiaCgHyddcT7d1gZpYaFo1OTKHU1KueFKGMLynESQp/vSw6e/K\n",
       "W8LGeZndgU58Tz3VEVdxDnAjoKFk8RhvNkSQryg/Oy/T7/8/4KCrhFXiCMwlx/2xC5lzHYm3OSoX\n",
       "Re74dstS9Rq3JICzq/1JRoX90YiGuZBwieQrJnudpe9RDV3NDLkoXlc22YyeC4TU8Kwb1mmzE9Q6\n",
       "X5m5vZj2EGjq/WJ6BPgAHiJz30G8f5neeruZKD77/iTI5SPy0OsLSNKcutwslbLqwPU1ZcB2xEiz\n",
       "kqptnvy/7e3n5nlUFwvqmZ/uiJp3FmcVR2aYluy84V03uHKBDQAklEONBnqLJIKM+1weiZeEA1SG\n",
       "qbhwvRf1B7YB82BwkNFOgh48QLyQBevpgQ9QUX17ckrnkKKkT1n/83gpdQyTUdpTVYS1SFGZX+J1\n",
       "qjIKrAwjHxoWpx3jv/R0VDYvjVMZ4MzkqDH32g7vysaEFG+buQCKHtWLZvYe/g/qZwASIMZfaGIl\n",
       "RSEYwQL4LBwFZ+Rj/+SgKOcNFfXojr//UWpKMyIC4aoVNZ+TLsvCtzxyMvTXivPOKTaw/t/xvy2K\n",
       "68qgWRoi/RmX3tLaSgKVBNQURMv7ubBzaOekag518QfU9V7pnyfsDaIOG7biADuTkCdYqSjI8uec\n",
       "0/bFIdibl/eRTGwDZrE3t2Co/6FnDS4PiPhAg4Vn8XhGteveCGw09lnvqFiO8AAABDUAAASBQZoh\n",
       "bEEP/qpVAAsonwACg1ujZUThuPwFUXKUKOqgT8WuPjvFHot0bbB+frxtWIblM4l8x6FMgUMp5Irp\n",
       "8BFTkV7dIkJ2boYIufr2toTrqNnPBalrfCW83Xg8RQqa2bQ8emWdibybwx2TlFeIr8oJZnPldRSb\n",
       "s7+ldkxRuoVSVMV+3iBde2zzeNYcLQAQplEIPu6RNGXwUYeacEIND4qFHi7ZwUt79kP5PgehRzst\n",
       "QootH39rxCiR419QM+JW09rOc1y9PyyEWF48zuiyyph+NFSIb29Aj8ZCWcHBvYBlhoxshF93gvg2\n",
       "2AhglcPoieT1Gi9rdmb7xLN2nZzMNfwUw8kYbrmQ0EPTQivvzAuCVvDLxywmku/PlB2/BpozpzHt\n",
       "J2SB0FPC4hgoSvGRmCfIzgVlzqt7KgWahjRCNsFY0zmgL265qG7uLxfCpe5ZwS8KCiTsRr44ABhv\n",
       "fR94DzREdpAovkf0xfqd7LEXLy1J7a4RgAhAP4ikG2XMPjizcT+pck8rqsI1Zf1Df+63+6utnxZS\n",
       "CGYbFOtF1rt80M4KA+RfWoXrOc4KFkaHvsseihmXBuo95jiaMzi+Rdzcl/agmx/GZOA2uG/RT/X0\n",
       "9zjnPQpO4aZoVPbexfjf4OIyTQV3Sh+I+ZbHyqUVFDkmvkhM1AJkLNMM1jEtSjIihCeygdXg4tmp\n",
       "jyPK+/EfMyz3IdWuoMq1hvJYFWZAKGn0N1SYFggunjpqrH951kCQTaZvsitzrPiBwnB8tAHXPkHm\n",
       "VyCIRrdK3HEla8Svr2SWRE72z14IpMhNM+Q5OgBN3I2/eZ19MF+X0LmHPe2K6cUVO+Ncuxw+BNde\n",
       "5EtyY/y9grZA3tLAfBWpnD1pN2I55U8S8Y8PXesUn9w92lTbdxtIIuTFTemK+RvoCJIaadi0vg7j\n",
       "pG1f3ZCuDy1WYim7Hz5JZbev6uVOXgmos4PXaxkQ2m4aWMQuLh9yIJNRPCYmZONfvR5RJGn44Yg/\n",
       "IYw6d3PHbsSmyauvtDU1CbNxRspAH6CUqb0okJCcIf0PxnCQJlyxmTGAhmsX3dWzYszrA3AmbBGw\n",
       "Ss/+4YwYEpAcQy9KvEiq07Pb8lQGeAkOOKKKQmqhF5qYDqBo62gpOcMQtVqbJ2dpe1QKn7Yy/wVO\n",
       "frt3CTCGYETeHAdtuG6tgWXzhr517ZcQ5lVCFT0uyyUKm1rl/WwQ0ukbf7i3+Q4nGqPxvjJDUQqn\n",
       "Ec21pmS9QiBdidSvYDdpwRNe0J+9yR00XcGb43EVdMYQkKkc+UdWrFN2w9NrRmR9JzTeciE7xnVt\n",
       "oFsydekksBaUx7D8Ihomj/jXKv3qHZh7N5RxLOsmz7QQgfqLVdOV6llHdCCf4X5IcLf9uZpM1a9n\n",
       "emoajLL+nvfLjBiyZLjCBQ7NxCRmrSwWWuvcg2x8F8Kx74VcC+o3QEltD30nKFkQYUUozhcSqZB8\n",
       "V3YVl5Xl4CIWJil00AAAClmc6MnpgAyMBrxS8ADjVivui9s0+WxhTlE/ufsWShyDCtP0TFeTnsCy\n",
       "x/b4rcuVjK6LnAAABUZBmkI8IZMphBH//rUqgAEJ11//l9aSAAcZJYtqYnjqDrP8Yh+i9m08Z3fo\n",
       "b02I4LsZI3jcAyCRiMO1MWIqzaz9nmxlMxFSaULn/nSGrL2xF++PJJ941QUfAYdrWtHI2NIib3zu\n",
       "W5g1wmCc29zJYlZAf0YusSXO7RVhtoXl/GbZp3AETwkKF5ZzToAE41nEYNFpdPVDL/1WMTog3KGo\n",
       "Z7Luk6x4+dufpnnulVXi+UHee2gWc1NjvG53Tm3gfUgAckAvScprmUA4IX1lBHX4T5Zh22PdMFG0\n",
       "4IKS8Ju7Z/E8cNtYvMFIEKEkj5NU8A/aiYi6w5XeTuXqoWCBbNvWEvcM9MVLzM8qygJJ7grmlzhw\n",
       "O+KaAOwNLLHKStuymRkTkQ6qw+9Jj5H2Q8lMHoPwTJvSPpoUgtL//W+X6DiLpVr32wNhku/946iv\n",
       "wuD1G8SWQd7fjiwtNHt5UwU5TWrkywBS69MpYmhKoFNHmdpgBjlJFSgi5OmRivhQDS+OjH1wTB8y\n",
       "iL5IK2iuqwM1TyhTIw6bYko0IinxoF6swGzJewt3la8kIWX2J0A+j9gGhzuYWgY8Nrjm98IGkSEw\n",
       "0vQJ7TH/XN0HSmqirzB8i56hYUFSopgCfqQ9NbedxF1kd2Oj5HbdhLxTfdd6yaKK4BJJUCCe08GE\n",
       "pl0xlDdsT19GOSlEHw5DJyiS1IDsUVevR5IEiHsQi/A7rSIiXs3EkAmM+Q4hQQBE8sS1cwWDzoW9\n",
       "6kZ/OC8XottufrBUvwMLaju3Typ/ro8sK+fnYo6YmwINSmurGU/wzOLrZLrJdW6DzxGTnTEj0PtG\n",
       "zF2qepwmNKRLJUqQFUQWFewe3sIzQdn9SHFs8Crz33jCpZXsUuw/AhweoexSmrH/pJJYM9ESN8o5\n",
       "qHG6AiZMAnnP3AHtXcJ+R5Pw2jypL87K8n/Ihs/5TxZI6ctILwRWR3GU9HNY+u/NKH/qIQ2ABo0d\n",
       "Eij8jDjVxLcGGhsxlcLK0cIkYb3vmuIAPKLNtVCAZPbL60gfjS9fo5E70yaw6oaU4KLun6wDIvnk\n",
       "6ngaPP3D8pXFOiWNNbxZFF2/ldmTCAzXng9q0YDC6/9feQf/qyq8ltAXvGK+90D/MQZqKo0JNF0Z\n",
       "qZvWMYukttj4jzkdtNr0rkn8c4kO4nAL4VXr9V+jkz/GEGDWtcgyHRyCkIKVg139BkJpc+BV6L33\n",
       "bwyLXZs4i4IPkM0rMNFnp/9BUKoSAb+WJs2dVyxEFm5/SdUD6dFJT35b6xnrPedEFzNzMtgHQMcY\n",
       "qOB3icwxD/HakT20tyq7EMd3wKld855Yies2G0U7UQC2iokFzm8XWMUJOwBa67HByz4ubdfREAo7\n",
       "51dVsbwo6ji5AR5slQNd9e9HXOfYrCcwJDWRUBSybTjZAIVhsAukvAsGZB9ugV83xuOSOstQhzJe\n",
       "GmOOqU/9Omz6JsIC/pkZeumD8TDz/g5y4vfCiuSaBDmm9krmWfNgu7QmCBH4ZGhavFLODsBpvYwz\n",
       "lZ47uB7If66Q5hkl2y+Te1D3w2Qw/bYdMsnguyFI/RK81zb5ZKTnmLNtWo6qzG5KBxiBCfGBdwf0\n",
       "k0h8ucJakeVKwQ2qOQbj8KKGpJT1+yGelEZkfdZE0sS/9YSR2VdCBGAem8N2Jsfi0sakxt0g9cT2\n",
       "PXJaoRkCnpDDy+BR7dRR90cLctKsZj56iFjcRYBttnQb1o2oAlohOhSkNZk41lMbjuLGh26dyIGR\n",
       "X9cYMBJMgF9+IcyVlHF+U0+FIssLs/7IrcCj3GeZk2U7vUdsEiJN/aW2bIEzYPvvWCYADUkAAAa0\n",
       "QZpmSeEPJlMCCH/+qlUABSfPrQAWCrIQBoI4eqDDfcqKt7osUS7/14mEh0+bwe9N2NiVVr8PUeVi\n",
       "xkPE6rXsgpe84txgmXyuzDs3S3Mdb0q+0MoI2TAkJJ0cNe0+cpgkIpC7qegxFBT++yzezU+zR8aN\n",
       "vm9LPCyEoNZ0KTX9zqHumX+MteS9Rhc+D91c6EWy4kNy06vbqkjyPUbS4Q12zwqR8mYfY1u+lXRj\n",
       "h80kP+0m+fiwnR+o1PrDftrje8exTI7Mg7QZk1ewZEZ6BdDhXYEAPwveIcWWBa3pmL22OeB9Owxl\n",
       "lWJqzWS2g45KcavxEpoORh7sOd4cuqh7GIY28FT5/ZHfagRUk3LaRpXB1Ezs62CkR+f14f+Xa4Wd\n",
       "2z6vRI4e+dJ+8vBPQcJGq9Y2S8JcikWNGpggzHQ0eWiS+yjdX7LusFHkb0OIMdVEDrxet6vaWtvY\n",
       "EIk6TPm6/kjUlDFq0mOoH0L+eiemYn3LKrTnda9Wap4431khsCtJT088CwKNAV77ZPU3HsYJ3yil\n",
       "iyvlWlFA/mnSPS4RoxC6BaGgEmqUwoZVxAML4lPBgsm+pcyyLFO7cVO4m/iBvdJoiCYgbrKHz+xv\n",
       "eMSuWGbhBM3CNuZ0WJROuk2J/vqq5irnHDoM/L0G3rGZKcIajnJ7K7rEg7oSzYnnbcyjc4W1st8U\n",
       "RpuH/uG2vgBl0mv9nQazNf6EzUtTIpuDgSLztEWCoyG51HmbDKLAw1n3uNPG6yC/4FioIDX3MDNI\n",
       "YFiO5JC9XFhcZD9QAcEQH2cWwVl3lhdgX4tvSgYIRhdA/+kjqtXSbSAGEhXuqDqQbY7rgRp9oj2W\n",
       "cKiJv+yjj6ID621DlSqfIOb1TS8dApsg1vz61xz+tNGwYlFzagjGh0UU8mhs4o5abpJdDmv4B+i2\n",
       "IBBhSnE12PGyFQVsiLNqqwCzPZN/dE1ih5sCd/MEb/S4pDJAkQiNmZIZXJh464w59CijNWkdoTKO\n",
       "hDYeDLEHz+zaZawZFvJgpeidY4iVVwzZGuegUwZYcRWCa/RHlA4vqIdSAYONotgY2saHaWVjoiIx\n",
       "+PYuEvACOIdUsxZqjW4mLkga7PGBHXU5qzx0khTnZGzDTWfaBD4YjPdr9NYKTfOKYM5z/mkbgPYB\n",
       "Xuu8Q79H/PxnBs640scx1hP3qY3YVjtwVmOGYTnhCPALglVBGuzekKiCnX9pYFzu8eeVtmgISFUB\n",
       "8cGbN/2EEG9mksY5hIDBcNAMl4Auunc9pJ99+oL7UwjeFpj5BzKu/xukq/L//SAn6wo/5siWBH7L\n",
       "1Wf2/Kdxfi31OfQUL/6MPvAr6E6Rda35DMfuGSt2iIXZXnisAb2BbAxfzUad5UcuNvhOGwSn6kWc\n",
       "KZmR6h8r1yoP3ahIvelnPHMVTbJzw3Rmo/Gx/vjJ61uUX0tdxKR4Wjq9YzcvpJowzUIXeWZhk2r0\n",
       "87eh4oNH4nJzmTqiGQJseFBj/Ojo/kO9cXLmByisQIkWFRiAR/PoqZrC7u3oJHx/DOyGhOMNzIIB\n",
       "ubtqwRHqXBpACCBlk24pL18wvRoV/toWMCEBxIo5jYGMi7zGHWM4Da5C7HT+5ooqrtXxGB5jfT6F\n",
       "j1Ho7ns+fk9l81jxtwvbSfmsyqLAMoXMuviWZPOQ3cSezFXw+yQzwrhzxxhz4DKKTK8D+5pgJ7+a\n",
       "xumZMnJpBAcB7HSyTgVeGvDr5ZGbXQKpZp4Df89UMCQ5QB6uNkh0f/rr/lhdx/ehbPdQYD1sAxz7\n",
       "NHCgYqwmzBRbW0FgHQbqdgxO8ZbZXATj5YFWO5eXfFUMnWvGJvCsPI37kfa1J3KRoIjYGM2h19jr\n",
       "em7gMSZfkzUYpHCfqLRijXszE3eadPw8FFAGJhG40YmWXOCBKrfAs6RJdo8FdT/YuJo+q0Z+XaBo\n",
       "dbRgYak+xiCRPwqtyXYlJZRaphoV1FfIUCksCvViqHX/vEwjYxBiU94hAjpirxyTffi7LwXmTBH5\n",
       "1xca1S+qOrkSsD7hfNINQ/kDFBSdl6r09VsP1hao4nRQkggCWZZ8B6PH6iOJ7KWVrayg5VzyXHJ/\n",
       "8x9D7d+HHPZsagW/FVph2P+pWF6GVbwhd4rxEcHY6VuY7XkkdZx1jRzoA1OVFv4u2wLqa+vbBRDE\n",
       "a9FLvSmAoA+R/HmFcDZqucmRt+OVzY6tT+QLEquBDsPGV5gNpTq7kl+3DvxF179djFR7jQ7dqTWa\n",
       "tVOnnKo0IDdLMM386vX3dIdhnQDXkNGQXg6FgNQy1BT7LIzNMgZA41OPw+3odT9iIyzpKpZ6uWLd\n",
       "6WxSwEXcAAACtkGehEURPDv/ABDYANAqlb+i6l005AQAC+a6S25mY1SgOh6W4OA6yhamsrQ3enuC\n",
       "tndd97khJWfILHivCBrLrFFs1ZqUmojQModNC0A45CTPlZpVA8TOvL8FjqZEq/NH83aRyzY3DF8J\n",
       "qTqWDAldP/DZAR7StkryW2p3lWL6J6aza6KUPS7zd6VIvZW5OXlHvOkUbM+n/Cd08CeLh92mcCuh\n",
       "9w/GVXQC+D1iPzw/XRzdnNosXUyAMrzYPPZNBLUtVtgZWTQa2de1PdgU0h1eYkJTYALuWzDFKRJh\n",
       "pjGRgCIOtW5SqA2yq+7Ely6F+kAoFRPhYXZSDMfvuThVLGtM+8nGYg6UVB9312Y7Ii9OV5DQq/9m\n",
       "Kq4lZYnE1OlTTdosebI9Yc0LQOnsDb4OG7o2eqVD9JcmL19TB/V7LKPy2CZ5PX9O5WoQcLHBLmyk\n",
       "jph81ifWj07wHOpX3sZXh4dIM7bUevjl6eLh01nbb7Ff3jmNkPnf5h3lOIHsCs/UuU7J52j4RDQ3\n",
       "q+XiZjgYhQrbqyUx42SehSBd+zRDoThhSR8oHGl+1s5p1pM2GtvoooyMPRNgDpE/b5V901Bb/r6z\n",
       "4A9Iln4CDHgc+S9Kp98TWQTfGheen7jihgtXjyUhjA07ihPg7Ru5znetPHC4VyaAGMoAoUzfp16v\n",
       "nRKQldgcAzpZPXHZw1EjXU0WWUVIOWJYkm1s3s4F9AB264TSnV4eFrcY8gtEVCFKTpWlTg9pXOWj\n",
       "zYpQ9h/JOEKBt9Do9HAI8AXIHeHBmueQYhiwuSALDvNutQWd02fQ7kkW8YSrKFRCJVOTXVFPlci9\n",
       "KKRrMIrcl3BAwPyO1kkhsEqoT9Ap3j5SXvjOOxuLeMxoJNyzbmPsMharg3i/S1ymcQ2Spef+FtQz\n",
       "7ZkTmU2e+296bpyiWzv9MAXLxGkAAAJ5AZ6jdEN/AA/en815eYoIAIfrQkvrmtHe7MbOWDDCUNs7\n",
       "yPcHHreBhed5u6j9Kj+rGctnk1c6zVlWuCyec6mzLKvuiI43yhh3JWD3afKfY/mXd/TKnZazzvFg\n",
       "LiX7nzhEY0+XKK4KLGoQef1dcX1DlHXwyVVmcly0hail2B1uwelLRhqPziBdROzGwSYOyp/Ex9DY\n",
       "80KnGgaxHKwkQ0rPPP99PHe8sYTnpSWWJdxfSW1vzNufuNv4SifkfIDW3EuTMXFeyiTle9mQra23\n",
       "VYNoUi/vWlTHWaZMvtaPiRFhtcY+kdYA7GK486k8uzvq1iCEW+IKUrskk7SNKxdyJv+AXsZjdFzb\n",
       "T3JkybbGV3rZT4qxlMXIi0GQYqbfDjKqBMTcuZe7ZBYXqntNkJukrxOKl7l1xhuyfpOOFTR+rSUE\n",
       "YZFFA7yaSw4D4aoqYTgOnrRG2cKnQ7fngJgf07eNUsk1NEDKVyS83i0+lFDD1WNLMauTCYaiPAuJ\n",
       "T5Z0JE5526RGhz8UyXO7YR/03x66a8jiC2TfZSALP2b2gxiHke1iQr8eWSNY4ijiphp0UkbVrLwe\n",
       "mXFa8oaEJxw9GvNXHoV1kKcPWOota3PFyKOSb+Cf6VnLlWv58BYQZQSs+28N1B0nhso8wnU+aj7b\n",
       "OLIYTwEomn3Jd9TAo1ZQmhcLa4gR9outsmOfMVhSEVcgBZQgc+xC/iGrNSRTs3yIU7ZpSoxfY0nZ\n",
       "sHMKJKbme8pwu7n/2odNxyiBs4UUSqyRvS4JWlg4T+31RVPg2MeR0tGkgF2kbXyKfXtzS8su8eNL\n",
       "l1HpEEPP8lPhD1oOh6o0vIayyiN7uzNAsDAAAD0hAAACIwGepWpDfwAP4UYAOkAGzkgV/RHoLwgw\n",
       "zZkPYbqjKRl6AhcWabxJzhXGVk6UaNKex170DA3xgyvETxrxaJYTXM43ZVtghBd8+3nWMAeGcfWd\n",
       "WBGFZJq6Xt9DDFdL0w75cuX7fGoxXdACSO5MxUyQoNdwJ5fukgyE0MIEdouJX3tBkMqrhHrWhH4l\n",
       "8xVchjDKn8+J0C2ttWD3aV/s9OZ/eJBP9QWpAYFY3GHqOjPkow/v8th2fa2Sk9TIHyjg2oon/7fH\n",
       "C+Ts6cfJ9msxb5WABXrijqK9YNY8KEZhkIpeWHUR2gRYjlwK67jwrnQhe0WArQFBdDV25b3cyuiS\n",
       "kLZxoL69CgTlYroQXtu4tK6R3qrkJtT3/rGHcZEP5EQWr/WVrM7vpIajhegwW6szpeQAyZRHqtuT\n",
       "k/zb8uPgG/y/WrweG4w+Qn9Bb1ACcU0VgiLE/XEbaiQscqrd10ohxNn//ECCpXmfO8/pzZGmqxb+\n",
       "3Uuvc975ylK7n3wpnSoLOy107VlJlE0xP6zlyLlS64Q1Te8U1QWT23BXMwSN6wz+RQvq3IR7fKxW\n",
       "QGjOXoE64D6bL7Hr8Li8VMkptB35vnRnSFqD2DXAoG2gcwpU5SLaANbVPCK0VErAlDfmIg9Nu0dD\n",
       "wVlMz2A0zH6qnmTObT6T++WpL6TQygZTrt6TTRtPOrQSVk9ecnIKa/egFiMwzQhEwS6qwWL1dl/T\n",
       "BzFWEueLOIAAPuEAAAUQQZqqSahBaJlMCCH//qpVAAVLz60AHRR8lSo1OLlBgqZDE5uSHv9YggSj\n",
       "8ZVfaTuNryq2AccuE31OIb/CD58vZ5a3WtXsTVxLWUjNotLif1SlnZWTy278EOVjjx6BZbC6L+5+\n",
       "IWU5XpylLz//XAI2pcUS3xzFzfEnVaZA2OY7o9LtJX7S7JPYzSobu1/khNppWMTDnCalFu3uC47w\n",
       "f7hT4jVEeg0S/MtJg0PcAsMOklcaeAFCNO/+eN26U/Fxs7byHW13MfOz/oh1IG3RhEPWrw2J2isp\n",
       "c8+3v8u7qz/gw0QfeaxN2Y0rGQghyLKajS2Cu8R13i5ot7LGZkSjYdFiZIgBaPExST8LxXx3c7AA\n",
       "HrhPdCPo92fdqYK0ep9IFzGtwlJAEz1KIeSCjzB5FOBtFAQzTGR5AROT0mgkhahWAUz6nb1Li9Je\n",
       "Y6bjgMzH2s8TPbnjHjurdT90vNG7mNWHYwVBOnnX9uwV4gVui4qoxhGUvAY3TUPlbCAqn8UAVamB\n",
       "MbVPR1lpStp0WTFwBVb10xMLWyk2mhrFCoKC2L9oiYiy9lWtHjgRc8qM2Z6m0AjHsg3m3/vmFxib\n",
       "dgz3voVftsqXCjvo6S4zhbgR9EorX+a8hGxzvYsVBlK8hgtJhRVEjsawqlMwUpq0arIVE/foSgBg\n",
       "GHGHVbn7hHAeHtKcXAY9ikz5a6PpP8gVkFBpNLkvs4q6ybTR6u6Abr7Xy0SZhq9/Dh5CM3bNSmUS\n",
       "ZvNSStIJALjV+MzE/YtrpGFe0lJflXX82AklWv5Qmb9DVsLBz2Fc1IbE4yLoAVAemUZGbLuJD+d7\n",
       "OAf52ubnfKELSIbgo13fdq3vTYv8xZnkcuWqUuRpQT6/ho7hfakHCJy/fBbiBx0Owk/+qpOzIHig\n",
       "4Y1nP+5CswWlgh6w9QcqfOTzpBQlyHMXBrO0VtfzYuvxR8Wr/KvcDKoKv6WWYzz+H1lhLmKf/fye\n",
       "67WXlXaIyamuUxL1g+txxVAedHtr1T5zdij+N+iALLV6M8GQmzQ+5RXRVHFvm0uyQC87eAJMQyFE\n",
       "RDvIv9RUCo7u0l75/o1WEJPwKLVPo0Sa2IZynrtX3O5GEkwWac6J+tVAlVIFVn22DrVoItqOw+m4\n",
       "ZLW7jYkgGHSyQFwYTMGTbuqaDskqqYvQH6kZ8RUE9Fozfw+MDowIRCwGgJIlorFMVnyYJ3QElISO\n",
       "AgsOi+XS9LJ/dWP8ATHnpX3IrIYelAC/evNoDWAlBbRN4ZBrFymg5GdL7ktSvi/BCcmdH0scLUHT\n",
       "2QtZPuMZsGh+qgY+MZ9vyK+BdJ7G4iubd2S+B6G+C7ixYJe2hkR2az85/ou73+bn5dpX6efgor3c\n",
       "6JNxKMCgUAMnIFsnvtkyDffWsA5DlXSnHDT3wj9CLQWHThiv+pl66PH4Apk9NK838Hy1hjIKk2GT\n",
       "GNhgOZ0+joTkNwB3EIEJrO9zxGVi0zraavWW5en21LTE5TQVRw4RTQUOvf4yfyCshoN++12x4lSm\n",
       "UtcNNwZcN3bh//JJdZhzwn8s1A54vUtoPFYV2i+JZ2C3esVzJn+Lezh8kiDhhBteTi9fziQ4uppd\n",
       "iKlQJmgC2awo0q8jpDgRyOgJIzZDdyTGbLEB4TUH3/dn/VqheoHex2s3EHpUl8faEh2+6fW7GpVd\n",
       "ANLfDYQ9BrFE+kc/xuemEv7VQlCoyW1L4bb72UEqk7zog6HevijRvP+mcWJWYNJ7kvIND/dbBRpB\n",
       "AAABUkGeyEURLDv/ABDYANEvAoy9oANndP68lCrIW+E2SbSLjmgkSpq50IFhKQaDNLEFw5OTOj5q\n",
       "hbpXW+iwuafk4c/OV9GRvCKtQmF/x7kpatKRZ56mOy/hc1FGw8D+RrDvGW9V1WK2BjJISIG+kxbU\n",
       "qLH2vZNKDGULpcYTdN+BJIeAq5swfVttai14x71l2xKoyIJ0B7Bhn+6ZfjhoAViP6wXGKqPa2ZrL\n",
       "NKNzr6eehUUo9F4AK6oiJSEhr2mvLSaQA1RyvaLJ2ccnG/pwptQpAPQyW81eGOqHuKo+/vJvy3uD\n",
       "01rN0y+VFyqZQhUEUFNntU/Ag0BQn1C7MsV4Zz9wzVSM09s8Lo0pc/ydsKIRVg8fiS2QJvzU9fa7\n",
       "gzihdXlpUDZ16sHLIKmYJQGCjWB7WUSm5Qny3SVzZ7L+aMXiTz3aOGEApU7uyEYkO0VPg/FGAEvA\n",
       "AAABWAGe53RDfwAQW7TPGO9tg+ADaT36KRlO0X4xWOUTxGCmn6uTglN1H3nuhBRuJpLxEWYbxh4i\n",
       "uHiz7Cr/H0JcCZY7dmB3Dz5Kuecj7l/7GQ3oacHlA1dqVC42QSbFUl+6kU+KwXJnZhfNaCUAZxCp\n",
       "AaaQMn5+nNKQVTBUrKNLllOnlfcGAJMjHngzb/hDLwynB+ax2rZBnpBXcU/Bn09+azuIhJKRmogv\n",
       "ly1sVw6BJc/y/KoWLlaFgsbmtffHLVIONqtPRvHomWKrdeoELKz3q1itQfueY1IbmrgGQimAN0nE\n",
       "vODTbxGWILLeLiDhb4axLamhSd3/TqhRl4VQm4VlLKO06TIZL7mAShfyFGWb9I3WgNrS3AjnJ5a8\n",
       "BDlzwwbHjAdsiiAQAt1GNzFeP7PWZCugwDLtfr1+Jx7dDU8ObyziA1/V5FNvJPDro3rEznjsNpah\n",
       "+AADOSUEAAAAfQGe6WpDfwAQWLwxr9V6/oAEKNSbutMrYk1YwG+wXhqQQ/Nwz65WgRyKPFDssMkR\n",
       "kDtOuJ5oTuASbVWLiym/3PR9V7uBN3vQHUyVnchqby3H00RHkY4a/zzxvtI8pX9Y9zNAg4Wv7ZsK\n",
       "6ug+FnNGMPpTZHKDxOdPqgABC5zZAAABPUGa60moQWyZTAgh//6qVQAFS8/pAAdFHyVIXM8uFRxZ\n",
       "GBAwNyAv8B521W2nfLpbIPFT8WGFf4HsdAadfsrdQqCD0jZCttIq4z/zIvbti0pwHflQefCNeJoj\n",
       "VWfLrW4qG8GioMddBrFQfCpGvGDhgvYilLqo/ADRVQJ9FCfu/lFepX7u3fe4/IHnR+AtrDCKFlb8\n",
       "6q8SQLIC1qhMEcmNDhF9UT4RofH/bm4rKHOgOPife7SmS9FLfbzbwxX2b4FjNUj8rcbAJ4be3SAT\n",
       "/WOr7v4qaR8VPKmDj7068/FVrafNLeqB9kPCTdjZCCsJv9tqav/sUgh19pjpL4FESYvtVqpezOLw\n",
       "S+Is70DGrLOCG5uqB2GgSE6t7eHVW3yGUR9oGieDMv6aIL/GB0WUlKnyzZcLKLH+X9IK2UFEAAGB\n",
       "AAABIUGbDEnhClJlMCCH//6qVQAFJ8ryAOOVkqVw5AOVb57uPHnC8dHx0CyDedXBLnfUvz03+bGk\n",
       "VU6Wuktr3yqJXYcPDx/RmsJZjAL5589j7RWFZ7rfTtIOUhJvM0JKRQsAnAtKTvhgR3LdkqwjnGC7\n",
       "EC77fpLxjX9VAkxbff7Y9r34M5GPpd1uolwnu7WOH89tA9ZBoKg8AS/EgawKZ0K4RV5iiMEb9QAl\n",
       "JHrNYOxyGHRSLCFMfIKRRmHt9Iy2FwPS6IoB9RzOIUKSE6VSh2LneqNVvKlxp7PWMHTsJC1DUmQA\n",
       "OZgzH3HZCTZMgEf00lzCtWggv3i/WnMByd7wKB5UtS8sbtamdkJKtV5EMMUp7kpVEcSNc8IP0BuP\n",
       "nz3aEvAAAoIAAAEyQZstSeEOiZTAgj/+tSqAArhQ6gArf0rLK/IBup9+0wORWnB1TQKgjbuD5ZzU\n",
       "D2lWdzzxHv87q3rEWzq6fLK1cxKaxxuYqnAc8kAlWHKsB5fHKs/8YVJ6fA0J1y0EGoJo9MprorzR\n",
       "6BsMZLIKBTAXY4vHpu4OjyyEg/kFh6Bv+dkQGA5BV/9TQsQRn71NDqTX93ltEDyX88Gu15xxHRjk\n",
       "4fqeiZQgwjxq+/6JomsxOgGbrjvN4k+IL4xvl8M/QNFkG8A7Hs01q5tMXZ/b4mCNy1PkctrgGVtE\n",
       "1pTjbdshAQZS2DgJZwK1mdHOSd2BcevexWmjARCJJmRrwFzxn7i+4m8DXtr3S4GLMnw44cNMTikZ\n",
       "e+jZcGPlqlWbyu86mgI5xisZXftIg8b7B1s1nv/IAB8xAAACPEGbUUnhDyZTAgj//rUqgAK4T9IA\n",
       "LD9Fz+v70E03ybWPOuHSEDBVGbo6Mo2lgn4LclBTN7GKA+SsBVEBxJhqbd+FPvTkpJQvaCGAA1G3\n",
       "8qIS83TFfNS5u0wZkWzi9SsRS3tFA7s/ie+Nl5hVvDF3YxtqKSobrI5btP0iguVa+TMGmUvURidm\n",
       "/43aHOjfpnQprRgp2zUwGGBr2QMvs/DbdbBGPxTWKbBogMri5eLUX1YsmdfoIuUg23T1Gc1BLrAA\n",
       "4c0JW8vFMJIqSg0OHi2c2N6vDxne9Edj5sz/XmIDyUoF4Or5dUE4nmbSvA4TNx4vvisdF/R/x360\n",
       "56JJnYfs0weFr6+CKkBjZ8C1ZHMcbV9RHRzmGp/LKpYyFSJP5yShaPnQdRrYrRJ4K7gAZ9bq6tL1\n",
       "ZuNh8K2c2xZVtk7NMCiBowGNBie6jIbJU/1VPfHyMKOiOjelcpURX5Py6b7NdJhgkjpd5XUxduIF\n",
       "/Edctq4T3hfpecQXqgoC+Sz+DqMFV/eq/E+E79SGZe05YIUBdRcbyx6Ip2tzJxUStJY7yss/1/4w\n",
       "6/7tyMgStRx6Us6UHy7nk4Z45ia0TKVz8k+/C2Oz1kqrxsGdDsdsgzYZTWpkRfcOsOzROhw3EyqC\n",
       "6fwmq0C+VDaAxf9zEEYm+f51ffvZykIWoApX7V1oS57FWnTtVEtmHhDSYDH6FruaC041kQbHWykV\n",
       "ma7r2l0C8McLSnnj88yGF1KTBpiJ2eKya9pR9qjEdrUtrP/gABUxAAAALkGfb0URPDv/ABDYANAq\n",
       "lq2DVwlDaCgbFuApwZHko0a3ZNOlDhRSQnzVCoWgEXEAAAAaAZ+OdEN/ABh+sY537JQv6XtqTu+e\n",
       "sfMAAdMAAAAVAZ+QakN/ABiC7VlmI1xBluHiABNwAAAB30GblUmoQWiZTAgj//61KoACuE/SACMr\n",
       "0yaHSPf8nr8XzqyRNkv1+g6wBytlf8e+CIWKaaf83gaaNx/TPGpjnrQnlj7REArNiL5w+Hq3GHGA\n",
       "8SivWZEGpriVtEY0Ph+/QSwzE16SsBETcK4isV/SOYMPwdHbaCtkp54c65jMREx/jtLsPLeKJzIn\n",
       "/yktneJHQc138cXxtc24VHobeJDo25wlnMZAzNTG0hQkuyC4c6aDTw+FXVRWL56WsZiry6pp1dmO\n",
       "1ZGh2jdciXJNbNcBblB50RN+uIVK/pzphniJRY5LhRMDEClmiz6aAFrhBNOPk+0izjfGtDNV8gg3\n",
       "WAU9q7fsgR1HAZCe9wODb0glyMKjxm11vSaWYSc7qcs/qF/Pl0FNEC2QCtGFF5auQDQ0V5o76qNI\n",
       "Q4QjTOPvgyLbvbGQt2kXbOBXsqiXgHLdCQZJOYRz7SY8JE8hT+oAbfw1u1Jrown5sgMD5rVpdzJX\n",
       "tCx3TSBZm0xyEiriccJ0gAgWbuuli420lxfGnGBSezC58s7g1PkaK8QASD9S8Vlt2ZOUuGxOZgiI\n",
       "wVPA87HyJVo5yDHAdwVtMx2UYe9sMarfKp2juqRhnnQWTmN11c0LexTykWybRBSXDleZyVF4AANn\n",
       "AAAAJ0Gfs0URLDv/ABEKVHXwxJoemG1uEyPSoOWfZ02rVCcUARkuOoAGVAAAABkBn9J0Q38AGH6x\n",
       "jnkrHsazPqQdHwWAAM+AAAAAGwGf1GpDfwAYgu1ZZrfl4/rGQTqT2hRiAADpgQAAAc1Bm9lJqEFs\n",
       "mUwII//+tSqAArhP0gAjK9MmfOUNtJ73ogJ1M2NSTbXxRPYl3qyKXN0g+WuuiLysymbOTfmZPLoR\n",
       "vBRZl1Fd9Jkmsw7M/9PNWGL9+Rx55mSPwKrPN5h319gCWjcwaaQ+GzRy6NROUi8T/J+1jyFZhGgF\n",
       "K8eLBFoaqyJGl8x9kLnMASuwcQQnFBUkcJgksjaQocVCjrGyQXYrIAiiQSpH3w3sGAAK7eluIQuA\n",
       "vhs98sf1ynFf/Xnz7GoixK5ELRSIem+JZ8/kE21gnOWbGs/qTbo6jIBRHO3mLd0exGVIvLdeJa/6\n",
       "ucZmnmFlNiFdfnHKV5S9McMuQEbeJbSi6fZP5p3m7NTKHltl2dMOAChbKOobcQ3plV0A18hzXN0g\n",
       "uravPtDtmCp+vyJHg5w8m25BwvvqXe1InutLsas4ccRFrANJktpgqAZhjke7o4SOP6aUmBadR1WS\n",
       "Z41sQSXGuIcbsSjcS2apfi863uRqJqGA+kXRmkswQn4QMtmpUwcbSZfPL6zb0ScaTWsZdW18vMb3\n",
       "wYc3e+XaHk1dKO8D7IjBmOqoQc7lGN+BOmi+6YwjdA3z/PPOwxr7+9vRfnTT/+HAc+OBAAArYAAA\n",
       "ACJBn/dFFSw7/wARClR18LVL/qmAsatD6HtR9SR19S44gALbAAAAGgGeFnRDfwAYfrGOd9/0FzS/\n",
       "0lZF8pUAAJWBAAAAGQGeGGpDfwAYgu1ZZihxMeKfvrz2V/gAAP8AAAGKQZodSahBbJlMCCP//rUq\n",
       "gAKmU/tABueno9L1OF/0lrEa4265vRoswl/Gb1MaLGx1/7UKKuFuobvjYb16Ti1rVE6EfkSGBtJe\n",
       "F+J66fh/KguNCqcuS2K0UnZd2rpzJrDf85ixwyEmwuEnHuLB2dmWws+y601CTE9MsZdkOsI9WRtT\n",
       "ke+l+BezRl8iKp7mXQuHzNvENLDtREXHA6AXc5UAH+YmhwiewvftTcJT7boAFKXl3dnTHPCIBENt\n",
       "BqSJFbzOKRLntiw78RnZLRgdVae1B4t/wZjNJUMVUHcsn4+Y4Qiu0uL+CuR3Z05AAxVmg6vo/Dfd\n",
       "z9mCdzL1rkKi5aeLFXLqygEGF3TLf5RcIGJKQTn6Mlo91YmALxvL8me+u540AZrL4n9B2EnufZEQ\n",
       "JD9jFvuwgiVO5Y+98mPh8xwqEHz0CLGk/vjtMWTSqaTR6+UTW016R499Oxfp/yAp5TxdtsH0I6ur\n",
       "FwZpCApHrZFG+g+rv9kh0GiyxfgwcDXBC7yuCmseL9Z4ZAABxwAAACdBnjtFFSw7/wARClR18MKb\n",
       "3pjb5gtexNvy0VgjpBS3cyo5thgAA1oAAAAZAZ5adEN/ABh+sY55XH5YmnUc6dQgoAARMQAAABcB\n",
       "nlxqQ38AGILtWWYjXEUTHvFyAAB/gQAAAStBmkFJqEFsmUwIIf/+qlUABW/HwAA43z4GfSd57DuB\n",
       "/7gnpEKd9UwqBRnhClAP4F2kvch5kZ4/PQMUTIj2OLXxtTa23nn5i0j7bvSUSDEm/sSVAM0x6KTp\n",
       "TSLLvR1mzT+EkI1UCdXTCFzwt+U7obetpgt8QwWTxvTLggRFVOmrQxDMPUtz05/2MjklQokeVnsV\n",
       "KF9n6edixSyoA9890iBW1iFoslnCVrPvxef73wm0AWlBTXzIqgt7WiqAAXhC4q+/VUvG4M4/v7Fa\n",
       "ecxJnHdjOv8FHvbpYAVrgYYmDBjqmaviix4XW8f0qs84t4W84xFsqcnvJeGVC9nNKEAKJPGmBrZh\n",
       "98aLAMH0YkwrdoWWjR48oZM9gGkweuq/nRkdI16JKx4ar9dUQAAk4AAAACJBnn9FFSw7/wARClR1\n",
       "8LVHf70KuknHzm0FMU8gAJV2QAHTAAAAGAGennRDfwAYfrGOd+mJr0Bmqlum9sABIwAAABcBnoBq\n",
       "Q38AGILtWWYXgl028GN04QABqQAAALFBmoVJqEFsmUwIf//+qZYAFJ7HDgAmmP1Hbhm99uCWVqRc\n",
       "zg/QmorshW9rGwj8mFcBwTznZwipve3rnLKhSgH8wci38Syer9buAoAWkIUmdudeXI3pDiYhkube\n",
       "Kvdy8Xsh1ts8iC/ueV9uEDhR8jybmGqANRM2WoUlK44yz5mTjsYeqPsfG+HAm1AmBnGtvsa4XpWa\n",
       "xbdG5CsHITXRaga6vvzU6Nr77bcRIxXk7YAAqYEAAAAhQZ6jRRUsO/8AEQpUdfDCm93hLudG8LUj\n",
       "sqGOeJ/wAAm4AAAAFwGewnRDfwAYfrGOd8nBLaAzXIO4ABLxAAAAFQGexGpDfwAYgu1ZZiNcQZbh\n",
       "4gATcQAAACNBmsdJqEFsmUwUTDf//qeEACactimp3wWHdT13iaT+N4ACkwAAAB8BnuZqQ38AGIU1\n",
       "9CTE+xx5vn7KY05K6iPsgXaUABUxAAAE721vb3YAAABsbXZoZAAAAAAAAAAAAAAAAAAAA+gAAA+g\n",
       "AAEAAAEAAAAAAAAAAAAAAAABAAAAAAAAAAAAAAAAAAAAAQAAAAAAAAAAAAAAAAAAQAAAAAAAAAAA\n",
       "AAAAAAAAAAAAAAAAAAAAAAAAAAAAAAIAAAQZdHJhawAAAFx0a2hkAAAAAwAAAAAAAAAAAAAAAQAA\n",
       "AAAAAA+gAAAAAAAAAAAAAAAAAAAAAAABAAAAAAAAAAAAAAAAAAAAAQAAAAAAAAAAAAAAAAAAQAAA\n",
       "AAH0AAABkAAAAAAAJGVkdHMAAAAcZWxzdAAAAAAAAAABAAAPoAAACAAAAQAAAAADkW1kaWEAAAAg\n",
       "bWRoZAAAAAAAAAAAAAAAAAAAKAAAAKAAVcQAAAAAAC1oZGxyAAAAAAAAAAB2aWRlAAAAAAAAAAAA\n",
       "AAAAVmlkZW9IYW5kbGVyAAAAAzxtaW5mAAAAFHZtaGQAAAABAAAAAAAAAAAAAAAkZGluZgAAABxk\n",
       "cmVmAAAAAAAAAAEAAAAMdXJsIAAAAAEAAAL8c3RibAAAALRzdHNkAAAAAAAAAAEAAACkYXZjMQAA\n",
       "AAAAAAABAAAAAAAAAAAAAAAAAAAAAAH0AZAASAAAAEgAAAAAAAAAAQAAAAAAAAAAAAAAAAAAAAAA\n",
       "AAAAAAAAAAAAAAAAAAAAABj//wAAADJhdmNDAWQAFv/hABlnZAAWrNlAgDPn4QAAAwABAAADABQP\n",
       "Fi2WAQAGaOvjyyLAAAAAHHV1aWRraEDyXyRPxbo5pRvPAyPzAAAAAAAAABhzdHRzAAAAAAAAAAEA\n",
       "AAAoAAAEAAAAABRzdHNzAAAAAAAAAAEAAAABAAABMGN0dHMAAAAAAAAAJAAAAAMAAAgAAAAAAQAA\n",
       "FAAAAAABAAAIAAAAAAEAAAAAAAAAAQAABAAAAAABAAAUAAAAAAEAAAgAAAAAAQAAAAAAAAABAAAE\n",
       "AAAAAAMAAAgAAAAAAQAAFAAAAAABAAAIAAAAAAEAAAAAAAAAAQAABAAAAAABAAAUAAAAAAEAAAgA\n",
       "AAAAAQAAAAAAAAABAAAEAAAAAAEAABQAAAAAAQAACAAAAAABAAAAAAAAAAEAAAQAAAAAAQAAFAAA\n",
       "AAABAAAIAAAAAAEAAAAAAAAAAQAABAAAAAABAAAUAAAAAAEAAAgAAAAAAQAAAAAAAAABAAAEAAAA\n",
       "AAEAABQAAAAAAQAACAAAAAABAAAAAAAAAAEAAAQAAAAAAQAADAAAAAABAAAEAAAAABxzdHNjAAAA\n",
       "AAAAAAEAAAABAAAAKAAAAAEAAAC0c3RzegAAAAAAAAAAAAAAKAAAG6IAAASFAAAFSgAABrgAAAK6\n",
       "AAACfQAAAicAAAUUAAABVgAAAVwAAACBAAABQQAAASUAAAE2AAACQAAAADIAAAAeAAAAGQAAAeMA\n",
       "AAArAAAAHQAAAB8AAAHRAAAAJgAAAB4AAAAdAAABjgAAACsAAAAdAAAAGwAAAS8AAAAmAAAAHAAA\n",
       "ABsAAAC1AAAAJQAAABsAAAAZAAAAJwAAACMAAAAUc3RjbwAAAAAAAAABAAAALAAAAGJ1ZHRhAAAA\n",
       "Wm1ldGEAAAAAAAAAIWhkbHIAAAAAAAAAAG1kaXJhcHBsAAAAAAAAAAAAAAAALWlsc3QAAAAlqXRv\n",
       "bwAAAB1kYXRhAAAAAQAAAABMYXZmNTYuNDAuMTAx\n",
       "\">\n",
       "  Your browser does not support the video tag.\n",
       "</video>"
      ],
      "text/plain": [
       "<matplotlib.animation.FuncAnimation at 0x7fd35dc4ebe0>"
      ]
     },
     "execution_count": 238,
     "metadata": {},
     "output_type": "execute_result"
    }
   ],
   "source": [
    "fig = plt.figure(dpi=100, figsize=(5, 4))\n",
    "plt.scatter(x,y)\n",
    "line, = plt.plot(x,lin(a_guess,b_guess,x))\n",
    "plt.close()\n",
    "\n",
    "def animate(i):\n",
    "    line.set_ydata(lin(a_guess,b_guess,x))\n",
    "    for i in range(30): upd()\n",
    "    return line,\n",
    "\n",
    "ani = animation.FuncAnimation(fig, animate, np.arange(0, 40), interval=100)\n",
    "ani"
   ]
  },
  {
   "cell_type": "code",
   "execution_count": null,
   "metadata": {
    "collapsed": true
   },
   "outputs": [],
   "source": []
  }
 ],
 "metadata": {
  "kernelspec": {
   "display_name": "Python 3",
   "language": "python",
   "name": "python3"
  },
  "language_info": {
   "codemirror_mode": {
    "name": "ipython",
    "version": 3
   },
   "file_extension": ".py",
   "mimetype": "text/x-python",
   "name": "python",
   "nbconvert_exporter": "python",
   "pygments_lexer": "ipython3",
   "version": "3.6.2"
  },
  "nav_menu": {},
  "toc": {
   "navigate_menu": true,
   "number_sections": true,
   "sideBar": true,
   "threshold": 6,
   "toc_cell": true,
   "toc_section_display": "block",
   "toc_window_display": false
  },
  "widgets": {
   "state": {},
   "version": "1.1.2"
  }
 },
 "nbformat": 4,
 "nbformat_minor": 1
}
