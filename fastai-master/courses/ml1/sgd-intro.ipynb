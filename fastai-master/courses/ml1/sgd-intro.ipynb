{
 "cells": [
  {
   "cell_type": "markdown",
   "metadata": {
    "toc": "true"
   },
   "source": [
    "# Table of Contents\n",
    " <p>"
   ]
  },
  {
   "cell_type": "code",
   "execution_count": 1,
   "metadata": {
    "collapsed": true
   },
   "outputs": [],
   "source": [
    "%matplotlib inline\n",
    "import math,sys,os,numpy as np\n",
    "from numpy.random import random\n",
    "from matplotlib import pyplot as plt, rcParams, animation, rc\n",
    "from __future__ import print_function, division\n",
    "import time"
   ]
  },
  {
   "cell_type": "code",
   "execution_count": 2,
   "metadata": {
    "collapsed": true
   },
   "outputs": [],
   "source": [
    "rc('animation', html='html5')\n",
    "rcParams['figure.figsize'] = 3, 3\n",
    "%precision 4\n",
    "np.set_printoptions(precision=4, linewidth=100)"
   ]
  },
  {
   "cell_type": "code",
   "execution_count": 3,
   "metadata": {
    "collapsed": true
   },
   "outputs": [],
   "source": [
    "def lin(a,b,x): return a*x+b"
   ]
  },
  {
   "cell_type": "code",
   "execution_count": 52,
   "metadata": {
    "collapsed": true
   },
   "outputs": [],
   "source": [
    "a=3.\n",
    "b=2."
   ]
  },
  {
   "cell_type": "code",
   "execution_count": 53,
   "metadata": {
    "collapsed": true
   },
   "outputs": [],
   "source": [
    "n=30\n",
    "x = random(n)\n",
    "y = lin(a,b,x)"
   ]
  },
  {
   "cell_type": "code",
   "execution_count": 54,
   "metadata": {},
   "outputs": [
    {
     "data": {
      "text/plain": [
       "array([ 0.5728,  0.2553,  0.4525,  0.8962,  0.6738,  0.5097,  0.3815,  0.3072,  0.2006,  0.9389,\n",
       "        0.5146,  0.2621,  0.7067,  0.9024,  0.043 ,  0.6189,  0.4994,  0.7957,  0.8576,  0.9967,\n",
       "        0.977 ,  0.9077,  0.3652,  0.7798,  0.9573,  0.8448,  0.6931,  0.6868,  0.7497,  0.6975])"
      ]
     },
     "execution_count": 54,
     "metadata": {},
     "output_type": "execute_result"
    }
   ],
   "source": [
    "x"
   ]
  },
  {
   "cell_type": "code",
   "execution_count": 55,
   "metadata": {},
   "outputs": [
    {
     "data": {
      "text/plain": [
       "array([ 3.7184,  2.766 ,  3.3575,  4.6885,  4.0214,  3.529 ,  3.1446,  2.9217,  2.6017,  4.8168,\n",
       "        3.5438,  2.7863,  4.1201,  4.7073,  2.1291,  3.8566,  3.4982,  4.387 ,  4.5728,  4.99  ,\n",
       "        4.9309,  4.7232,  3.0957,  4.3394,  4.8718,  4.5343,  4.0793,  4.0605,  4.2492,  4.0925])"
      ]
     },
     "execution_count": 55,
     "metadata": {},
     "output_type": "execute_result"
    }
   ],
   "source": [
    "y"
   ]
  },
  {
   "cell_type": "code",
   "execution_count": 56,
   "metadata": {},
   "outputs": [
    {
     "data": {
      "text/plain": [
       "<matplotlib.collections.PathCollection at 0x7fea670a5b00>"
      ]
     },
     "execution_count": 56,
     "metadata": {},
     "output_type": "execute_result"
    },
    {
     "data": {
      "image/png": "[encoded data removed]",
      "text/plain": [
       "<matplotlib.figure.Figure at 0x7fea67139550>"
      ]
     },
     "metadata": {},
     "output_type": "display_data"
    }
   ],
   "source": [
    "plt.scatter(x,y)"
   ]
  },
  {
   "cell_type": "code",
   "execution_count": 57,
   "metadata": {
    "collapsed": true
   },
   "outputs": [],
   "source": [
    "def sse(y,y_pred): return ((y-y_pred)**2).sum()\n",
    "def loss(y,a,b,x): return sse(y, lin(a,b,x))\n",
    "def avg_loss(y,a,b,x): return np.sqrt(loss(y,a,b,x)/n)"
   ]
  },
  {
   "cell_type": "code",
   "execution_count": 58,
   "metadata": {
    "collapsed": true
   },
   "outputs": [],
   "source": [
    "lr=0.01\n",
    "# d[(y-(a*x+b))**2,b] = 2 (b + a x - y)      = 2 (y_pred - y)\n",
    "# d[(y-(a*x+b))**2,a] = 2 x (b + a x - y)    = x * dy/db"
   ]
  },
  {
   "cell_type": "code",
   "execution_count": 59,
   "metadata": {},
   "outputs": [
    {
     "data": {
      "text/plain": [
       "3.6855"
      ]
     },
     "execution_count": 59,
     "metadata": {},
     "output_type": "execute_result"
    }
   ],
   "source": [
    "a_guess=-1.\n",
    "b_guess=1.\n",
    "avg_loss(y, a_guess, b_guess, x)"
   ]
  },
  {
   "cell_type": "code",
   "execution_count": 60,
   "metadata": {
    "collapsed": true
   },
   "outputs": [],
   "source": [
    "def update():\n",
    "    global a_guess, b_guess\n",
    "    y_pred = lin(a_guess, b_guess, x)\n",
    "    dydb = 2 * (y_pred - y)\n",
    "    dyda = x*dydb\n",
    "    a_guess -= lr*dyda.mean()\n",
    "    b_guess -= lr*dydb.mean()"
   ]
  },
  {
   "cell_type": "code",
   "execution_count": 61,
   "metadata": {
    "collapsed": true
   },
   "outputs": [],
   "source": [
    "fig = plt.figure(dpi=100, figsize=(5, 4))\n",
    "plt.scatter(x,y)\n",
    "line, = plt.plot(x,lin(a_guess,b_guess,x))\n",
    "plt.close()"
   ]
  },
  {
   "cell_type": "code",
   "execution_count": 62,
   "metadata": {},
   "outputs": [
    {
     "data": {
      "text/html": [
       "<video width=\"500\" height=\"400\" controls autoplay loop>\n",
       "  <source type=\"video/mp4\" src=\"data:video/mp4;base64,AAAAHGZ0eXBNNFYgAAACAGlzb21pc28yYXZjMQAAAAhmcmVlAABZW21kYXQAAAKvBgX//6vcRem9\n",
       "5tlIt5Ys2CDZI+7veDI2NCAtIGNvcmUgMTQ4IHIyNjQzIDVjNjU3MDQgLSBILjI2NC9NUEVHLTQg\n",
       "QVZDIGNvZGVjIC0gQ29weWxlZnQgMjAwMy0yMDE1IC0gaHR0cDovL3d3dy52aWRlb2xhbi5vcmcv\n",
       "eDI2NC5odG1sIC0gb3B0aW9uczogY2FiYWM9MSByZWY9MyBkZWJsb2NrPTE6MDowIGFuYWx5c2U9\n",
       "MHgzOjB4MTEzIG1lPWhleCBzdWJtZT03IHBzeT0xIHBzeV9yZD0xLjAwOjAuMDAgbWl4ZWRfcmVm\n",
       "PTEgbWVfcmFuZ2U9MTYgY2hyb21hX21lPTEgdHJlbGxpcz0xIDh4OGRjdD0xIGNxbT0wIGRlYWR6\n",
       "b25lPTIxLDExIGZhc3RfcHNraXA9MSBjaHJvbWFfcXBfb2Zmc2V0PS0yIHRocmVhZHM9MTIgbG9v\n",
       "a2FoZWFkX3RocmVhZHM9MiBzbGljZWRfdGhyZWFkcz0wIG5yPTAgZGVjaW1hdGU9MSBpbnRlcmxh\n",
       "Y2VkPTAgYmx1cmF5X2NvbXBhdD0wIGNvbnN0cmFpbmVkX2ludHJhPTAgYmZyYW1lcz0zIGJfcHly\n",
       "YW1pZD0yIGJfYWRhcHQ9MSBiX2JpYXM9MCBkaXJlY3Q9MSB3ZWlnaHRiPTEgb3Blbl9nb3A9MCB3\n",
       "ZWlnaHRwPTIga2V5aW50PTI1MCBrZXlpbnRfbWluPTEwIHNjZW5lY3V0PTQwIGludHJhX3JlZnJl\n",
       "c2g9MCByY19sb29rYWhlYWQ9NDAgcmM9Y3JmIG1idHJlZT0xIGNyZj0yMy4wIHFjb21wPTAuNjAg\n",
       "cXBtaW49MCBxcG1heD02OSBxcHN0ZXA9NCBpcF9yYXRpbz0xLjQwIGFxPTE6MS4wMACAAAAUMmWI\n",
       "hAAQ//73gb8yy18iuslx+ed9LKzPPOQ8cl2JrrjQAAADAAADAnTFsu53XQ2mHYAAAqwv/wWSumoR\n",
       "q9Dm6bQc3QGqPYBQfgfrndu6uMqhGZx9ng/z0RmomDRDaXE/MPwRKOlGp/8NM5PYkROq8DptwgA8\n",
       "A36XlGyCqN6uDWgmRM8cqtOgreGUwARXOx+pniK4uV2dzarPb+Mpf7cdYZWMuGCUk9aog5AMuZe4\n",
       "88VQTxmq5qDrRAMW85POYsDQS+y/u/yf4X9dbO0A6g5fRQK6gAA4jq2O1QMnxji5Ir9owBF10as2\n",
       "8+dbfz+BGM+FC2gPIR+x/WetNOBffzWclxYl1msZqgxgZRmc9l85kFoq2F8i0lMXuwy4luytTpFh\n",
       "giVM1MGfQNxkr0yEqR0ZUZq89TafItEJ2ofxiODN/NfNU2TUCRPGc8ifNpPCzCrXKVSKBQfMuGbl\n",
       "Vm3anI9ZQC919YsU1Sa1EgGmjq/6DtQ90O1ltR48RRLtdBfZZga/0bMjc9YRlFsH+f2ueLmqTQ2w\n",
       "G8iSJh6dpOyPiJyvV0dCf22uNz2H36NMQ1HtOBHt+V/nWc7nLdDKRgbLcRxrSEdXRTLDHFK50TY5\n",
       "PrrNQf9p14EMUTq03CW5ICkNO1YsIZxJIBIWo6PRJDaKszjJZ/G1GSqQBDykZz4bfZkJdfiOHS2r\n",
       "6NgWSECMyoMsGQwiXz8bF4VTsGfZ+/3HaIMXIzLRv/IvOGdS7a/UnNR7Hr2e6vQvRnwpeujYzDAk\n",
       "526XLYyLBCKamWkUfuFV/4NEaa2qYlVMHvkqdti/DR/x9eZNjY/BzmV24ZK/rsfJlta7ZJanRjlM\n",
       "0ChR3B3oGPMNloy3Z+BnfXdiT1oZarT93Gk7uE4+G+y2LKNFflPfqNGA/JtKml22MAnZL7W1T8wH\n",
       "cNWFFAsU02959zzFfNwPihgl8A9TQYtHtWimImL/B9V4K20YVcwtGTGv4XWKYrsxHe3ezRuyPLxJ\n",
       "eeIJy/J8HA3tGDV5cZqKAAB6rwi1/FdJfbsw7uxnyOpnQ2OyhUT74qPDbRZ7OuBH8JBTAUXCA8UG\n",
       "FagyWnPq7JpOTmIEbiyFoRdOZdgEtsT3imj+/fXyaSUuX3rxVasbMhQQ3GAy0DwHPvQB+tr2cMts\n",
       "oq+EBAwWPOLpg0FxIbtwM0lXySvs5r9/tweyHGij4iPRCdi60aa45onI4L0eLVsmJWMmcq6cQu7H\n",
       "bMsHiFllsfxN628QMEx+O0rbq+3yMNSg1vRwXG/d2OlXtVlEOPk/WwlQessEJsHmhklL2R5sL6Ex\n",
       "guotslVx3AoiPbz878B+dDn4f6/c1ACIuqxq6kW+MRDlZ+LEWHKvGhA6JVPjA9IH3sY3s2Z3kvsI\n",
       "tfmLtHzQb7pV/h7Td7GGkWE6VXRpxbdwfWTMTwebrL/9tomctAJyHXfcNGZ2UhAn/keejA/+r+QD\n",
       "AAnbzpZgXc2Nl43t2ewyBojjAtrL/QJ761kmxtbeI7lP6oJbH61ChOGEXtFXbC2A6kSY2AKYEp5M\n",
       "WZ9h24WI7PQ+i3whX0O0xKjZLd2au+7lu3Oq6/v3nbp9owm6b+MgCuCCmFhYRh2NsJByRHb2bWwB\n",
       "1A9sk8V4Lru9VTTQFrBTSKU1nCscdej4SXcNCsd4gXV9SAyXO25zpjqCexnTvh6CRgaZxd5OZbYg\n",
       "UoqiAdrqim6PJ9F4eyWtbMmlE6pvuP5U7qK4Qs/l6nKDsydDz+ReERbnEQ35h1ruQ/WgXr3GyE0q\n",
       "iVFTFxm4JeW0+CwAEevnWNVqOdV+PJfPYQyBS0TXHomTpMEqz+P0eE1Ti1gk7XrFTcljvLwJXbzo\n",
       "EFnWDeptJuOGgDZ/hvy+fLgC8bdTPxPNNRS++G3tCVL+f0PmrNilBx9yXMTvZi5x/4h1UHpzC+58\n",
       "THW/5uec05Hrq/WDSTDCRwkN3AVzyjXCH3tBGxyOaqizJWoet/pIs8zpvYkDq9sOJuGXbMxbcFYx\n",
       "+NX3J2TKQ3m6tiNxqIREG9c1v6iQWos/K5kJOdWGbqoeNKHGO1tjXoflZN3ztnTFrBa5cGZle6Uq\n",
       "sWD8ZRrl9zPlDKGweMJCKYYbVKdFzEdMWMJ667kfeIQO/uIeqGe+x91KCxUynyGG2d0QwiQbotp/\n",
       "/0n6VSoPIlkkvlNFT7vxgDrIAOYJTf+S2STpRQNuXbNzxvnnrl/lQ+hbs9l6bMjRTkBnJPAJw+Gd\n",
       "9yiABesCy3Am27fgheDmursW9Uxvgm5eZ/kRpfZ+f4P/Qnig2h4An4QfYJRp+q7tx+cqm/18Z9T9\n",
       "7IuswgHJcaoqv+xdJ/IImKzCOqRJxxk53ynAvDRcd23dALVHRbzP8C69LyjpSwcsBl+k3bqxY7nH\n",
       "gn7CtFHwr2zMjqlKiysejSq+b0jl8Z54a09U0CZ4oei3WvjK0auSrvUKLXcdkZF4r49OnO1sz0lU\n",
       "rl3t2C521KG0KHkN2bEQWVIVOuwWtCSLZ9cBlJG57EIwcPNaLSgro5L4+o/q4ILNdJ3qiiokRWUK\n",
       "7HzUoPhuqvqWokOIjku0p008rqN5rsjs2ObjCdE9WIi/b638nhrB/gQFA+ddVTx/lFqmj9Ki0tod\n",
       "sk5NM1LPzZ1txK9SbifubFPTWf9aMDjDR2mYYxr00KUMOgExBrrrFtx1qwE5yqdc7YVxpoF1SfbY\n",
       "vI3lsLYQmk8+lCOqLjrcmdrLd38Ggrq9Gdqs2+7zp5HESzQCOac6W4IKNt4+VBt+ej+AkSThJgoO\n",
       "9EbhliWSzWI3A6bu40c4EiwxcAlazLVpaDymzjbJEri3PvuUIrQTZD8aU9Bh6CdSUf6Fthp3YmtY\n",
       "Vdk4HQUru83Ix9QAeRXuzXNTNcZtCZiVPNXvpFHtD8zNEebWq8J6DFA+8HURDj0tqGAvEpOeWXzH\n",
       "ZqVByg2QoMAVVReXHXqDF+QA0bYlqoIPOOApkBr0g6rYf4w54ZYNK5RAAG4+BRvYvvFFAL0JOa8i\n",
       "WZ9yo+BoUCew9bW+q3fr1iAlZfdzWHpkKirgx8MZp8EM6ut6ASCf/dYHK0XOR57dsiaeZVU7cP1w\n",
       "tn31Iz0TraqhP+Fi8Q9GyOOMub8dW10jMBFYCcnpmlN+WJZOLzbklYF3whY+hjk0m7ItJAcMx/hz\n",
       "p2O7q3UyiUv5j7JOunzBUQt3rWTiLKeHryhOKnUN4ef4JsmjhmFzGM0C0lKwAk+XrXJda/C7CjR4\n",
       "VqYAgFjfhsLbUZNaPy/X+C/xIpykpCyvYBn2ifPrajJqQdxEepCZdnNzgWK6tdudxmAZ7REx+qLf\n",
       "BPisfTnhAwgeebQqf8tGcXEf+OYTitEUg6Hza66QkI3Hd5jsz8b9o+r6razlN268RvW69weDPHGk\n",
       "VuQvHDFIq4XY8KWaPh2//bYcAH6GlUR/KcGUfFoSp1wZmheKEUmGupSeDNvMZx7acsybX/flgFK+\n",
       "Y80s8iFMPUe+Douo/ddq71WHfBxf+k4tE6FeUPoUvLT+/9wALUEZ4RMAQpq42PdqDK+Kr2cxzOdH\n",
       "35BJx8Cxf252VXAwmtYH0FHDLpFTeEvpTy5zHBpZxfzq2nHGgGIbkwHeYrPJ7zviB7t++3fEREyV\n",
       "9yJZCofrXV1FdTvbH2fmvAUWEmvU2qO5xGiXqYGqkBur2ggEoG+KMvE8lZu/SXSjcPjI0IMaM/dY\n",
       "uNTt3GNg/4EjSFOHKuMIgF+Yux7G4TBIq6gmfEQDO29Y3g2Ant0aVx8zdJIYGS0YRXG0wLzgU1TS\n",
       "NrlXgUhX/TLkMWoWf36XBFNWq0fFLs3lXsX+EprPwbF523BHU3C5+8r9eheZZwsIUH+6A8oyxD/d\n",
       "N6tRJuxn7bZP6fs2iVS9EtHrmZIkYNWXNz7I7OH+jHGS4zrNR/fPSKq3BE4gwrMKuYalpbKNFupx\n",
       "PsZfgyI7AQFyBz/LsguZ08hjC3w0ZV9SfNvrX+45p7IQ77z2mXXBKHC4wOi/6FoDZYq+Bk2o8Wh8\n",
       "mwQQ3fBmj37Qno3CXj70P8eThdwuLTzgXq3shqlfEr5b9ZNo6m1Bh3+8heUfEDIV2LOy7oK5WS9h\n",
       "5X1reaWJvrRaujsy5RnyufsM+bLPdx7U+WmZq0/onJ4CQd25iary+4ub4Lc6LkOsZaIafMSsJIUi\n",
       "oyl00l3UrNk6PjkIHDToQhWnFU7LdemZHrXvrAs/z/GHwD71jdbi3yWEWs4VlDwe7qZzqrzL1KV6\n",
       "lF/mcjZpAFnEi+VQILIRVLPXQwwDsHisQpLXoEjICdlqiEXCxzmGwZ/XsNw737gTS+MHGxA3uf6m\n",
       "fIGVQTsHinMzbdDyomgB1hti1gUCxCR/V3jcYDw27qnS+vkntBaXU7uM7wAmECyM96b0YYznnUin\n",
       "C4yet74JhamsOE4k897Lh3ZZ9SUQXme5+ZAqxyMMWaiMAxRhLc2zr5EW74fqQhoOrUb8ZKdX1ldi\n",
       "iO7pL42BpBdvG2nRJO4xl21poa7IeZrplf4WaTtWmHttt+WyGzGzG+QWW83hrEu5uXAeDmh68WL7\n",
       "VWleyAzEyv21kOwhQeWCF4sH6vOEZaVgP/+Sq66zwkgqja1F5oIBnoUC10yQAc4pVSLhifReTDeA\n",
       "Y91AX5kZCjC9a+HDVoNeBhK/ZHkfuNtXZmutEbag8SNuza88mj42/g0ACyqgtk6aNqOqgXToqZOf\n",
       "o2AktnX8vShnf2wpS7T+4vZeplR5HlA3SE8FwxXPDEfLLSiuZ8Fu7oMWtYr5mu22BjhAFJHVGF3N\n",
       "DU2SifGqYQs4t6V/N+OFLqB5EJg4qgxkA6f7qIwMHwhfKRBRyJWbgZJKC7z8Z2HZTcGgYcMjuJDV\n",
       "z7hKAAADACCqPWpTumANr4IpX2VaOZ7yk6QFsdtB6D4GafnUH7sw4mc2DDZ4AMTYk2JK0PqUwaaf\n",
       "L80ICEBeQ5daQWA1w896WZUBrnPXQQQylaDU3YecnnMAMoJhyMje2IV/GV0sAAAQV4WXyYAsnJPu\n",
       "7i/1q6oMvpa/eft+86X5sUsHMm/N56O1AsBaOUKtVX7MghHK+cPas9LTaOsFL49R3gSKPUbeoxeI\n",
       "rR27JAunj40Uf4FGdIfqx1jkJniQhPe+Fk0VSJQ//hX+qsQNFWthNOAIsBGYMIGftwjO/ToKb0Pn\n",
       "rlg4Ol5P4vVMd9MZCq7E90xjAAryz6uKY7AtQHVokhCPIm3+VQf4k2a9hCgrhgbWujmydEdbNLJe\n",
       "EcMsymJnT6WZuO8WDT/U9RrW+TdRFGdAxkBvjIXWHdT4NRGXEgnBw9NwdjVder3bgMIMWokUrYIY\n",
       "afrWk0VgQgpbntlNt8ux1krqlrdVaTS0zjOV/j1CYyjsVGurCpCWJEZoQOGFBaYsk5v7W0dxi0cX\n",
       "v3oqS/UufdvXnfCJiW6QurfuXlWBqOK0V1XrdF3lEeqlREXnED/7InDnzetgvqjfGCQO4rLTIgva\n",
       "d6kcQR7/MZ2/3X0m7L6kgoABWblceb0HEIlH2J7ph4OBrw126Lfs4I+d6R+5wSEoJEMlcvZDUH1w\n",
       "rxvQxDJWXGln5kykUgKWX8i6v8epUqTmrd9vlzAP3YRLeQdG2UQ2LgWNippTxf18Qu+uzHOykYan\n",
       "ET/do/d2MIgiAu3QbIjAxiyZNAW1S+Oqc9ceMI/SbvcSXPwosz/U4aFluJEuhC/UrQAqoe2lBssG\n",
       "x8bCvTgBys41KDYnd5HmR5Qg3EMQUxEWqEONc7l/ZDEghBnOL/T3mN7DSDrzQuq01iuSuhpVAuUO\n",
       "FlY4+I3N4w/mpJTvdodLykCpgnAKacESRuTFm1BIWSVTlp//UaG8YHZoJ6SMPrI0bYP+fUSHqD6o\n",
       "1k0z8Lg7CrNL0YmcKqNZqU9kSxhJl0rbH60aO8RW2LkiGgduU5jBTbP7V2dd+DUTVlwEknccDbR5\n",
       "wrVFZuJPZWUyRHoUQXKE8QkC66VcPZdmZ1Fgr0/h0i4yNtDkUjV3ZGnNZVq945SBTR0FUKg8xQoq\n",
       "nGV2RgLaDOCpba+vtKSa2/92fk5u7OO6GQpp656JU/SjxuS3ATK7GwbFFCewsEJJ4jlzY2UEum8s\n",
       "5IUWb+kZ9WHMIV8ZUK7QNEFCQgIUMNT7BF5kTkqw9Im7a32dPyiVQRajahXcqJxRD392x4eR4lPX\n",
       "sj1oLU9/Cxq+k4eJ5WFp66n3F+Orx4z5DbzurL9JN20dXGzkr9n1rCKH+eqpYqSYiyFQc7sPCkcu\n",
       "jrsX6d0WVYB7VIgokjjxAshbtGuQYoDebIkhTOMdZRiLyIa2eCpvFFZfjaxkhGZWHsMjKBPtIcC2\n",
       "IebWrtjauS7GE4f2EDVX9xzgIXnYQjj8AuaT+jy2x03FK6sJFXaUoerW0j/QPn8+uDW/lBkSc8KX\n",
       "FM2ltkgHUgi2MeNc7Wx1CwB7DDVhyeSFWomuL/vHHxHF/YFLzlnqEohJCiAmurgau/6odTAR8R2T\n",
       "kUGF6A2CGWrb9JKKzhyPdw+7vTz+5M9Qkfo3AL/JpiOfLL80tsjG8MeCw2wePCpPCmtToXsLEeIa\n",
       "uMEfJFn5w56rog4ophx6hbwBEURLCiiV+cTkaJBShZFf3nqcSmhugTtie08K9XfAsI06BSbtxxvQ\n",
       "VpkJvBbto8cg+530YQYQD9jl0fD0vl+Z21Kjq0ltCsbOaFs4YeKF4SwkTA9Sn7iisnL0r60X2JhT\n",
       "ktQGvOAI/O03vHiga9DlDPa4+OoZxwWi/zou0dCRFgTIcl8fuWZ0WY/jktDCbH6duZIPwqPjAc9t\n",
       "7AsTA7rnJO3dEH+yhPwQ9GkG1j5w13wnpE/mO6SF6MCdU3o4D5Z1rkFNnV6MB013/hW5fIsIA237\n",
       "+oameiNKOVj2wmV5Z6ci0JFz+4WXA3W2t0wy6hwv1n/KlhD9XelVTxuQavXU2qaIGHlzpECI9UHj\n",
       "/IKTHFHOpl8GmQAJgtMfX6Ux86FwkZa1x0CHb6QXIMWErrAAAY8AAAW8QZohbEEf/rUqgAUoqDFg\n",
       "CYlWWcVJtCf0D0/+9IeFnbUB6woMd8T8TwKoBOnVO5lCMZRDxbLY0jSOLZ8UlXrEIRGlkHaTCGEI\n",
       "6p3/uOufZomhqJ+hSMKvfGl4ATJSV8zQMPzYKWNnRgw+aoJlzA1weF3hoHSiimbY4mY/h7HZkbv0\n",
       "3EnJgFJbrsDwasXWcsSuwUK6/aerMLHc9CneDThrgIaGMdIQHVtmUm3XthVHntpO5MgFOTQa0fuT\n",
       "kDwBPIdxTJxzmDQZ0OhQ0egLySe1J/LwrPQ++Rj8+SdYkh0TYNVq3ExNLjmlgZZFBe1WdRLcIUJz\n",
       "aQ1fxzayT1aa8ov2JjxRVvDB8H2CpBpg6XUdKEccbn0Lk+MPt+KVHIUo9vfezanrLEcwGQUOpcUp\n",
       "aI68PlBAWBy9kfZfHuBnuI+18EvqDqivRTfAt6GFLW/70G5lR9bbHAbw4X/9WgAmos5kSAw5UJW/\n",
       "fH88Hg4FasURq379VPl3TFx8YIvtvSityqgKkD7iAYrv86C9aXA6nKHZUxDoplX29FZJPDYNBDX/\n",
       "m49ae4pqsR4OCt0aUawHaXDAWkLj7RDMSkrRDUOFuLtM8z6qO8JKbMU9wQFC/yH9IkLSZwmKorwa\n",
       "QWN3b8qRI1GobQk/89JFGXWJju2ssZB+uR3WAzDVPw2GEaJeSHNXs8oZqV7zwv8ka+Rs3gqOtCY9\n",
       "CTumev18PDS/XoQ2RlL6ftElfDe9FemkhCMLHjUTAJucNyrY3N+oP0n5le34Q4OhDK5J4/igVKeQ\n",
       "+7F1a80DmSqLcXbkL7EmQpiOrKK6D4YQj+ImFjlAqG4ZFON9YaoE/JE8+x9iipcjsrHLMVtYjNUn\n",
       "xWNa0JlsKbCMwbjDlCc5TPh9gXsd5E4GDkl2xZrZHyinDgGT7jWKvbS1LtA3RXrRMi7O0CbHXIYQ\n",
       "k8Q7VcmTACMdSojYSbGUKuiD4txHlT0I06hcBtYhQH7TocvXiG8GbFePpoCNOpxNS6FuCQdFjc7o\n",
       "jnjRkJlJnuws3t6XKJgeiVcYnW/DmX0B3sD5qiZJWBqFLunjpSLOSY+D+8Ys0AGrTsobu6Ac0cQf\n",
       "uIlrmmBfPSYhwpvgLeCKhggNXaqIq9pxqZUFJHFidPBdSYlT//Yh54anRwjSBD9MrfzSz/D6egXJ\n",
       "3jnRykqCp6gPmoPjDj4JZv0HIWTRaiHT/703BWrqxLZmYFeluwKeOfZ4viezlPOl6HB2cJzGG+2y\n",
       "2P+xZVSZYWUFcvahxOTB6BVKMDV3uFV1NamBZTTs+zyg/dlaOIrN45kBarJHNcJo6zCCIOEjmOCo\n",
       "8XBeGVGmhs4E6Ndkc3rbs/S4MC2+hoSKs2dsD8TPsGmEVrg8VvMbR+Ej77w9dLwQ8Zu/HcN3GJxA\n",
       "KqR2eYcGDuKFqiOGCLQenDiEuOyBp4rnUPoREUrlBYAGmaraiIEq6DQB2aea58dNbr0GJRfOGi18\n",
       "DJI7VV4QUq5FxEuZEnCK1cIsat66dgBtBSWUgYrTLXS1sZEB2DUsxNZfcsmMTXzQr1ThMghq3U/W\n",
       "hzG22cI3t/OeM2dz+c48PTkZZ1Dic43k9Jta8gIsBfv4bmGrGJcEygiXiUtE11lM02VrvTuepvm3\n",
       "DqAKd8sQisq/cGexrGlOlV4yBfv2IImmdibCYQLYQ98wWvWmrucBjiKnhxsroGF2xr4LS08ZccX/\n",
       "3PKCs/2YLhuZBv/D6edkQeicfdLttKmzs/qFjX3+a/GxyqgCGtexgG0MgcLCrcsRlaO6qsEyXqBR\n",
       "yxPRAkH0mxX43SuJ7NiY5blXd9cz6EurJrp/r3drG19WHESAW/tZdAcw6Xlh7aYVABd+eIdejKMT\n",
       "WBKO4jtZVvo1ViNHnshQxvbZnYzAAAADATBe7Tozeo1DM/au7RUQcYK5i0mvnR8DrqTBIBn1jTve\n",
       "Gxd8VJ1wqqKLwAFAS0iLkF4q+Dg81P5v5pbMCAAABVxBmkU8IZMphBH//rUqgAEIbqWAESo54W0J\n",
       "cAJ0YsO0W4X9vVdSDhmnuHVcp8TNojbWYf8a7xzEWXrX/WRKGX7Ku8gW5EODaYiTOb41X7mAj71j\n",
       "MO9trC9UuLuzo5N+VmUEWdnU/p/a9GocV72oqST52Es+Nfk9N7BPk0+sTxUu0VeEV+YlzOdaABZb\n",
       "hCOfvNHfvtFg1+rCU6PKHfLWKRJQRXiVqy4yeXqn3BUCacf/Fm3hsGoi9UZ8KGuyFLSGP3k7Jsxk\n",
       "eAahy6JZCjHNJAKtDUkZw+yZoFSfSJmSdZ76R8Pc5hqSH8CsMIl3VMIB1CR7CxOuGNBYJ2imTMnu\n",
       "E1mc1A+HtjjG4fG1m7w5jzJrz/0RbiAkK9NjZeH6CPLYjykbvRp14MDqvS8TFqQ9p5i28td3gO1s\n",
       "H5fW7f4Ay0MPLUWePaRgcjqvF/EuZ8bUaoxRgc0Gd9TRTWcOb34ogyp0Cw5O+DnR4rq5sSHTSCqn\n",
       "eAJfAoN247ss+WqaYQEaHxuYRMP+lLyXccFxkbrV/iMWU0ko+44xGz4nMRnkwKKo9y77sETpNFgc\n",
       "bLwlO6eh6R7z6GzGRYBi8+oPcvPdqahNJbqgo5jPKwxGaULFefTQQuIn+T11/2eSW2IkrUth5maY\n",
       "wKAI4Fe7RPkm5c6XYm/7CvOpUkPeO/cAnuHR1GIBVDg5FBUMnsi4S9GsoXKLmot6XYipN6XsBHNS\n",
       "LHD8kOdbI7Wbi5peD543BOnj2S9xLT9bCk1LD3i70fbP6VtYruj2tdxS65VjhekA8LA1Cx/HJWLp\n",
       "kt23DvmplCiZP1J3kMPpHXNQBpbKjZKZ4+qEhs2i3rHy77CrqRGt0+Xza6udlHPU7epZSrHRNnKu\n",
       "5yNbrgzihlLo51yYf9RkPXqegsPfOpAPvz0k3aWzclYDusphZzQK9HDhECznGSHa/kEg+c1f2Rsp\n",
       "tRWgTigczIytGom4CjsV6HYZWDub18CsbNWA7gxlzQU6JgpGzrE3+VprDYxQG+YZiWEkJPNctwlQ\n",
       "U6BkxYhdug/ug2yerZDoJEm3NY9qSW3CsqQhEuUTAoSsFRppqgiVNTckrcCU6JUHpWYB3IxcZ8PC\n",
       "xMEB2livMBI1nF8uJxtUyAwsRKfU4ScZBXg15JDtlZCBhXWqPFafUpFczcSPnt6rJbu4WeKd+HAL\n",
       "N3xDmW2Rj+bP6v35AfH0DFIS8vDnMAILai7ATH1CKKgSZ+31XT5O2aVLNw94MmLZTgjC1P4EA1w+\n",
       "fmOOOn30xHQ5SuoxfPL1PC1gr9AQanWLRrpdwzHFnH3FND6iQahrD5k/KidNVP8JG1iewx3KWWCa\n",
       "cpYFyhJu3eHb95NQ2OzZHq08QR2dZMjhC2nvolw3DO3gNrmYYfIJrdo7xJkFjwWugbfki+VA4ra7\n",
       "2NGUw2wNQotp7iliuTwPsWlPVS01rpyAzlFIuzEOoOqFrj3uuTNNE8du1p/eIcB8Fx+Y+pHPrd1R\n",
       "hXLJRO16g9eZyaK1VPRZG+9ORhVHDpX+mBZjtJka46qvvVa4IWUSjfcCgodpS0UhWl8y9hOHgygn\n",
       "Dp3AHkwQhrrRMw2tUAufr1emzb7xEnHSQ9cRRUo8jCpL0It1ouZPZb1NP4fD1Q5vMhifl6WVewHc\n",
       "x3NqDXh/eKzpgiW1GfpoWVihzgLwbhqRiaMeK5G+aTRiiudm5wvXhY9zLmZx+oJP8d8iM+sVe5h+\n",
       "5iigqJ+e8iUNJFRp2fw/PQc37nCJMagznWNkkRk3mwfub74X2HE8nWtYKwGDGdwhkpnB74kMa1vg\n",
       "ODuAnrppd29P4D93amw9fQcIBnzeGgPTPxzMGxuIiGJaO8g5AAABz0GeY2pTw78ABAI/r1irQ6YE\n",
       "AEQaEx6X47bZFrueiE4DzpILX2JKCQLGxwJDI5BW9EltQs/u1T8isFPyr9HAwnRMH7SNVGfoqcjy\n",
       "hwj91fRpGJPVI/rjzevQBxQFTqtD0GA1BnNpEfCLfM+wbi1Wqwv173u+taMe8KT1t5Ru/N3LJsLp\n",
       "vPlxyX5IqvI8Y7x3mXl3tCu1SQuq5GL1pI/ynnDm0qWb5eXEAscTtGW7YxYAwiz2sswDl5wRU07P\n",
       "gqPe8CPvlALe787QL8TPfL4N1O9XGJNM0jKzXEfgcYMU2mDM3YQbcqtcO2brW1UolhAPAn34Vutn\n",
       "Ug6USGVpwHyOhrM1PgaO5PXAMKYnScb/ITAZ/o+SuwanazxkbQigZc/8lUTpdfWvzi8FHuz2s8Ck\n",
       "bWxah21rc8CUq6wwm8Z2Vmsvdy1NpSWaEgtYDwxNvW3K/0D76LjajodjhW/hqnW/lFihal/snOcH\n",
       "z6qyo+fPZZfw+VLZ2SF6AkdbUB9hXVQqscugEwuEjxifzf9FHVwsEcQQ/0fJCR5jtSdDmzdGCP3u\n",
       "CBSAiUDrmTXdPRowbvNXp5gChk+pBBmy+RslfYwJMdSQs24WOj41eMAAZl8xCMgAAAEuAZ6CdEN/\n",
       "AAXSJbnfNj8sfaVCTgBDCIRxgQSEQIFiAE1GjaN56jr28MQDbM8iJrv0dUF5eAglKShEQ7432f+/\n",
       "yarlsyagJnhPHqxcTruT+KdlCseiqB0mLyXBRjSuU9+6k9Va2aGGt2FTJWd/eb53Uh8igLUFlXF1\n",
       "1DV0QB+N6BYcBZw8eOP47twcO0lJu7yrmufX3x8VjpqQzT5LUC/0HNBJ8g/HqbyU0zKLpUNIbYZD\n",
       "+pR6BoLkKG3waLINBbgBkqihMURCP1S6eAbXFoh1NnWUrQsz9l68mAP7AzaDFeZi2kN7QPoehl+L\n",
       "KlkgGnZd6tt9PSy6tqvw7AbFB5QzauCjguuIK3HOJ0lJsIX4LIPhUjyuhEzDc9tE0R7NnbVQvGf9\n",
       "1HWElr6gABOe/0EAAADKAZ6EakN/AAXSYEpmqWDK9poCDwAbRkfmiebHlneBbLQO7p0oiUdbbRNU\n",
       "KxsNHp2VHb6W8qwLHXuZoWdiuD4w1MEKFCsEG/TIgJc3bBYFRS4TjDLkqi6i2fORp/oTz4Vk6QLW\n",
       "Wl10IgjdFt34Rq9a1zFLu9daE1bo2SlhFdb3D20dwUd7eWwyfdUZFvCFB0nto39jNflRmsAP6UpB\n",
       "s6rq7LRd8NGs6igm4Nhrc4Yqkl4N+DXXi7yIVVVvIft+SGjCzEuDqWmPgRwxzQAAA6dBmolJqEFo\n",
       "mUwII//+tSqAASA8/LJON8XGAs7VDABdV6ZM7sa6nNp7v06nKLKwpJjGDfJqB92tnn7YodO2imSr\n",
       "9uIzz1ZIAPKeSMPPut6dwRevpEAwFRhTyH38ehS5J4bytdODYLmEM7/Clx1exv6RquhNdanID35i\n",
       "OMeY6WQVgDoOkQ+P3+siu9lcMoWmsoBetQoQOhEh8brFLY+kejHfhcCZcl2h4seiOIJrUSs9xsrt\n",
       "0LqDaj0d8zkwin4pV+8sga2ACffPB9j2OYsirXSysIb/EkSfkySss/NKOxcELNhksHgRZMAkMvNm\n",
       "txTjK4V0Y0/iL++FOkGl2DIlxl7CvNUPtuCrZ5yImIFL4xMdn/8K+j0ggtXoSkmlJEN3i8rrFbPr\n",
       "qm8PG55uuEyI2Pj6ejLmk22fVKpq48bb7w7qT6FgmSfU31uorONw+gdGcm7c/gdiaGuR93TRkYj0\n",
       "CFvAyO7qPyN32xk6g9OpOd6dJgpG4HYinw6cZ3bGD9TuJ2VWtMWr6ccfOXeUzRBUCkPHH/qeZhI/\n",
       "xxPcVb50OurUN6fWJCLHWoKvOQxShAPjVusoTZ8021C60seWTJ9Svs4UtL9HNi7//WxO6+VpW9z7\n",
       "uZ5TmxSJbAGZaUZhNDZAzrmc23Dl9bGgzaTBEjOftMqhPzqTWMJQLjAr6uw0vH3SdS5RfUi4IT9X\n",
       "7n9MDh2o3+t+Gn7t/wIf36vOWQTxHPncSpnr6S6qaBuLTGW5iHgj75i2uO3P30x7JS51q7dfyony\n",
       "RG4lZ+SZXTEtBJzEUbqWqI5V3fPBgwhgtFM86UABbXUOxIXyM+GNcoACuMwjaAkyUMJhWEJkJtrV\n",
       "Hbw3sBwu7Bgh/YWUaho/BBuTzWxQ7rdE3prrE+UtAChFJxBaMSUfmAt5KgZEJawGH00oajvcKccY\n",
       "VGBLEAkyXPiDWHG3JUYjr4YZCEdAmab4E8MZao/KHXCgX//jOj+E4AhWE6vKJnhGyUhiHOzknDA8\n",
       "bLAwIihfZ3sUKBvEMOgj1Eumw/YedZ07MKa7vFnjx0gA6xOAzAReTzd1kIXJKGLDRyFcpg3Qooci\n",
       "6euLbcN9n/eAvMceCK5CrLZ5d7/q5Lbk91uXxojw+3volzKFagWXYiXJUMa7gJpg8PVMuXQvdMzy\n",
       "yLmSdqB5DI8hPqChCfr5e7HTXLhwDOJ5iX6/tBmorbKd31L6rFaUtc4vs+WWee/SppkvrKWzsHFp\n",
       "J9vwiA/f1Fk+82BXfjOkgQAAAPpBnqdFESw7/wAEILI4iHZZukHLgAmrua0zstfh9XSyKPeUiRsK\n",
       "ExaKQi7ygFOHOtDKWBdR0RVVfKGwMISm1fZLj/RhHkKGqcJ/KIPA2OHZE5AFaP0ON5lsn7COaY5t\n",
       "acYBuu9GUpqUM5Vd6em3sqScl2U/rqn8QaIFJssQBAvdOgn81eiABa1XqlENPNFBgsxjx7wprPrs\n",
       "D5A6EMyrovTASDvb6rGLwdW8rUO0AecoCcIe7R84RD+nFj/oAvOqiDkwO93wla+dh17TkETVNRr4\n",
       "TbNZheDTQRWJEvfu1XGfcnyMPiDvGQFbDeemqJ4PSQA3zj5/B7jc0ubBAAAAqwGexnRDfwAGwQuV\n",
       "qGzGW8AJauLLuC83nNtwAvBLoRJT+P8tHccp7jV+N4gTuyRwawQmi1uFhCbdohmU9o6YhG0w9JOW\n",
       "32J2yfHX0BQlSw88T9pRyR8F4F0etTHpLh7dd5x8lswkToUa9oQnBPTYI8Xi+A2QTYmiEHgpZqcD\n",
       "CirH1BkNFrmZM7eLRIVAZyKMgZMXg5jL33vq73K1vDh7y6x3eELWcAD73H5vEAAAALkBnshqQ38A\n",
       "BsAEhSgKrPAmIioTACaUyab7lpQdg+zyfGB1pzfcG/nSFTOdx2mkTZR21Vie05UhCmBv3lCsXRIH\n",
       "nLvDlvl8Cy/9n8hFTgB1Dso/hqDbLOQqc4YTccGC7IyWLgtrQgIhdpC86S5l5U+rN6ko1tK69xkI\n",
       "WknIodbV8rU4W6CpJNbYN/MhoHgHD2Y/yOdJd5xcHh+yRsIPK+jpOz7EqzLlFIIMm2inn25HAOQE\n",
       "ZcCe2yefwAAAA89Bms1JqEFsmUwII//+tSqAARmkb+h0WAE7fSssHxpAaz/RlWurxJXClc5WCb9n\n",
       "nbZSYPPaQH9+b13nBa58sknjdJ086ZSanIxZC72elg4/eLWYnfwBjHpXOXc+Uz4u5IyvsKfPKCUu\n",
       "BKMMU8/ROuwPZ46v1vajWjFdflFsF8532hxrzBdY6l+8JoSnKNxPWQQtnhUhA83V9Fm3LGhx7Y23\n",
       "+DrY9yGvwPd9Pg89d07lmX6vpiYyA1Syf8Obw9cSUHPPs0u13RAGzDCX+/aXJNj2UGNlcCO3zNfN\n",
       "dffYiocpzIQjUgI5xWBFrruZ6Bg4CVpSfkJ1gs5wjoGfLil4YbZgsTGxN8EHQo6bdgWctW8SLj6W\n",
       "C0nV3xUA/OqvHMoTuhCJX1f9qcFHQtcngVst2Jw2JjZQgyFymScnahAbNaK6MyreobvGk+Ywpoc+\n",
       "uN8kWx34sF7UWosVn/zfiU+o7LLKY6a1BgsQxBgDbXIz7iexZMUGHSMIJZNXaDxYN1YzDVDD7Rx7\n",
       "dYsCBxjRu5NT7DtbsYJeR/UirCcUY2lpzQE6jU9PXrFk1N8n4Ch/d+jHVqpP2d/Tor385AAbmKTp\n",
       "Du8XEHQqSecR5EDFriYNxNkRnM9W+aAaJcNmD+ewqIe0jCSNN8MQcKdvbq5+oUhYF5nZZKTNP++b\n",
       "9hHXIL1q1exhTnDgAHlRhvi89FTame0KAFpdDJeltEyX9K4x8W/Bzus4IRi3dEMamVJseoipNd2H\n",
       "l2JeC7g1IBe6EiQrP4WKGhqkN1G7657f7fW5cQjFXtQgGJnnaPEEjhxBMaBAySHQHYpCR2pThtuR\n",
       "bTJsIfN6hyVUOL1ACpcNFZ0YaC8kqUvmPi8f/3h/9kP/jLY7xa4YRkqews1ONxmqcRlbZMwkpqYO\n",
       "3dshA8rtvR0GNBa30o2xh+MLOv/x1NJJZ9tdCLR47N9BSPSjfYtEvuhMtSo3K5N07DDXNHkSQmQw\n",
       "fBl2eMqILewqaPNo3laL9G1XMuOIjnJljmS9+JcbwD2BPb2mJUYgmXow6cp9rnCff3hwVguKO9AE\n",
       "vwi74W0yAjVtdpEUQ2luXvDJ2lVUy8VsIEq2MSFXRHvWqUxhViGDW2l7qrn/h+yvAZyL3wlb8oMA\n",
       "bHJXRdZeQhJAk7dgYA//DmuNQUzk/8IANGL12h2ktnBQm8paBun+twHiLJWlNpgK9Ir9TxY9h1wF\n",
       "jJ+eUiJ+fWZtXdzWVcbLKAXVfWSr+E6TBOm9x10UG7x3RT/35EaqilDtc1UH3wZjRYgs1m+8CviY\n",
       "1oAn8Q7Uc/N08r6eU+WOy9EAAAE3QZ7rRRUsO/8ABD9SNNvRfm0dSbsNLgAmCTSf420UWantClCi\n",
       "Zfp6Wnd2Xrf6X4+ajrr33ku87+sziMze1SebfmJdbIVi/DxihxSmBkcZbQ/dbjx3cLtls34/wFz3\n",
       "FYn0Ao1JYYfQ/RKuoQqiR6QA9OW5ahmXOmmiJzCSHwu5Zu1RJl4K6xvdXFqtXAUGVxhYOYewD1F+\n",
       "9icrtAI+wCVd8IQYA05fFo7cWwob9+9UOhaKEA9qXvaep7zYtWRRfG21yMKknaAtpc2FU9cR3DyJ\n",
       "fkLEZ37Y0SWMh2qAi84yiIVo4jfrXCC1zMHvgWFKcc8VzxCcusXy/fshKl4uy1wGbwpx5Kl2/64C\n",
       "555tkMNawBrLaAfFOoUhqfMZcE4qNOOHAWO/vdwNnWhIskVHpksXBjjcAL6AF8AAAACdAZ8KdEN/\n",
       "AAYe2lNpaw80iav2WU+ADZdkB2a8yTUHnxnppYDnnAARly5vQTJL6M33u7uJ7nUH44adsiGwjyL8\n",
       "xUojNSk99uf6MhvyXSbS8viHCeBlyJGLzUtfzTaNY1MpmBZT09aAHtkTyX4Q209k0Pkj0Bo4ZeTy\n",
       "dZNJXfFRtV5JgjVFOm04hVBiwEWChlgjU1fi6kFQTMBGZAAXcAAAAJ8BnwxqQ38ABhycgule3TN/\n",
       "ZBgetH/tL2aDKAQAhDc5c4Y61d7Vh2CIcZ/wcNpi2WptGPSeP2EFupcWdYAzY/FAPXE5/Ce918sV\n",
       "iYk53hOuliWuyGpkf/nXTt54ddu8qjUrKmTHGoPRuHbsNMoHniKAqsFieeOdf/Ot0bpJdtD4U4f3\n",
       "HepkXa1Sr2QXZ/hWjZSbU5880kRsuI13+B4ADqkAAAOjQZsRSahBbJlMCCP//rUqgAEgbqWADdka\n",
       "xcVS0fLIvVjdKov9r0pNrK8PmCkGVjGGCUG6NHBUIQOfY9HaG/A/iack9QiDZLxfzefLW7ssAYO9\n",
       "k6nHfvMl27kX0O+PVYa2uhcu3E8BjmCkJj9ournltghYAdT5Sr9J1w2ZUpxVpcofu9Yv7iWRzTbC\n",
       "4qKV/rftd9lYw+fmeBQuUE5FSe01IUh436DBF6XIqtKuJuk33vy42pwoyuLn9IodnEOuVL8JCKm8\n",
       "fEbh0X5zj5KBFxmBrUzpTlO4i4QRLVVDf1oT9RWS5wKPSlpXonizcKxRAuDf//x53+4fEqmoTpVc\n",
       "9pZ73HaSkdBqs1Jo2iRuo1GPfHu+LXUEl5bfRbBNdEHUfMzDIUWOO8WAEBUCmpfm4la3CESVuBQ0\n",
       "FaVt8NALEi2d5hiBtgzzuBSU3as2PCJjAwi1rW1AjBlo5WVbZH0Mp5WWaEmpEGYyJzITxDD6de2R\n",
       "NH4A9ulQKIp1v6SpGhvHao8OlKc0famuYx6si7LowlKAA5zovGKG4txHndFF1OZVqKVIyCfLPiYS\n",
       "ivFTHzRZoavFFkis+GrPUbd/gcNDTzAxAOT+CiSmI4+YZxbgup/M0tGA7hu6DaaFsmyBkUg0JWuZ\n",
       "In3aachvQcZ74/71GadGrsj+K64dBcM8Pr6xIRazsaEKIDQ/OUSiQccGBd5Smt1UketwgeiFm+Lf\n",
       "qIvJIYXkBY0xA0w6TFeBZ/p5bhGrw430ChYDB8hPqC1+XHzd9AtWdjOWc9XbqfeIJfkgvFl5OuCk\n",
       "tbEcUR2tt+wwuT+Y8G+F+IPOeqV2cNeFpjCIodH778UhoT4NSSHpavB9rUGXX9IjO7HxDQrOBWda\n",
       "i+pe70W9tGwFZDIYjp2EcCJ2FTvliwDMxBLxwLTtKYKgtjoj62vkBc3e2+rRmHsEAQYVTWCuCHp5\n",
       "xEaITsfkQg8IvhT4JJGMQjwaPntk9CVEzbxZgjQ1TfY1IVkxZMUTx0z7jBGhq2vCcE+y7zqimPE0\n",
       "GR/LmyhuprCYi6pTmcsDZsnatUcF4Stn/axGmR4lv0nn5x3J05m6xv/MEL7i8GimShXIw0BefdjZ\n",
       "UUd55+wPwixToTW4qeoZZ53TqYW/5TQYhNyOZ+MdXrRAKwhiqvez729JZ1I4fuhNcfq/HujpKJ9O\n",
       "msgGYzQ8Bwib9v1H1hXDTn9TA6uEIFRxfrC+2ImtWbuTIoxjVn1irVZqzjlAzuqgb5ra4QAAAV9B\n",
       "ny9FFSw7/wAEYj4z+yzKWRYtNh7Xslz9rfABZKJUfKZ8f1EA53suBVmLHE2/h1ROfvmk3Jx+F+pl\n",
       "Qm0Q5/jcAru31mAeumepNtRBIdA8XdnBVjvbHCELiDVSw+VlYNnD/pvbOzzLFu2pr0M0t1u7UpvZ\n",
       "pBtZ9qibebzPf8oFJ/LP/kdI5TunhOaQLZ2H5UMT0UfpjZj0Xp26EGnJJf4O8Gfw5AGQS2kOHJZT\n",
       "tEQ0MRdDSB84mGMzonAWMbt3Fv/rdSPBuU0t4U/x6bsSh1isqgAHVgFVPK+ndf5oig672zxqE78q\n",
       "BXXAMcGgwYOUO5sfflYFDVpiziMWrgR6MCVfD1Cj6OVWj7U52xIijHQnHKN9r5MSxh61MnZGWb6x\n",
       "NF2T7cWTLe+rbiDtsikGoEyHEsEQkeGsTN+nFWE4CkzLmuHf9YBcq8m1RshKOuY+5Bcsgg1YCoKU\n",
       "wWHhD9oAN6EAAACzAZ9OdEN/AAYe2Fuimp7VYMuqui5iC3sABMqGXqMmcjeS7aTD2/hEpe/0yxxx\n",
       "V5WlHR/CyCMIXmWvomww7sQ3GpxhKs2MZPnHI9P5u75P2c71jn69dhg6j/B9uVlrmObPuSuIhs1S\n",
       "M6w6XqhSe0+HibWlkZkaeAnrl1+cCK52mWuP6MfnMElca0h4+cyRCBa/4k0gQfoyDSQzG50ljYlM\n",
       "v/hDnd454qELfMq8KbaMU0QAGpAAAADCAZ9QakN/AAZL7kAG1XIPv5IhkuzpP5KLKsK9hwLy++5/\n",
       "gin+yh8OQAfHwCwHecnnp1kaj52TY7i9mVTQKmGgnfba3kkmPTSKvR5bS3wQT85j5WofisyjwfbD\n",
       "ziNqUaP8ZPCIX3GwtVhOhW3kbHeg0oNRs9APo67TAu0khzaRHtXfWIUb4ps7kKYrxVHBbQV8IWIQ\n",
       "oUDyHO7KJqO+0b4KJW2anyxXIu5tb+uv0HIaIG7kLUkqjgysFSRHDuHtmRgAAi4AAAOTQZtVSahB\n",
       "bJlMCCH//qpVAAJBRopADdkXkqU2FHHvB3oaR+X8kRpb3toeabxnKEwIO/p5zqN+6LMZejaHtL+e\n",
       "4hRYYVmVHKG3LNvPRSdC7l5AMcZuHhQdWC5WtebHjUA6qoW+XO62nKiujfar7h8wMLPQtHDyslLN\n",
       "86NW+Cbse9YZ2g7OTxWuY60Vm4w1px1MKc0hueCHR5+2Pvl7dJBpV8y+kZQzyEC8QGiJMlREXeP7\n",
       "jH2myvKaNhVwCky6VHVTuuoEqz/haWWq7wKSTNT/jKsEXJKOKILhnb+oulKYsNqsFGCqjGLkNsRD\n",
       "FlGYyiHmQ/aV2xmMSVH63UH1vUaCc60hrIEKIwSPx8gX0vFd8sFDbXVjbVhpGWRCl/g0ONI/ekOJ\n",
       "zzM/FB9OqiY4ZDWFVwuBlfKoyuY4HBRZeyuetUJUV2cfFqA4/c9Fm6+HnxdghsiJNZd8URNoNk4q\n",
       "64x+tAxD+ilMZXHm2VpSxNRHDZtgp+MkUdL0PxY/2u/o0GTATXiu5u+0m631RkhOmRfkcEztdW3Z\n",
       "GcgblUxA/LejN8BPwQ25ad2LIzAbgP2JS+gYCDUsD0haAm2i292NzGO+4AE3qVTgAEUVsFmeL6FW\n",
       "Lub/eRg4ozKSdBYkOGGBlT5JAjON3sA3MsHb4aj2n8P5DzY2LfDIOfwnwVWi7ZpAF6TxztAYbwYc\n",
       "euRKCWARZuTqAXgVM0qSDZJu8DjBtxHgRuWDoCY+OByqQcRNoyRSjyN8Lls1hVzZFCr1pkAI6pLE\n",
       "F+whEg+Jpsh/8FhSz3iRW1q1oSssRSlUymbcvhmY9zfSYRjBktg5XJJ2Ve/aT2Y/YdRSBwU+akiW\n",
       "Kneuo3QB5BmjoI50BBVCekNBFimIbykz3+eIWswaSeEXURlJWkaPIq+B4NAsd75znoRuN9EiW0Px\n",
       "zw2py/vChQECIMreRuzyDJ6Ztk4QAHoZdWcKdXv6i/N3AJERm45zVDp8sDirXs67T8D9P8Uehw/M\n",
       "szqMPenE92iJrbMOJx1eCp6dppyzdBH8wWNoUGqLOVqSmyAayTBQrvUxln85EGXZCdAd+u0bymnI\n",
       "IvQnIIZu+vHf8OaswjF/8KBI9B/UTyvErXenfj7mQwyAsQtgoClfVRWxN3Z83/PP8MfUJKHsofyR\n",
       "dZ0SFMJetc7A9PI8fbGRrw/m9TsHpn+TaUAsYjXNl0RzxcwwkeCG3sReXw2Rfi3ShlZks6vxAAAB\n",
       "OUGfc0UVLDv/AAReHFv+gAnQU6jvz0weC33MXWZd1ul1dRp99zEiy4ZzjBHzMHzmfbK5fZJBBoxr\n",
       "xHJxA7KkIgvKSOcLUkA4WJDlY/KTvu4xcZ41iY32v0QcuCKQeGtx7ayRJb6bQF140M6ZzoVzcd3E\n",
       "6EaS2dhPReJKxG4mUucxRjRc/gwLFacNKhYUdxpmUuW48BYLbXvIgPbtKeGFFQi4GslzpCx0YJEp\n",
       "CcYO/MA8Tp/dmK2Y3lhBZjC262Hs3rVxERFq1VyFJMwQRJolehY23vCkb/3uJPdnv2cLFXp1Hd6E\n",
       "jM7QRdWrgz3MU78i3qZlyZPaMUNiLb2sko2yUrdwxr7O9/43tftJFjhE4Inny5aDiAWmQOZqvyhY\n",
       "Iuuyn0UNJ0ybg48UrMHm9YJyMszGMqcfgAHKB3gAAACwAZ+SdEN/AAZD3z2QAhOtjFsbmuIB6uUB\n",
       "RykbLqJa3NFGfjSYx16ejveqqohR9hBRJHZiux5vjc4Ri26eInd3AlpbbukrLHxb8TAIiUsth4nN\n",
       "ciKtb2WF+DYLrOEe+jfsvjK2/fht2TXfGlqah8z1fyQE6I9D46MnNBOaJrCt/nVdmhZZz8VJ2pj0\n",
       "Yi/r8I5RVN5z+jZuXREiCI9Q67GfC3LAcIVAtnpdSCDs891QA6oAAADCAZ+UakN/AAYz9gJIocQA\n",
       "IdNIjR2s1sCVt4y6nlB9VollkxXuP/gNPwKONZsyQ8Jec1EmAJn8gAGZg2qc+aE2qn4QXWHjC79Z\n",
       "6jsFBe1XYUBPjxia+vtxYZsgARzgvRPK0RA+8/9iOoLjqqF2PjXav/U9lZVFIYVwTNYhebuU3Pfv\n",
       "FGLlvPt62X3ulUUZbov42dVKrvOMfcQ9aF/bHabilhZX46iOmMsSJJdrWZ3RMi57KG+DfP5isLab\n",
       "2oXIg5EAB4UAAANwQZuZSahBbJlMCHf//qmWABJ/rfpYMhoAON8JSP45f12XBO0gu/7kPXhkIu+8\n",
       "5vvPlZKaUcDoRSvibZb1tDY3LJbsENjJIcUfYR4EpsN3vVKGQkFr9IYWilZ91DT3xpt0Fc1xNQqt\n",
       "KnJRidk5R4PkMIopw0Htmo/Slj9HrAF0SFd/ds/M8Hcz8n0yJ4qvh7Is1pbIIozk0DlTcSnKEUJI\n",
       "S8VP15j0znBZ2tXxU3KQwukm1eY/kYJ3TmbYCiazyuReIDqb3frbubNl3q6qJx16CXPugzZGgONP\n",
       "LHcl86Rw2qopqYU4BRbsoD6afjgCd4La+/kwYoGHm5x838/t7wmqdAmyNDimYglQsMAjW0IKH29t\n",
       "tShf8yAQbzK+dNrRUwiJ4q9PARvfTsqji3IV8R0UWfOvPXSmxh3yMkV9pmawEILDumIukcIfnYD8\n",
       "lQP1Rc+6iDuiaKuRXpg4Q+8ar8k4TkifC3KPva7TJ73Ja1LDCgMtyWB53cp5JvlkmVoda2xg6Fvj\n",
       "5Bvbx+labVj7EhoXnfNQrrj/4SwE25lkcZC66ah/EGTRLt+yRWYvgUFgyCinD0rOKrdrL1Jko5a5\n",
       "9kKQR++zVX9QFLyE7QxL/Dnbf/y6jPxSjvSvBe3Jrsr7ZCLWFWXJQ4znplOxfe+pokOBfnLsPdOJ\n",
       "jHRmwhx77Ncgc7nADyFl+QwynpazuE+IBLW1jdDxxW9tpO4BiKCqibFQ+xuGP2h/nRwszpo0VZmy\n",
       "sZtm+TETI+Yx9keRV4LAHp88A7KU5P85p6wETh5mmwdZnZajER391dHVfO5PQIpy83ns0W2UF32I\n",
       "Wlsk5LKj0WY2h30Q2G2qX5z4+KNMUOU1rIHVpoSqBaCa2YjdtdXd3/6NzsAx2NxOYEN1c7OwpRQ2\n",
       "sH+N+aarw7eAkWybbMs0p0KgaR5bOsJlGXp3pBvU7aXDIbikX6/g/pJrZ0aHaeUSb9HCyUDE49xS\n",
       "QisF+5rX5z9km+5Xr+IIhEVG2erR292uxMZ90tngDiAlyGKp/WrHvVVeSw3nfchWU6sYsx9a997s\n",
       "s7xV96F1xogNa0eSxEGiDugiwxDoZUPDQLV9iDIFu/9S2cGBisgnOWfdjtrzhETkxwjdfU3eC+ee\n",
       "7octRc2dISKEjy79s8I8LzMyQ1yzaLfTl8c8SpYnxTA/8O+QqAAAAUhBn7dFFSw7/wAJJhup5PhA\n",
       "A/YFCxCqjC+hk/KuLHjvQ9QOkFCR26I9gfufcaKsT5sa6CQzAAN1VzMgGw7iMBCwX6Ue7g6ucZr8\n",
       "War+U78P/yeV/rDvIYd79jKpz7DHdvCCMflDroax3egDjUQnIR4L7hXEjOUsx1IA42GjOnDoNoCg\n",
       "2kIQfAgWBAPa9AbUI4i1Vo9TvmP2yS1iZ8yA354hRMLQVG+IU0YaYjiQpnWAhBaQQyp0hKiqyaef\n",
       "QDPjtSHYrjmib3sJBoUt7EbTYjorcBMyGTEVm9OfN0K/ouae4HX2+c7lmx9neoMRVrUiwL5rO0Jk\n",
       "MwSyBnweU1YLWJJ/KnyFm0h+J/SjXSisuQG8/2s5IZLQOK9FT3+i8P3DEgsMgU7arXf+4FRAjebE\n",
       "06mKBW7bWu/GOVZm3GcOpQGh7xyEHachWNxxAAAArAGf1nRDfwANCFWJEDgBCnlPEF+LSeKUqR+B\n",
       "wwcYQ4F/21TFNPafRJByoJQwV3tNRJ40uu5lCmtUeujT+Cs720rcUcPp3UpVUyEWcvXPQ1FLRxu1\n",
       "kgBxcQY1THsX/HRP1aRMRvqVMjhm7xSaZx7SSpu7r/uGhRCYq5rzDY+V0Et/c1iKU8p7EF8bNDnz\n",
       "esyrwz9z2CnOwH/NVbETh3MbbsbmQOVFAjZa3UAA6oEAAAC+AZ/YakN/AA0IVzGgfABtUdPlBezQ\n",
       "XicG0xeL2MkFmY8rSQLLcl/vHFTTqj3U+s8ILq/0lZzjhwTYr2giK+77AwSzsqouIkQOWF+i5SwV\n",
       "tHa0Eubf5f12K+xl9jVWghsiRbdBMLTh4RJg2nogcTnzm6v0f2dokskZIYeQMTAuGIDEdyX1dOlD\n",
       "X1D1x4oMC5vO5IrMPyOzqWN4XDRz8iEcYRefC5Up6J/pGCvoCKOTIdYljiJ5iaxAK5QA7coNqQAA\n",
       "A1JBm91JqEFsmUwId//+qZYAEwNpqAFh+GlZc2WTLZFSh3uRj9AhcZIqIn6Bt0QTHzQUMjcFHH4A\n",
       "5jkbDuVYig6mi9jYOq29NOG4Sclnp7GV4HJKWyWFdyS/oEe9wHvv5IgAha2BL5QNjlFKj/rux7DG\n",
       "ZMUVmEuvJ0Tt2qhIamkETNSkB1iG1MwQ6yo+gdXS5MhkEux8R/fQ6d29F9RxcZ+jr99+U1RGstjB\n",
       "hgdo/BZ+NMAoXttWP38qU4dRIfAE2FAtWXDN5ng4Vpr5fMwgZb1YgR5YzODeWFIbA65+w2EstJ0a\n",
       "dJ6DiS44GYk096we8SFDhoTrkIySb2E+BNKneFr07BR5UN+s6Ha8TpEXSlpn1ziNN5gQD9x7n1Hk\n",
       "9pUYHMsOORKjlzY1mF4c4YK2y9AxaZRfyf7EAX7XEy/nymHzCJckysUzaaxETYilSzJgpCx3WC8L\n",
       "W4+D1k1Ku4tqoMLXHv29CD2o5Lf6GB6WD0mrwKY0Vs6nhi4ztd3G/CkXUoOqhtzxEWYKjMZQwatE\n",
       "J8XHkWQSg118VtNIJsBnruPJCSA9AJ1QF61Dphudo/4I9xuKDzbHg4B6/tYgA4UxxEuObEcypc16\n",
       "XjfXH8Jr3wUYrhk4LI0mDq3Kq1yWqxNaK7twP8V6PL3T0iLtDbhRyre7o91bHL4z1W05CXyFNMSN\n",
       "QmsqJlI8OwpRJXHpuhtNrMI1D4qJKv3rFaLr0n0hvB+WM9v8EH5C6pdX1ZS9OqV8uLWc88+aNb3o\n",
       "HiukpuD1qCRCoeMJ63q6ETs5hADesbPenQkmq7VxfvI6ZE5jUCiM4xlFNpWkx/obx9yYfA+oibY9\n",
       "loAd1vKmanKXaPu+bqjbDvQTAdxFKegVmORfHJTVMfUAuj/iE3kcjnX73AfDqdNkWiSn9Rf9mSNR\n",
       "vf6MaOVjX7qCukFlezuSofnJ1H+9UtMv2/eL9ObTWvzihne077nvboHuX/S0JqJEytjwycA2bXkd\n",
       "DbMZrxrOatB+kXhq+ZH7znaVEtd/ev7cX8l6lMhDa6g7ydxNo+VvyzWuV8WioQpSO7/6Wy8Mr2id\n",
       "k4iq98qSCHZ3GvBII3AFerraNlnDs6hIrqlNBzkRY5bvKmGGuKSiNDSp7zPe73DlowNZOVDtAAAB\n",
       "UUGf+0UVLDv/AAmEfltk69h6ACV6WDNdk9+J+W0PftOhIrH5bspWzQQUrHb6ZSlZryr44kkRRud5\n",
       "PyDY0wNP8yOAPZB53FhUR/9PU3Yby7VFBKjiS8tgg1pEUFkqjGywCAzn/t5Pzeiiz4geOu6hpBb1\n",
       "iuqXAWow0cY4eRo+WKdC2SmgN5ALbCzwy68NavM4UGlfzzPwSgZ75zDyD95S7ZaVJFjLe8+UHqA7\n",
       "SSt20H6MCIfZi0i1I58Mu8UMYxxyojQQ0shhNdKk53oDsoc271EtfS0CzJ41fRw4Dq/LKYPFgk7g\n",
       "5eFkwMcTaMI1HhwGWsJsJ/TIgsS4vILJpi2cz4oLs4MBjfsXjeMgFlN6wIhKXFewzqU63+Dbyqs9\n",
       "45vWr0mIxHlH78uaRwxRV/4uDf0y7GeeCMqNUS9uPd0U28rhZBwjPbez2Mppw7NozKxvmYEAAADN\n",
       "AZ4adEN/AA05a4AQnVc+P6vF7nIM2ROk5WMZZbKJ1eIJ/Z0kgIf3OlHQzIAzhjXbtlyqPV7bDueX\n",
       "/rSd3GhhKkMtwlcBAf+lx2SO3njaLseVnxgEiJtFb8xnr/TgUKY7et2lloJ63nEMVz7/vb3VFago\n",
       "95ldVod3nofmiZPDRBnX5xqZnc9mIMLGOZkNEf3E4CkgSHC+j9OF5FRKu+0zDR6QPbrC7Nc3+WbU\n",
       "Ue9Bf3mq+6gmMPE4IYr79Y5O28CVPAT1l67fsgNdo1KPsQAAAMUBnhxqQ38ADYFuOVos94FyQAaF\n",
       "pDPXPrseGXbMwow/uOX5sRU7zEclnVpOhc9mh86/4NOceJVcuIDm2Uz1yQgQnRogSrXN8zoFf9Rn\n",
       "HVk6X3RiVf8t9JaRU3OoWx4QZ6igLcm/ypjiH9LY8Xv55U5BdTnTK7AcTw5ilUhYBDBfNKAHs3tD\n",
       "zU6I1U7HS36VIQJM3ZU+t+d4G2CWO7q2mpEiUrNl9npX4DYqgYOtrLRy+uIUTcdEPMltxwLQ3/K3\n",
       "HWe4AliVVwAAAyRBmgFJqEFsmUwId//+qZYAEwNfKADi1rUok5VUbSvmBSc+eglZBBIpi1caPZso\n",
       "TwoVWqAVAOa/Qth8pXliJBwameF8mmp/2qM6N7WcGoH9E7ntaABd+ixn1XtinH5RI/hrUkOEK5lZ\n",
       "ZPgJM3N+swAinqKLX/lQLVlprG7uPTW4zI0r7js9xb0xCT/Zbjm83QtRX8N8W21gTJIgmsNweDGM\n",
       "6Ww+Mg6TOR2C/nMAi/UHfFKkby/DXrb7mudn8EH5adnta4PT9zxTnplt+A+ZBQoD45LR2iRFFJjl\n",
       "hEG5lRIoIMqRszieRl2KOj5dZuwzCiarTPGDyjORf3N0ax2WTf34eb9wAO9yiSL2WsmWgTKsunNp\n",
       "647cHDbjGcs6vxZD/viq00VdwTANOcaqM13dRC0vhMAX/xDUl/bYAD6sybVTx5B1FJ0/L/GNdPPv\n",
       "ddlB9TZsNY2QKLxbQIvB9hkJKdh6r/VM9LhJTH1/eY1rnpySTVkUaIo84/lcp8SKI/ecn5dXZNwO\n",
       "7NOl0eZVu0jUphvoOtsdv6X4n9BUH/f/oLU/o88G2X2aJrK21wnZX99hZ02bD/hVwn+Q7Rv7zESI\n",
       "e1qQg5LstpbA5fMSIIrHcXdQ6sGYKK7twlOUox8XjAIxVqrc1Z18NoT/49UOMM0mbIfmSP/wgc9S\n",
       "F7UP+VMxVQdyDoqtHkn/YPzwsTqKMegtn0ax09aa3+aEmh8bbIRJC7ehs8XAbJ298VAobfjbDWNu\n",
       "71OuUmteo0CcN2a7ZFCtOD6oBX376WrsmZlVQUynkyo6IfR7EvO/NWn1ogEYiLRQQZrerNimcNAV\n",
       "89bt7apCnXzHv+pEK3Os8Mk7P6KoEP07A34LdE839niRIvH8WHXAOkfQJFHSLhcTMampgr+25gXN\n",
       "rKPjdKl3QvwvEdv6oc9yGAkwPQxNiO7dDjErI/79R3911xvKdKThcFsNELApAyLjfKzYvmitn+T3\n",
       "dB8JUgWQDVS9RYjpxgwli271ypEtuzslCU108IjBB/phRirpKCVRMGam8hnEl+1C8mlFxVMrRQ+A\n",
       "Lscf9kcAb7kX+yXB9yzy5x4AAAGBQZ4/RRUsO/8ACYiqgAnWsR4lrbMrJ97RVyNY0vE/QyGGJV75\n",
       "Ex6udy+cpOusYAI0FVz1q2IhG+MQb4+3IX/DznDu9axojJId+qfxm8wakl/gsVa2UkD8mvWpJ+RQ\n",
       "3w4N9OgafWoMXs29x+IRC2ZfjmZpXck3if8YRAWVKJhp1UWAZGS2Nw1V5A6a//BqInrwtPdAe+cm\n",
       "bwbveDlfNePkgcMoSQ6QHbfDOfCJrGszXGWPY146u65eMx0GWTHn6NGcGGJrvyC89DITaVObZaAL\n",
       "1xX1+qi5B23eL54HrzUrDaWhpINuRKxhVdG2ZRQkcyFiRBv8kZanbNu8dCSz0EYUIJUzs7bYgj5Z\n",
       "BL33XEV6iYTSYPi98Y+8zkpKRUZg353PQEfW6LxZeiGkWeEdFMCW6u4tbD0UqI89LcqGkUxs1EkP\n",
       "u2ksKFfqlFRjA3N5pXjHUOOBp+PIXcRwQu+pMdnEHtAAvHzTRw4Iqy0eyHXiFPnPg0i12H2XjNr7\n",
       "h7UAFzTv+AAAAKcBnl50Q38ADYfcgA2oLCJ1iRHQnPSHUNC65g9k739M7gILNAZc3VKM9nCrKhkn\n",
       "dhP6LgZ/AGVM4qzbYbTRF/572hb/oxqvuKZx/TvcLpDhEXqJ2Ocov44AajUM4g2uqcJzZgUNjj9J\n",
       "HdTeaYOJFHLtYqnzpHw4hXYmWEcC6vU003oNLtsZP0VVyJhtIFbL4BPjbC6wW3lER5WQgr6ySpzl\n",
       "FsRhEWYBEwAAALUBnkBqQ38ADYfcgA2XZqJ00fe+X2dj9rRxJ1MAo5P2YKUFmv5M9rCtfgVNj655\n",
       "xOVSquHD/y6lDkncb1A8BNp+aYmoGRxRTAftmla8QY1sFfkJBmlZq6iNnx0116IlusWuxAVDLyTk\n",
       "5GjbIrMmTG36j78c1KCGtMypOTLQ+ds7Z7c+jTWhYOPmQesZ+HvwToHd5xxmhUeKwLeciqgLXqD4\n",
       "7/buke9XfzLhLB1Bs7LZdvV+gAXcAAACpUGaRUmoQWyZTAh///6plgATA/JYAP6Q+MJ4LMq8rVPj\n",
       "ERCtyZWhVrf8827XWSZWmm6ld1WQxLIqKj6iwrUXKs6d15XVlvU95IYS8owHqbLTOQ7PjBIwf+Im\n",
       "whd3bohUauH7ahu6tARWV6kTMKEvbJ45wyXG1pp6+bt/naaYifnvhcgRgk9aIusdfrEFCbbK1Q4U\n",
       "3aAdqSi/cOURMiEzab5uqEp5oNqhyoEDIGu4vlb/k6U8OljsYJhR71/RQzDDwCStQl9ifjSj9f8T\n",
       "lmo3wlMu/EDqUk9AWzwV8Ijtrn6HnJ6wiZqLOfbyvdb31Bmtmu8/8BMvY0sgkdSBP5rhZho9ts7N\n",
       "GGXVeCWCxkLkq0QygPDJ4s4jiQUbRFsRNjA63PVdrBDKWwFNOaTjvjMaMsQosNzUeGXmlFBMtFUS\n",
       "3pwXZq+2DtQX8AZYMjE5GU6oPVPj/A056WJTn+9PyoBtmaepkkyThNxeL+DBp3FZRQZSpyultAIh\n",
       "IdEZg7T2E/5X2hY4FfGBJdpdqapLLn+Znu5rIMjAAXl1DrHw/UKv21/vEiM2hNRmkvirt3qd37/j\n",
       "3RfD+ik//md8H2UEAI+SP8tMrKGEmPgSDdbWUDlhvJ5RVixrTGctddarwjiNkuFdJEuS8hK7b6BG\n",
       "rdBgKcONYWACe/hW7dISPnrc8SbjEMsRupbPZ1m1Vk83rB/ad+njNGyFIazHaNxDzviN7Wc3orXk\n",
       "3MrZT4lGt5c6GwQd8zQb5nbl/H96gFaBl5Ul+MEBcbh2swhAiCxaMMzo96dmTH/2Ft2eOi2fCcl7\n",
       "uOjOUY30Rb5DBvIFAHE3GlLQpXnwyurd//9/avj+E0Us014AB3OsC1YbdZ5StRmDjF41kwvrqIxN\n",
       "4v/kIWN5S0QTaeK731HofgrZAAABeEGeY0UVLDv/AAmJ8wAP6QXxDfutC/5qUVcFXf6VJRuNEWHy\n",
       "ViVkBJUCV4RwzYrhlaWW36DS9be/EeP5eAh7w7VicWrviNDgjniX5+jSmvK7ZNnSxgrN6XbwU3AW\n",
       "+vKZrkNMJsqe3sfwak035lMCy4Mzvv6mgTUhuK/Vvzco1XYUUyP2VkYBC6+6c8agQb1lMWqNkzui\n",
       "lE6+AlJTgeZSUCC44QOXvg76yRVRQAzHWXO/5R5O5BZ0qPrkvk4BaceINVFtsEEu5Luq2rg7MFHD\n",
       "WcopyRDIhdZ1H98iPUBtrUJjVGXdLTBEhtr7YKA5Ro2SFQsLDC/+nImhfBkKrZ1gFiAcXBwiuTMh\n",
       "tXlXVtg9QwwqWbpqDS6wYjjTE826i6n+tj+3QKyScGc/s4cHJw8Bl3zMQQQzAjl33mTy38vG9EP9\n",
       "H6PJcOdASkEBFkRelqSwil7FCLgYBKZYA5EVSf4nlzHmk0bdV2q3WO1u6Yyu3xrAOgWPurgAh4AA\n",
       "AACwAZ6CdEN/AA1YRdX0TDpSABDhoUtHDlylRlMWf4jY0yy6/gN0FY8vpKI0rP0FBkS5mOzQt4jL\n",
       "lCdYqa7nq5fibK1v6inXaALwxS7zHr/qF8hJfVi2k5YKmm4ZBjoAnoVdrms6BFQxefrJtEEW04YA\n",
       "CswJ+Dyx+UoGcwJAbswD2gKaW7jU2lkBpy/lVNzO4RkMY4pTtPsIvSu+N7NQHUgpP4NpqwF1ViB4\n",
       "AD6xmRx2AgcAAAC2AZ6EakN/AA1YRdX1PYbcAHxd5sSMY9r8JdxXt/ISvOEjK09omVZp42H3rtL8\n",
       "Dm3XnS5MOAXvNoduWEFOF7hzsuuc6JeJ8zcR9zJ+Nnq5EdmqXJwYmr8Gz6XijDfnguGSjkCl00Ni\n",
       "t6EloW36oZWt44Icn55D9bfcylwI81NTc1fzsvXPWghNuvzpuYIObX7u0X9gTuTiWzQgz0839wd7\n",
       "7XuXJU09apcJxSZpqf8q2kDAcQKAAccAAAFbQZqHSahBbJlMFEw3//6nhAAlpi+QAhTXGU0Ka7+Z\n",
       "pRB0exBex/Z5YmNfpmMDnyG5wqOEBqvPO3cyYhhyVBfuZOgv7SPXxChLVpdQrZtpLqgeTv7acONx\n",
       "C5dnae3j7/s7BrxGUo1CUBzR7JlVRn7lgB7Jov3lkIAKX7pNyUHtm3CgpJszSSZUkF4N83CFbXjN\n",
       "Xkzw+V3VlFGkiQ0RTaf9KzNAdzLxPtvnecOTGAnHAu89lL+SsILMJtYp6TlVUEejJlDNqYSEPgak\n",
       "ciDG3dWL+Mpr9xCKJuXM2IKPcqbKrvu7TGlKm+WmppXijwS636rNbRY9z4PEFoR8aG+3tgWjoYL0\n",
       "TrbXlTCDJw4SLSzgt6/O866msk/FU+lHJKpN5y6m19Z8OSntgsOgulFTsRpFg4jKYrzGV3gpbx8Q\n",
       "BScqp7ncSOlEbFQYQ9gmfkY3wpW7OV2+omIgXroWUGEAAAC9AZ6makN/AA1YRdXwch7zgBCiO0l+\n",
       "kU6qnf+GBAQh4e09ZLsVJS9aEAs9YnpOV03Ki/a9JSpWlaX79ZMt610+glfl886WixoulpsO6nd+\n",
       "AZqTCGMr7LX4ERsTtK9M/0XYFCfzdSStZGJWIovbIpn8YBrW4Pjyd/pwf4ESWL3QVFiptI7VuJ5c\n",
       "EC2gmIQZu5H0yXy9j/beJ2F6dzAkRrlaH895GCaSMIykRFxltjkZptX2AHRS5TvViAJ9rW6lAAAF\n",
       "B21vb3YAAABsbXZoZAAAAAAAAAAAAAAAAAAAA+gAAA+gAAEAAAEAAAAAAAAAAAAAAAABAAAAAAAA\n",
       "AAAAAAAAAAAAAQAAAAAAAAAAAAAAAAAAQAAAAAAAAAAAAAAAAAAAAAAAAAAAAAAAAAAAAAAAAAIA\n",
       "AAQxdHJhawAAAFx0a2hkAAAAAwAAAAAAAAAAAAAAAQAAAAAAAA+gAAAAAAAAAAAAAAAAAAAAAAAB\n",
       "AAAAAAAAAAAAAAAAAAAAAQAAAAAAAAAAAAAAAAAAQAAAAAH0AAABkAAAAAAAJGVkdHMAAAAcZWxz\n",
       "dAAAAAAAAAABAAAPoAAACAAAAQAAAAADqW1kaWEAAAAgbWRoZAAAAAAAAAAAAAAAAAAAKAAAAKAA\n",
       "VcQAAAAAAC1oZGxyAAAAAAAAAAB2aWRlAAAAAAAAAAAAAAAAVmlkZW9IYW5kbGVyAAAAA1RtaW5m\n",
       "AAAAFHZtaGQAAAABAAAAAAAAAAAAAAAkZGluZgAAABxkcmVmAAAAAAAAAAEAAAAMdXJsIAAAAAEA\n",
       "AAMUc3RibAAAALRzdHNkAAAAAAAAAAEAAACkYXZjMQAAAAAAAAABAAAAAAAAAAAAAAAAAAAAAAH0\n",
       "AZAASAAAAEgAAAAAAAAAAQAAAAAAAAAAAAAAAAAAAAAAAAAAAAAAAAAAAAAAAAAAABj//wAAADJh\n",
       "dmNDAWQAFv/hABlnZAAWrNlAgDPn4QAAAwABAAADABQPFi2WAQAGaOvjyyLAAAAAHHV1aWRraEDy\n",
       "XyRPxbo5pRvPAyPzAAAAAAAAABhzdHRzAAAAAAAAAAEAAAAoAAAEAAAAABRzdHNzAAAAAAAAAAEA\n",
       "AAABAAABSGN0dHMAAAAAAAAAJwAAAAIAAAgAAAAAAQAAFAAAAAABAAAIAAAAAAEAAAAAAAAAAQAA\n",
       "BAAAAAABAAAUAAAAAAEAAAgAAAAAAQAAAAAAAAABAAAEAAAAAAEAABQAAAAAAQAACAAAAAABAAAA\n",
       "AAAAAAEAAAQAAAAAAQAAFAAAAAABAAAIAAAAAAEAAAAAAAAAAQAABAAAAAABAAAUAAAAAAEAAAgA\n",
       "AAAAAQAAAAAAAAABAAAEAAAAAAEAABQAAAAAAQAACAAAAAABAAAAAAAAAAEAAAQAAAAAAQAAFAAA\n",
       "AAABAAAIAAAAAAEAAAAAAAAAAQAABAAAAAABAAAUAAAAAAEAAAgAAAAAAQAAAAAAAAABAAAEAAAA\n",
       "AAEAABQAAAAAAQAACAAAAAABAAAAAAAAAAEAAAQAAAAAAQAADAAAAAABAAAEAAAAABxzdHNjAAAA\n",
       "AAAAAAEAAAABAAAAKAAAAAEAAAC0c3RzegAAAAAAAAAAAAAAKAAAFukAAAXAAAAFYAAAAdMAAAEy\n",
       "AAAAzgAAA6sAAAD+AAAArwAAAL0AAAPTAAABOwAAAKEAAACjAAADpwAAAWMAAAC3AAAAxgAAA5cA\n",
       "AAE9AAAAtAAAAMYAAAN0AAABTAAAALAAAADCAAADVgAAAVUAAADRAAAAyQAAAygAAAGFAAAAqwAA\n",
       "ALkAAAKpAAABfAAAALQAAAC6AAABXwAAAMEAAAAUc3RjbwAAAAAAAAABAAAALAAAAGJ1ZHRhAAAA\n",
       "Wm1ldGEAAAAAAAAAIWhkbHIAAAAAAAAAAG1kaXJhcHBsAAAAAAAAAAAAAAAALWlsc3QAAAAlqXRv\n",
       "bwAAAB1kYXRhAAAAAQAAAABMYXZmNTYuNDAuMTAx\n",
       "\">\n",
       "  Your browser does not support the video tag.\n",
       "</video>"
      ],
      "text/plain": [
       "<matplotlib.animation.FuncAnimation at 0x7fea67076278>"
      ]
     },
     "execution_count": 62,
     "metadata": {},
     "output_type": "execute_result"
    }
   ],
   "source": [
    "def animate(i):\n",
    "    line.set_ydata(lin(a_guess,b_guess,x))\n",
    "    for i in range(40): update()\n",
    "    return line,\n",
    "\n",
    "ani = animation.FuncAnimation(fig, animate, np.arange(0, 40), interval=100)\n",
    "ani"
   ]
  },
  {
   "cell_type": "code",
   "execution_count": null,
   "metadata": {
    "collapsed": true
   },
   "outputs": [],
   "source": []
  },
  {
   "cell_type": "code",
   "execution_count": null,
   "metadata": {
    "collapsed": true
   },
   "outputs": [],
   "source": []
  }
 ],
 "metadata": {
  "kernelspec": {
   "display_name": "Python 3",
   "language": "python",
   "name": "python3"
  },
  "language_info": {
   "codemirror_mode": {
    "name": "ipython",
    "version": 3
   },
   "file_extension": ".py",
   "mimetype": "text/x-python",
   "name": "python",
   "nbconvert_exporter": "python",
   "pygments_lexer": "ipython3",
   "version": "3.6.1"
  },
  "nav_menu": {},
  "toc": {
   "navigate_menu": true,
   "number_sections": true,
   "sideBar": true,
   "threshold": 6,
   "toc_cell": true,
   "toc_section_display": "block",
   "toc_window_display": false
  },
  "widgets": {
   "state": {},
   "version": "1.1.2"
  }
 },
 "nbformat": 4,
 "nbformat_minor": 1
}
