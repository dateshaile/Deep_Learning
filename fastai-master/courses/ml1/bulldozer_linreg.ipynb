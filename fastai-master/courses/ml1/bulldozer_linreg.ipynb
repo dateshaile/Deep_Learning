{
 "cells": [
  {
   "cell_type": "markdown",
   "metadata": {},
   "source": [
    "# A Linear Model for Bulldozers"
   ]
  },
  {
   "cell_type": "code",
   "execution_count": 1,
   "metadata": {
    "collapsed": true
   },
   "outputs": [],
   "source": [
    "%load_ext autoreload\n",
    "%autoreload 2"
   ]
  },
  {
   "cell_type": "code",
   "execution_count": 2,
   "metadata": {
    "collapsed": true
   },
   "outputs": [],
   "source": [
    "%matplotlib inline\n",
    "\n",
    "from fastai.imports import *\n",
    "from fastai.structured import *\n",
    "from pandas_summary import DataFrameSummary\n",
    "from sklearn.ensemble import RandomForestRegressor, RandomForestClassifier\n",
    "from IPython.display import display\n",
    "from sklearn import metrics\n",
    "from sklearn.linear_model import LinearRegression, Ridge, RidgeCV, Lasso, LassoCV"
   ]
  },
  {
   "cell_type": "code",
   "execution_count": 3,
   "metadata": {
    "collapsed": true
   },
   "outputs": [],
   "source": [
    "set_plot_sizes(12,14,16)"
   ]
  },
  {
   "cell_type": "markdown",
   "metadata": {},
   "source": [
    "## Load in our data from last lesson"
   ]
  },
  {
   "cell_type": "code",
   "execution_count": 7,
   "metadata": {
    "collapsed": true
   },
   "outputs": [],
   "source": [
    "PATH = \"data/bulldozers/\"\n",
    "\n",
    "df_raw = pd.read_feather('tmp/raw')"
   ]
  },
  {
   "cell_type": "code",
   "execution_count": 8,
   "metadata": {},
   "outputs": [],
   "source": [
    "df, y, mapper = proc_df(df_raw, 'SalePrice', max_n_cat=10, do_scale=True)"
   ]
  },
  {
   "cell_type": "code",
   "execution_count": 9,
   "metadata": {
    "collapsed": true
   },
   "outputs": [],
   "source": [
    "def split_vals(a,n): return a[:n], a[n:]\n",
    "n_valid = 12000\n",
    "n_trn = len(df)-n_valid\n",
    "y_train, y_valid = split_vals(y, n_trn)\n",
    "raw_train, raw_valid = split_vals(df_raw, n_trn)"
   ]
  },
  {
   "cell_type": "code",
   "execution_count": 10,
   "metadata": {
    "collapsed": true
   },
   "outputs": [],
   "source": [
    "def rmse(x,y): return math.sqrt(((x-y)**2).mean())"
   ]
  },
  {
   "cell_type": "markdown",
   "metadata": {
    "collapsed": true
   },
   "source": [
    "# Linear regression for Bulldozers"
   ]
  },
  {
   "cell_type": "markdown",
   "metadata": {},
   "source": [
    "## Data scaling"
   ]
  },
  {
   "cell_type": "code",
   "execution_count": 12,
   "metadata": {
    "scrolled": false
   },
   "outputs": [
    {
     "data": {
      "text/html": [
       "<div>\n",
       "<style>\n",
       "    .dataframe thead tr:only-child th {\n",
       "        text-align: right;\n",
       "    }\n",
       "\n",
       "    .dataframe thead th {\n",
       "        text-align: left;\n",
       "    }\n",
       "\n",
       "    .dataframe tbody tr th {\n",
       "        vertical-align: top;\n",
       "    }\n",
       "</style>\n",
       "<table border=\"1\" class=\"dataframe\">\n",
       "  <thead>\n",
       "    <tr style=\"text-align: right;\">\n",
       "      <th></th>\n",
       "      <th>count</th>\n",
       "      <th>mean</th>\n",
       "      <th>std</th>\n",
       "      <th>min</th>\n",
       "      <th>25%</th>\n",
       "      <th>50%</th>\n",
       "      <th>75%</th>\n",
       "      <th>max</th>\n",
       "    </tr>\n",
       "  </thead>\n",
       "  <tbody>\n",
       "    <tr>\n",
       "      <th>SalesID</th>\n",
       "      <td>401125.0</td>\n",
       "      <td>3.147483e-15</td>\n",
       "      <td>1.000001</td>\n",
       "      <td>-0.858580</td>\n",
       "      <td>-0.551518</td>\n",
       "      <td>-0.308344</td>\n",
       "      <td>0.355322</td>\n",
       "      <td>4.855369</td>\n",
       "    </tr>\n",
       "    <tr>\n",
       "      <th>MachineID</th>\n",
       "      <td>401125.0</td>\n",
       "      <td>2.895953e-15</td>\n",
       "      <td>1.000001</td>\n",
       "      <td>-2.761738</td>\n",
       "      <td>-0.292989</td>\n",
       "      <td>0.139657</td>\n",
       "      <td>0.567277</td>\n",
       "      <td>2.876309</td>\n",
       "    </tr>\n",
       "    <tr>\n",
       "      <th>ModelID</th>\n",
       "      <td>401125.0</td>\n",
       "      <td>-1.300773e-13</td>\n",
       "      <td>1.000001</td>\n",
       "      <td>-1.102854</td>\n",
       "      <td>-0.583548</td>\n",
       "      <td>-0.367372</td>\n",
       "      <td>0.294819</td>\n",
       "      <td>4.871330</td>\n",
       "    </tr>\n",
       "    <tr>\n",
       "      <th>datasource</th>\n",
       "      <td>401125.0</td>\n",
       "      <td>-6.855920e-13</td>\n",
       "      <td>1.000001</td>\n",
       "      <td>-1.524823</td>\n",
       "      <td>-0.297450</td>\n",
       "      <td>-0.297450</td>\n",
       "      <td>0.148868</td>\n",
       "      <td>4.165727</td>\n",
       "    </tr>\n",
       "    <tr>\n",
       "      <th>auctioneerID</th>\n",
       "      <td>401125.0</td>\n",
       "      <td>-1.064768e-13</td>\n",
       "      <td>1.000001</td>\n",
       "      <td>-0.381738</td>\n",
       "      <td>-0.321407</td>\n",
       "      <td>-0.261075</td>\n",
       "      <td>-0.140412</td>\n",
       "      <td>5.591096</td>\n",
       "    </tr>\n",
       "    <tr>\n",
       "      <th>YearMade</th>\n",
       "      <td>401125.0</td>\n",
       "      <td>6.797770e-16</td>\n",
       "      <td>1.000001</td>\n",
       "      <td>-3.081446</td>\n",
       "      <td>0.294188</td>\n",
       "      <td>0.328458</td>\n",
       "      <td>0.345593</td>\n",
       "      <td>0.390145</td>\n",
       "    </tr>\n",
       "    <tr>\n",
       "      <th>MachineHoursCurrentMeter</th>\n",
       "      <td>401125.0</td>\n",
       "      <td>8.635210e-14</td>\n",
       "      <td>1.000001</td>\n",
       "      <td>-0.074396</td>\n",
       "      <td>-0.074396</td>\n",
       "      <td>-0.074396</td>\n",
       "      <td>-0.074396</td>\n",
       "      <td>150.038499</td>\n",
       "    </tr>\n",
       "    <tr>\n",
       "      <th>fiModelDesc</th>\n",
       "      <td>401125.0</td>\n",
       "      <td>1.672709e+03</td>\n",
       "      <td>1263.331163</td>\n",
       "      <td>0.000000</td>\n",
       "      <td>630.000000</td>\n",
       "      <td>1394.000000</td>\n",
       "      <td>2291.000000</td>\n",
       "      <td>4998.000000</td>\n",
       "    </tr>\n",
       "    <tr>\n",
       "      <th>fiBaseModel</th>\n",
       "      <td>401125.0</td>\n",
       "      <td>5.581654e+02</td>\n",
       "      <td>469.310266</td>\n",
       "      <td>0.000000</td>\n",
       "      <td>205.000000</td>\n",
       "      <td>405.000000</td>\n",
       "      <td>703.000000</td>\n",
       "      <td>1949.000000</td>\n",
       "    </tr>\n",
       "    <tr>\n",
       "      <th>fiSecondaryDesc</th>\n",
       "      <td>401125.0</td>\n",
       "      <td>3.568504e+01</td>\n",
       "      <td>38.228243</td>\n",
       "      <td>-1.000000</td>\n",
       "      <td>-1.000000</td>\n",
       "      <td>28.000000</td>\n",
       "      <td>56.000000</td>\n",
       "      <td>174.000000</td>\n",
       "    </tr>\n",
       "    <tr>\n",
       "      <th>fiModelSeries</th>\n",
       "      <td>401125.0</td>\n",
       "      <td>8.192686e+00</td>\n",
       "      <td>27.006859</td>\n",
       "      <td>-1.000000</td>\n",
       "      <td>-1.000000</td>\n",
       "      <td>-1.000000</td>\n",
       "      <td>-1.000000</td>\n",
       "      <td>121.000000</td>\n",
       "    </tr>\n",
       "    <tr>\n",
       "      <th>fiModelDescriptor</th>\n",
       "      <td>401125.0</td>\n",
       "      <td>1.123343e+01</td>\n",
       "      <td>29.041950</td>\n",
       "      <td>-1.000000</td>\n",
       "      <td>-1.000000</td>\n",
       "      <td>-1.000000</td>\n",
       "      <td>-1.000000</td>\n",
       "      <td>138.000000</td>\n",
       "    </tr>\n",
       "    <tr>\n",
       "      <th>fiProductClassDesc</th>\n",
       "      <td>401125.0</td>\n",
       "      <td>3.126222e+01</td>\n",
       "      <td>22.596618</td>\n",
       "      <td>0.000000</td>\n",
       "      <td>10.000000</td>\n",
       "      <td>34.000000</td>\n",
       "      <td>51.000000</td>\n",
       "      <td>73.000000</td>\n",
       "    </tr>\n",
       "    <tr>\n",
       "      <th>state</th>\n",
       "      <td>401125.0</td>\n",
       "      <td>2.250832e+01</td>\n",
       "      <td>15.732898</td>\n",
       "      <td>0.000000</td>\n",
       "      <td>8.000000</td>\n",
       "      <td>21.000000</td>\n",
       "      <td>40.000000</td>\n",
       "      <td>52.000000</td>\n",
       "    </tr>\n",
       "    <tr>\n",
       "      <th>Hydraulics</th>\n",
       "      <td>401125.0</td>\n",
       "      <td>3.253801e+00</td>\n",
       "      <td>4.809368</td>\n",
       "      <td>-1.000000</td>\n",
       "      <td>0.000000</td>\n",
       "      <td>0.000000</td>\n",
       "      <td>11.000000</td>\n",
       "      <td>11.000000</td>\n",
       "    </tr>\n",
       "    <tr>\n",
       "      <th>Tire_Size</th>\n",
       "      <td>401125.0</td>\n",
       "      <td>2.059847e+00</td>\n",
       "      <td>5.950781</td>\n",
       "      <td>-1.000000</td>\n",
       "      <td>-1.000000</td>\n",
       "      <td>-1.000000</td>\n",
       "      <td>-1.000000</td>\n",
       "      <td>16.000000</td>\n",
       "    </tr>\n",
       "    <tr>\n",
       "      <th>Undercarriage_Pad_Width</th>\n",
       "      <td>401125.0</td>\n",
       "      <td>3.311895e+00</td>\n",
       "      <td>7.741894</td>\n",
       "      <td>-1.000000</td>\n",
       "      <td>-1.000000</td>\n",
       "      <td>-1.000000</td>\n",
       "      <td>-1.000000</td>\n",
       "      <td>18.000000</td>\n",
       "    </tr>\n",
       "    <tr>\n",
       "      <th>Stick_Length</th>\n",
       "      <td>401125.0</td>\n",
       "      <td>5.535564e+00</td>\n",
       "      <td>11.923308</td>\n",
       "      <td>-1.000000</td>\n",
       "      <td>-1.000000</td>\n",
       "      <td>-1.000000</td>\n",
       "      <td>-1.000000</td>\n",
       "      <td>28.000000</td>\n",
       "    </tr>\n",
       "    <tr>\n",
       "      <th>saleYear</th>\n",
       "      <td>401125.0</td>\n",
       "      <td>-2.781277e-13</td>\n",
       "      <td>1.000001</td>\n",
       "      <td>-2.623435</td>\n",
       "      <td>-0.711783</td>\n",
       "      <td>0.330937</td>\n",
       "      <td>0.852297</td>\n",
       "      <td>1.199870</td>\n",
       "    </tr>\n",
       "    <tr>\n",
       "      <th>saleMonth</th>\n",
       "      <td>401125.0</td>\n",
       "      <td>2.443335e-14</td>\n",
       "      <td>1.000001</td>\n",
       "      <td>-1.578894</td>\n",
       "      <td>-0.994879</td>\n",
       "      <td>-0.118857</td>\n",
       "      <td>0.757165</td>\n",
       "      <td>1.633187</td>\n",
       "    </tr>\n",
       "    <tr>\n",
       "      <th>saleWeek</th>\n",
       "      <td>401125.0</td>\n",
       "      <td>-9.469515e-15</td>\n",
       "      <td>1.000001</td>\n",
       "      <td>-1.702718</td>\n",
       "      <td>-0.891252</td>\n",
       "      <td>-0.079785</td>\n",
       "      <td>0.866926</td>\n",
       "      <td>1.813637</td>\n",
       "    </tr>\n",
       "    <tr>\n",
       "      <th>saleDay</th>\n",
       "      <td>401125.0</td>\n",
       "      <td>-1.649883e-15</td>\n",
       "      <td>1.000001</td>\n",
       "      <td>-1.793028</td>\n",
       "      <td>-0.843733</td>\n",
       "      <td>-0.013101</td>\n",
       "      <td>0.817532</td>\n",
       "      <td>1.766827</td>\n",
       "    </tr>\n",
       "    <tr>\n",
       "      <th>saleElapsed</th>\n",
       "      <td>401125.0</td>\n",
       "      <td>7.192810e-14</td>\n",
       "      <td>1.000001</td>\n",
       "      <td>-2.699182</td>\n",
       "      <td>-0.663499</td>\n",
       "      <td>0.284204</td>\n",
       "      <td>0.805845</td>\n",
       "      <td>1.286592</td>\n",
       "    </tr>\n",
       "    <tr>\n",
       "      <th>auctioneerID_na</th>\n",
       "      <td>401125.0</td>\n",
       "      <td>-6.599076e-13</td>\n",
       "      <td>1.000001</td>\n",
       "      <td>-0.229895</td>\n",
       "      <td>-0.229895</td>\n",
       "      <td>-0.229895</td>\n",
       "      <td>-0.229895</td>\n",
       "      <td>4.349803</td>\n",
       "    </tr>\n",
       "    <tr>\n",
       "      <th>MachineHoursCurrentMeter_na</th>\n",
       "      <td>401125.0</td>\n",
       "      <td>-2.028438e-12</td>\n",
       "      <td>1.000001</td>\n",
       "      <td>-1.345246</td>\n",
       "      <td>-1.345246</td>\n",
       "      <td>0.743358</td>\n",
       "      <td>0.743358</td>\n",
       "      <td>0.743358</td>\n",
       "    </tr>\n",
       "    <tr>\n",
       "      <th>UsageBand_High</th>\n",
       "      <td>401125.0</td>\n",
       "      <td>3.000062e-02</td>\n",
       "      <td>0.170589</td>\n",
       "      <td>0.000000</td>\n",
       "      <td>0.000000</td>\n",
       "      <td>0.000000</td>\n",
       "      <td>0.000000</td>\n",
       "      <td>1.000000</td>\n",
       "    </tr>\n",
       "    <tr>\n",
       "      <th>UsageBand_Medium</th>\n",
       "      <td>401125.0</td>\n",
       "      <td>8.472421e-02</td>\n",
       "      <td>0.278471</td>\n",
       "      <td>0.000000</td>\n",
       "      <td>0.000000</td>\n",
       "      <td>0.000000</td>\n",
       "      <td>0.000000</td>\n",
       "      <td>1.000000</td>\n",
       "    </tr>\n",
       "    <tr>\n",
       "      <th>UsageBand_Low</th>\n",
       "      <td>401125.0</td>\n",
       "      <td>5.888439e-02</td>\n",
       "      <td>0.235408</td>\n",
       "      <td>0.000000</td>\n",
       "      <td>0.000000</td>\n",
       "      <td>0.000000</td>\n",
       "      <td>0.000000</td>\n",
       "      <td>1.000000</td>\n",
       "    </tr>\n",
       "    <tr>\n",
       "      <th>UsageBand_nan</th>\n",
       "      <td>401125.0</td>\n",
       "      <td>8.263908e-01</td>\n",
       "      <td>0.378774</td>\n",
       "      <td>0.000000</td>\n",
       "      <td>1.000000</td>\n",
       "      <td>1.000000</td>\n",
       "      <td>1.000000</td>\n",
       "      <td>1.000000</td>\n",
       "    </tr>\n",
       "    <tr>\n",
       "      <th>ProductSize_Compact</th>\n",
       "      <td>401125.0</td>\n",
       "      <td>1.517981e-02</td>\n",
       "      <td>0.122268</td>\n",
       "      <td>0.000000</td>\n",
       "      <td>0.000000</td>\n",
       "      <td>0.000000</td>\n",
       "      <td>0.000000</td>\n",
       "      <td>1.000000</td>\n",
       "    </tr>\n",
       "    <tr>\n",
       "      <th>...</th>\n",
       "      <td>...</td>\n",
       "      <td>...</td>\n",
       "      <td>...</td>\n",
       "      <td>...</td>\n",
       "      <td>...</td>\n",
       "      <td>...</td>\n",
       "      <td>...</td>\n",
       "      <td>...</td>\n",
       "    </tr>\n",
       "    <tr>\n",
       "      <th>Blade_Type_Angle</th>\n",
       "      <td>401125.0</td>\n",
       "      <td>4.143347e-03</td>\n",
       "      <td>0.064235</td>\n",
       "      <td>0.000000</td>\n",
       "      <td>0.000000</td>\n",
       "      <td>0.000000</td>\n",
       "      <td>0.000000</td>\n",
       "      <td>1.000000</td>\n",
       "    </tr>\n",
       "    <tr>\n",
       "      <th>Blade_Type_Coal</th>\n",
       "      <td>401125.0</td>\n",
       "      <td>2.742287e-05</td>\n",
       "      <td>0.005237</td>\n",
       "      <td>0.000000</td>\n",
       "      <td>0.000000</td>\n",
       "      <td>0.000000</td>\n",
       "      <td>0.000000</td>\n",
       "      <td>1.000000</td>\n",
       "    </tr>\n",
       "    <tr>\n",
       "      <th>Blade_Type_Landfill</th>\n",
       "      <td>401125.0</td>\n",
       "      <td>6.232471e-05</td>\n",
       "      <td>0.007894</td>\n",
       "      <td>0.000000</td>\n",
       "      <td>0.000000</td>\n",
       "      <td>0.000000</td>\n",
       "      <td>0.000000</td>\n",
       "      <td>1.000000</td>\n",
       "    </tr>\n",
       "    <tr>\n",
       "      <th>Blade_Type_No</th>\n",
       "      <td>401125.0</td>\n",
       "      <td>1.852290e-03</td>\n",
       "      <td>0.042998</td>\n",
       "      <td>0.000000</td>\n",
       "      <td>0.000000</td>\n",
       "      <td>0.000000</td>\n",
       "      <td>0.000000</td>\n",
       "      <td>1.000000</td>\n",
       "    </tr>\n",
       "    <tr>\n",
       "      <th>Blade_Type_None or Unspecified</th>\n",
       "      <td>401125.0</td>\n",
       "      <td>2.849735e-02</td>\n",
       "      <td>0.166389</td>\n",
       "      <td>0.000000</td>\n",
       "      <td>0.000000</td>\n",
       "      <td>0.000000</td>\n",
       "      <td>0.000000</td>\n",
       "      <td>1.000000</td>\n",
       "    </tr>\n",
       "    <tr>\n",
       "      <th>Blade_Type_PAT</th>\n",
       "      <td>401125.0</td>\n",
       "      <td>9.625927e-02</td>\n",
       "      <td>0.294947</td>\n",
       "      <td>0.000000</td>\n",
       "      <td>0.000000</td>\n",
       "      <td>0.000000</td>\n",
       "      <td>0.000000</td>\n",
       "      <td>1.000000</td>\n",
       "    </tr>\n",
       "    <tr>\n",
       "      <th>Blade_Type_Semi U</th>\n",
       "      <td>401125.0</td>\n",
       "      <td>2.148208e-02</td>\n",
       "      <td>0.144985</td>\n",
       "      <td>0.000000</td>\n",
       "      <td>0.000000</td>\n",
       "      <td>0.000000</td>\n",
       "      <td>0.000000</td>\n",
       "      <td>1.000000</td>\n",
       "    </tr>\n",
       "    <tr>\n",
       "      <th>Blade_Type_Straight</th>\n",
       "      <td>401125.0</td>\n",
       "      <td>3.321409e-02</td>\n",
       "      <td>0.179195</td>\n",
       "      <td>0.000000</td>\n",
       "      <td>0.000000</td>\n",
       "      <td>0.000000</td>\n",
       "      <td>0.000000</td>\n",
       "      <td>1.000000</td>\n",
       "    </tr>\n",
       "    <tr>\n",
       "      <th>Blade_Type_U</th>\n",
       "      <td>401125.0</td>\n",
       "      <td>4.641945e-03</td>\n",
       "      <td>0.067974</td>\n",
       "      <td>0.000000</td>\n",
       "      <td>0.000000</td>\n",
       "      <td>0.000000</td>\n",
       "      <td>0.000000</td>\n",
       "      <td>1.000000</td>\n",
       "    </tr>\n",
       "    <tr>\n",
       "      <th>Blade_Type_VPAT</th>\n",
       "      <td>401125.0</td>\n",
       "      <td>8.842630e-03</td>\n",
       "      <td>0.093619</td>\n",
       "      <td>0.000000</td>\n",
       "      <td>0.000000</td>\n",
       "      <td>0.000000</td>\n",
       "      <td>0.000000</td>\n",
       "      <td>1.000000</td>\n",
       "    </tr>\n",
       "    <tr>\n",
       "      <th>Blade_Type_nan</th>\n",
       "      <td>401125.0</td>\n",
       "      <td>8.009773e-01</td>\n",
       "      <td>0.399266</td>\n",
       "      <td>0.000000</td>\n",
       "      <td>1.000000</td>\n",
       "      <td>1.000000</td>\n",
       "      <td>1.000000</td>\n",
       "      <td>1.000000</td>\n",
       "    </tr>\n",
       "    <tr>\n",
       "      <th>Travel_Controls_1 Speed</th>\n",
       "      <td>401125.0</td>\n",
       "      <td>2.492988e-05</td>\n",
       "      <td>0.004993</td>\n",
       "      <td>0.000000</td>\n",
       "      <td>0.000000</td>\n",
       "      <td>0.000000</td>\n",
       "      <td>0.000000</td>\n",
       "      <td>1.000000</td>\n",
       "    </tr>\n",
       "    <tr>\n",
       "      <th>Travel_Controls_2 Pedal</th>\n",
       "      <td>401125.0</td>\n",
       "      <td>2.846993e-03</td>\n",
       "      <td>0.053281</td>\n",
       "      <td>0.000000</td>\n",
       "      <td>0.000000</td>\n",
       "      <td>0.000000</td>\n",
       "      <td>0.000000</td>\n",
       "      <td>1.000000</td>\n",
       "    </tr>\n",
       "    <tr>\n",
       "      <th>Travel_Controls_Differential Steer</th>\n",
       "      <td>401125.0</td>\n",
       "      <td>1.216329e-02</td>\n",
       "      <td>0.109615</td>\n",
       "      <td>0.000000</td>\n",
       "      <td>0.000000</td>\n",
       "      <td>0.000000</td>\n",
       "      <td>0.000000</td>\n",
       "      <td>1.000000</td>\n",
       "    </tr>\n",
       "    <tr>\n",
       "      <th>Travel_Controls_Finger Tip</th>\n",
       "      <td>401125.0</td>\n",
       "      <td>6.541602e-03</td>\n",
       "      <td>0.080615</td>\n",
       "      <td>0.000000</td>\n",
       "      <td>0.000000</td>\n",
       "      <td>0.000000</td>\n",
       "      <td>0.000000</td>\n",
       "      <td>1.000000</td>\n",
       "    </tr>\n",
       "    <tr>\n",
       "      <th>Travel_Controls_Lever</th>\n",
       "      <td>401125.0</td>\n",
       "      <td>2.094110e-03</td>\n",
       "      <td>0.045714</td>\n",
       "      <td>0.000000</td>\n",
       "      <td>0.000000</td>\n",
       "      <td>0.000000</td>\n",
       "      <td>0.000000</td>\n",
       "      <td>1.000000</td>\n",
       "    </tr>\n",
       "    <tr>\n",
       "      <th>Travel_Controls_None or Unspecified</th>\n",
       "      <td>401125.0</td>\n",
       "      <td>1.743172e-01</td>\n",
       "      <td>0.379383</td>\n",
       "      <td>0.000000</td>\n",
       "      <td>0.000000</td>\n",
       "      <td>0.000000</td>\n",
       "      <td>0.000000</td>\n",
       "      <td>1.000000</td>\n",
       "    </tr>\n",
       "    <tr>\n",
       "      <th>Travel_Controls_Pedal</th>\n",
       "      <td>401125.0</td>\n",
       "      <td>1.037083e-03</td>\n",
       "      <td>0.032187</td>\n",
       "      <td>0.000000</td>\n",
       "      <td>0.000000</td>\n",
       "      <td>0.000000</td>\n",
       "      <td>0.000000</td>\n",
       "      <td>1.000000</td>\n",
       "    </tr>\n",
       "    <tr>\n",
       "      <th>Travel_Controls_nan</th>\n",
       "      <td>401125.0</td>\n",
       "      <td>8.009748e-01</td>\n",
       "      <td>0.399268</td>\n",
       "      <td>0.000000</td>\n",
       "      <td>1.000000</td>\n",
       "      <td>1.000000</td>\n",
       "      <td>1.000000</td>\n",
       "      <td>1.000000</td>\n",
       "    </tr>\n",
       "    <tr>\n",
       "      <th>Differential_Type_Limited Slip</th>\n",
       "      <td>401125.0</td>\n",
       "      <td>2.817077e-03</td>\n",
       "      <td>0.053001</td>\n",
       "      <td>0.000000</td>\n",
       "      <td>0.000000</td>\n",
       "      <td>0.000000</td>\n",
       "      <td>0.000000</td>\n",
       "      <td>1.000000</td>\n",
       "    </tr>\n",
       "    <tr>\n",
       "      <th>Differential_Type_Locking</th>\n",
       "      <td>401125.0</td>\n",
       "      <td>4.985977e-06</td>\n",
       "      <td>0.002233</td>\n",
       "      <td>0.000000</td>\n",
       "      <td>0.000000</td>\n",
       "      <td>0.000000</td>\n",
       "      <td>0.000000</td>\n",
       "      <td>1.000000</td>\n",
       "    </tr>\n",
       "    <tr>\n",
       "      <th>Differential_Type_No Spin</th>\n",
       "      <td>401125.0</td>\n",
       "      <td>5.135556e-04</td>\n",
       "      <td>0.022656</td>\n",
       "      <td>0.000000</td>\n",
       "      <td>0.000000</td>\n",
       "      <td>0.000000</td>\n",
       "      <td>0.000000</td>\n",
       "      <td>1.000000</td>\n",
       "    </tr>\n",
       "    <tr>\n",
       "      <th>Differential_Type_Standard</th>\n",
       "      <td>401125.0</td>\n",
       "      <td>1.697052e-01</td>\n",
       "      <td>0.375374</td>\n",
       "      <td>0.000000</td>\n",
       "      <td>0.000000</td>\n",
       "      <td>0.000000</td>\n",
       "      <td>0.000000</td>\n",
       "      <td>1.000000</td>\n",
       "    </tr>\n",
       "    <tr>\n",
       "      <th>Differential_Type_nan</th>\n",
       "      <td>401125.0</td>\n",
       "      <td>8.269592e-01</td>\n",
       "      <td>0.378283</td>\n",
       "      <td>0.000000</td>\n",
       "      <td>1.000000</td>\n",
       "      <td>1.000000</td>\n",
       "      <td>1.000000</td>\n",
       "      <td>1.000000</td>\n",
       "    </tr>\n",
       "    <tr>\n",
       "      <th>Steering_Controls_Command Control</th>\n",
       "      <td>401125.0</td>\n",
       "      <td>1.338735e-03</td>\n",
       "      <td>0.036564</td>\n",
       "      <td>0.000000</td>\n",
       "      <td>0.000000</td>\n",
       "      <td>0.000000</td>\n",
       "      <td>0.000000</td>\n",
       "      <td>1.000000</td>\n",
       "    </tr>\n",
       "    <tr>\n",
       "      <th>Steering_Controls_Conventional</th>\n",
       "      <td>401125.0</td>\n",
       "      <td>1.712160e-01</td>\n",
       "      <td>0.376698</td>\n",
       "      <td>0.000000</td>\n",
       "      <td>0.000000</td>\n",
       "      <td>0.000000</td>\n",
       "      <td>0.000000</td>\n",
       "      <td>1.000000</td>\n",
       "    </tr>\n",
       "    <tr>\n",
       "      <th>Steering_Controls_Four Wheel Standard</th>\n",
       "      <td>401125.0</td>\n",
       "      <td>3.440324e-04</td>\n",
       "      <td>0.018545</td>\n",
       "      <td>0.000000</td>\n",
       "      <td>0.000000</td>\n",
       "      <td>0.000000</td>\n",
       "      <td>0.000000</td>\n",
       "      <td>1.000000</td>\n",
       "    </tr>\n",
       "    <tr>\n",
       "      <th>Steering_Controls_No</th>\n",
       "      <td>401125.0</td>\n",
       "      <td>2.492988e-06</td>\n",
       "      <td>0.001579</td>\n",
       "      <td>0.000000</td>\n",
       "      <td>0.000000</td>\n",
       "      <td>0.000000</td>\n",
       "      <td>0.000000</td>\n",
       "      <td>1.000000</td>\n",
       "    </tr>\n",
       "    <tr>\n",
       "      <th>Steering_Controls_Wheel</th>\n",
       "      <td>401125.0</td>\n",
       "      <td>3.490184e-05</td>\n",
       "      <td>0.005908</td>\n",
       "      <td>0.000000</td>\n",
       "      <td>0.000000</td>\n",
       "      <td>0.000000</td>\n",
       "      <td>0.000000</td>\n",
       "      <td>1.000000</td>\n",
       "    </tr>\n",
       "    <tr>\n",
       "      <th>Steering_Controls_nan</th>\n",
       "      <td>401125.0</td>\n",
       "      <td>8.270639e-01</td>\n",
       "      <td>0.378193</td>\n",
       "      <td>0.000000</td>\n",
       "      <td>1.000000</td>\n",
       "      <td>1.000000</td>\n",
       "      <td>1.000000</td>\n",
       "      <td>1.000000</td>\n",
       "    </tr>\n",
       "  </tbody>\n",
       "</table>\n",
       "<p>183 rows × 8 columns</p>\n",
       "</div>"
      ],
      "text/plain": [
       "                                          count          mean          std  \\\n",
       "SalesID                                401125.0  3.147483e-15     1.000001   \n",
       "MachineID                              401125.0  2.895953e-15     1.000001   \n",
       "ModelID                                401125.0 -1.300773e-13     1.000001   \n",
       "datasource                             401125.0 -6.855920e-13     1.000001   \n",
       "auctioneerID                           401125.0 -1.064768e-13     1.000001   \n",
       "YearMade                               401125.0  6.797770e-16     1.000001   \n",
       "MachineHoursCurrentMeter               401125.0  8.635210e-14     1.000001   \n",
       "fiModelDesc                            401125.0  1.672709e+03  1263.331163   \n",
       "fiBaseModel                            401125.0  5.581654e+02   469.310266   \n",
       "fiSecondaryDesc                        401125.0  3.568504e+01    38.228243   \n",
       "fiModelSeries                          401125.0  8.192686e+00    27.006859   \n",
       "fiModelDescriptor                      401125.0  1.123343e+01    29.041950   \n",
       "fiProductClassDesc                     401125.0  3.126222e+01    22.596618   \n",
       "state                                  401125.0  2.250832e+01    15.732898   \n",
       "Hydraulics                             401125.0  3.253801e+00     4.809368   \n",
       "Tire_Size                              401125.0  2.059847e+00     5.950781   \n",
       "Undercarriage_Pad_Width                401125.0  3.311895e+00     7.741894   \n",
       "Stick_Length                           401125.0  5.535564e+00    11.923308   \n",
       "saleYear                               401125.0 -2.781277e-13     1.000001   \n",
       "saleMonth                              401125.0  2.443335e-14     1.000001   \n",
       "saleWeek                               401125.0 -9.469515e-15     1.000001   \n",
       "saleDay                                401125.0 -1.649883e-15     1.000001   \n",
       "saleElapsed                            401125.0  7.192810e-14     1.000001   \n",
       "auctioneerID_na                        401125.0 -6.599076e-13     1.000001   \n",
       "MachineHoursCurrentMeter_na            401125.0 -2.028438e-12     1.000001   \n",
       "UsageBand_High                         401125.0  3.000062e-02     0.170589   \n",
       "UsageBand_Medium                       401125.0  8.472421e-02     0.278471   \n",
       "UsageBand_Low                          401125.0  5.888439e-02     0.235408   \n",
       "UsageBand_nan                          401125.0  8.263908e-01     0.378774   \n",
       "ProductSize_Compact                    401125.0  1.517981e-02     0.122268   \n",
       "...                                         ...           ...          ...   \n",
       "Blade_Type_Angle                       401125.0  4.143347e-03     0.064235   \n",
       "Blade_Type_Coal                        401125.0  2.742287e-05     0.005237   \n",
       "Blade_Type_Landfill                    401125.0  6.232471e-05     0.007894   \n",
       "Blade_Type_No                          401125.0  1.852290e-03     0.042998   \n",
       "Blade_Type_None or Unspecified         401125.0  2.849735e-02     0.166389   \n",
       "Blade_Type_PAT                         401125.0  9.625927e-02     0.294947   \n",
       "Blade_Type_Semi U                      401125.0  2.148208e-02     0.144985   \n",
       "Blade_Type_Straight                    401125.0  3.321409e-02     0.179195   \n",
       "Blade_Type_U                           401125.0  4.641945e-03     0.067974   \n",
       "Blade_Type_VPAT                        401125.0  8.842630e-03     0.093619   \n",
       "Blade_Type_nan                         401125.0  8.009773e-01     0.399266   \n",
       "Travel_Controls_1 Speed                401125.0  2.492988e-05     0.004993   \n",
       "Travel_Controls_2 Pedal                401125.0  2.846993e-03     0.053281   \n",
       "Travel_Controls_Differential Steer     401125.0  1.216329e-02     0.109615   \n",
       "Travel_Controls_Finger Tip             401125.0  6.541602e-03     0.080615   \n",
       "Travel_Controls_Lever                  401125.0  2.094110e-03     0.045714   \n",
       "Travel_Controls_None or Unspecified    401125.0  1.743172e-01     0.379383   \n",
       "Travel_Controls_Pedal                  401125.0  1.037083e-03     0.032187   \n",
       "Travel_Controls_nan                    401125.0  8.009748e-01     0.399268   \n",
       "Differential_Type_Limited Slip         401125.0  2.817077e-03     0.053001   \n",
       "Differential_Type_Locking              401125.0  4.985977e-06     0.002233   \n",
       "Differential_Type_No Spin              401125.0  5.135556e-04     0.022656   \n",
       "Differential_Type_Standard             401125.0  1.697052e-01     0.375374   \n",
       "Differential_Type_nan                  401125.0  8.269592e-01     0.378283   \n",
       "Steering_Controls_Command Control      401125.0  1.338735e-03     0.036564   \n",
       "Steering_Controls_Conventional         401125.0  1.712160e-01     0.376698   \n",
       "Steering_Controls_Four Wheel Standard  401125.0  3.440324e-04     0.018545   \n",
       "Steering_Controls_No                   401125.0  2.492988e-06     0.001579   \n",
       "Steering_Controls_Wheel                401125.0  3.490184e-05     0.005908   \n",
       "Steering_Controls_nan                  401125.0  8.270639e-01     0.378193   \n",
       "\n",
       "                                            min         25%          50%  \\\n",
       "SalesID                               -0.858580   -0.551518    -0.308344   \n",
       "MachineID                             -2.761738   -0.292989     0.139657   \n",
       "ModelID                               -1.102854   -0.583548    -0.367372   \n",
       "datasource                            -1.524823   -0.297450    -0.297450   \n",
       "auctioneerID                          -0.381738   -0.321407    -0.261075   \n",
       "YearMade                              -3.081446    0.294188     0.328458   \n",
       "MachineHoursCurrentMeter              -0.074396   -0.074396    -0.074396   \n",
       "fiModelDesc                            0.000000  630.000000  1394.000000   \n",
       "fiBaseModel                            0.000000  205.000000   405.000000   \n",
       "fiSecondaryDesc                       -1.000000   -1.000000    28.000000   \n",
       "fiModelSeries                         -1.000000   -1.000000    -1.000000   \n",
       "fiModelDescriptor                     -1.000000   -1.000000    -1.000000   \n",
       "fiProductClassDesc                     0.000000   10.000000    34.000000   \n",
       "state                                  0.000000    8.000000    21.000000   \n",
       "Hydraulics                            -1.000000    0.000000     0.000000   \n",
       "Tire_Size                             -1.000000   -1.000000    -1.000000   \n",
       "Undercarriage_Pad_Width               -1.000000   -1.000000    -1.000000   \n",
       "Stick_Length                          -1.000000   -1.000000    -1.000000   \n",
       "saleYear                              -2.623435   -0.711783     0.330937   \n",
       "saleMonth                             -1.578894   -0.994879    -0.118857   \n",
       "saleWeek                              -1.702718   -0.891252    -0.079785   \n",
       "saleDay                               -1.793028   -0.843733    -0.013101   \n",
       "saleElapsed                           -2.699182   -0.663499     0.284204   \n",
       "auctioneerID_na                       -0.229895   -0.229895    -0.229895   \n",
       "MachineHoursCurrentMeter_na           -1.345246   -1.345246     0.743358   \n",
       "UsageBand_High                         0.000000    0.000000     0.000000   \n",
       "UsageBand_Medium                       0.000000    0.000000     0.000000   \n",
       "UsageBand_Low                          0.000000    0.000000     0.000000   \n",
       "UsageBand_nan                          0.000000    1.000000     1.000000   \n",
       "ProductSize_Compact                    0.000000    0.000000     0.000000   \n",
       "...                                         ...         ...          ...   \n",
       "Blade_Type_Angle                       0.000000    0.000000     0.000000   \n",
       "Blade_Type_Coal                        0.000000    0.000000     0.000000   \n",
       "Blade_Type_Landfill                    0.000000    0.000000     0.000000   \n",
       "Blade_Type_No                          0.000000    0.000000     0.000000   \n",
       "Blade_Type_None or Unspecified         0.000000    0.000000     0.000000   \n",
       "Blade_Type_PAT                         0.000000    0.000000     0.000000   \n",
       "Blade_Type_Semi U                      0.000000    0.000000     0.000000   \n",
       "Blade_Type_Straight                    0.000000    0.000000     0.000000   \n",
       "Blade_Type_U                           0.000000    0.000000     0.000000   \n",
       "Blade_Type_VPAT                        0.000000    0.000000     0.000000   \n",
       "Blade_Type_nan                         0.000000    1.000000     1.000000   \n",
       "Travel_Controls_1 Speed                0.000000    0.000000     0.000000   \n",
       "Travel_Controls_2 Pedal                0.000000    0.000000     0.000000   \n",
       "Travel_Controls_Differential Steer     0.000000    0.000000     0.000000   \n",
       "Travel_Controls_Finger Tip             0.000000    0.000000     0.000000   \n",
       "Travel_Controls_Lever                  0.000000    0.000000     0.000000   \n",
       "Travel_Controls_None or Unspecified    0.000000    0.000000     0.000000   \n",
       "Travel_Controls_Pedal                  0.000000    0.000000     0.000000   \n",
       "Travel_Controls_nan                    0.000000    1.000000     1.000000   \n",
       "Differential_Type_Limited Slip         0.000000    0.000000     0.000000   \n",
       "Differential_Type_Locking              0.000000    0.000000     0.000000   \n",
       "Differential_Type_No Spin              0.000000    0.000000     0.000000   \n",
       "Differential_Type_Standard             0.000000    0.000000     0.000000   \n",
       "Differential_Type_nan                  0.000000    1.000000     1.000000   \n",
       "Steering_Controls_Command Control      0.000000    0.000000     0.000000   \n",
       "Steering_Controls_Conventional         0.000000    0.000000     0.000000   \n",
       "Steering_Controls_Four Wheel Standard  0.000000    0.000000     0.000000   \n",
       "Steering_Controls_No                   0.000000    0.000000     0.000000   \n",
       "Steering_Controls_Wheel                0.000000    0.000000     0.000000   \n",
       "Steering_Controls_nan                  0.000000    1.000000     1.000000   \n",
       "\n",
       "                                               75%          max  \n",
       "SalesID                                   0.355322     4.855369  \n",
       "MachineID                                 0.567277     2.876309  \n",
       "ModelID                                   0.294819     4.871330  \n",
       "datasource                                0.148868     4.165727  \n",
       "auctioneerID                             -0.140412     5.591096  \n",
       "YearMade                                  0.345593     0.390145  \n",
       "MachineHoursCurrentMeter                 -0.074396   150.038499  \n",
       "fiModelDesc                            2291.000000  4998.000000  \n",
       "fiBaseModel                             703.000000  1949.000000  \n",
       "fiSecondaryDesc                          56.000000   174.000000  \n",
       "fiModelSeries                            -1.000000   121.000000  \n",
       "fiModelDescriptor                        -1.000000   138.000000  \n",
       "fiProductClassDesc                       51.000000    73.000000  \n",
       "state                                    40.000000    52.000000  \n",
       "Hydraulics                               11.000000    11.000000  \n",
       "Tire_Size                                -1.000000    16.000000  \n",
       "Undercarriage_Pad_Width                  -1.000000    18.000000  \n",
       "Stick_Length                             -1.000000    28.000000  \n",
       "saleYear                                  0.852297     1.199870  \n",
       "saleMonth                                 0.757165     1.633187  \n",
       "saleWeek                                  0.866926     1.813637  \n",
       "saleDay                                   0.817532     1.766827  \n",
       "saleElapsed                               0.805845     1.286592  \n",
       "auctioneerID_na                          -0.229895     4.349803  \n",
       "MachineHoursCurrentMeter_na               0.743358     0.743358  \n",
       "UsageBand_High                            0.000000     1.000000  \n",
       "UsageBand_Medium                          0.000000     1.000000  \n",
       "UsageBand_Low                             0.000000     1.000000  \n",
       "UsageBand_nan                             1.000000     1.000000  \n",
       "ProductSize_Compact                       0.000000     1.000000  \n",
       "...                                            ...          ...  \n",
       "Blade_Type_Angle                          0.000000     1.000000  \n",
       "Blade_Type_Coal                           0.000000     1.000000  \n",
       "Blade_Type_Landfill                       0.000000     1.000000  \n",
       "Blade_Type_No                             0.000000     1.000000  \n",
       "Blade_Type_None or Unspecified            0.000000     1.000000  \n",
       "Blade_Type_PAT                            0.000000     1.000000  \n",
       "Blade_Type_Semi U                         0.000000     1.000000  \n",
       "Blade_Type_Straight                       0.000000     1.000000  \n",
       "Blade_Type_U                              0.000000     1.000000  \n",
       "Blade_Type_VPAT                           0.000000     1.000000  \n",
       "Blade_Type_nan                            1.000000     1.000000  \n",
       "Travel_Controls_1 Speed                   0.000000     1.000000  \n",
       "Travel_Controls_2 Pedal                   0.000000     1.000000  \n",
       "Travel_Controls_Differential Steer        0.000000     1.000000  \n",
       "Travel_Controls_Finger Tip                0.000000     1.000000  \n",
       "Travel_Controls_Lever                     0.000000     1.000000  \n",
       "Travel_Controls_None or Unspecified       0.000000     1.000000  \n",
       "Travel_Controls_Pedal                     0.000000     1.000000  \n",
       "Travel_Controls_nan                       1.000000     1.000000  \n",
       "Differential_Type_Limited Slip            0.000000     1.000000  \n",
       "Differential_Type_Locking                 0.000000     1.000000  \n",
       "Differential_Type_No Spin                 0.000000     1.000000  \n",
       "Differential_Type_Standard                0.000000     1.000000  \n",
       "Differential_Type_nan                     1.000000     1.000000  \n",
       "Steering_Controls_Command Control         0.000000     1.000000  \n",
       "Steering_Controls_Conventional            0.000000     1.000000  \n",
       "Steering_Controls_Four Wheel Standard     0.000000     1.000000  \n",
       "Steering_Controls_No                      0.000000     1.000000  \n",
       "Steering_Controls_Wheel                   0.000000     1.000000  \n",
       "Steering_Controls_nan                     1.000000     1.000000  \n",
       "\n",
       "[183 rows x 8 columns]"
      ]
     },
     "execution_count": 12,
     "metadata": {},
     "output_type": "execute_result"
    }
   ],
   "source": [
    "df.describe().transpose()"
   ]
  },
  {
   "cell_type": "code",
   "execution_count": 15,
   "metadata": {},
   "outputs": [],
   "source": [
    "X_train, X_valid = split_vals(df, n_trn)"
   ]
  },
  {
   "cell_type": "code",
   "execution_count": 16,
   "metadata": {},
   "outputs": [
    {
     "data": {
      "text/plain": [
       "0.30002804818761653"
      ]
     },
     "execution_count": 16,
     "metadata": {},
     "output_type": "execute_result"
    }
   ],
   "source": [
    "m = LinearRegression().fit(X_train, y_train)\n",
    "m.score(X_valid, y_valid)"
   ]
  },
  {
   "cell_type": "code",
   "execution_count": 17,
   "metadata": {},
   "outputs": [
    {
     "data": {
      "text/plain": [
       "0.60876706316140083"
      ]
     },
     "execution_count": 17,
     "metadata": {},
     "output_type": "execute_result"
    }
   ],
   "source": [
    "m.score(X_train, y_train)"
   ]
  },
  {
   "cell_type": "code",
   "execution_count": 18,
   "metadata": {
    "collapsed": true
   },
   "outputs": [],
   "source": [
    "preds = m.predict(X_valid)"
   ]
  },
  {
   "cell_type": "code",
   "execution_count": 19,
   "metadata": {},
   "outputs": [
    {
     "data": {
      "text/plain": [
       "0.6260605407515345"
      ]
     },
     "execution_count": 19,
     "metadata": {},
     "output_type": "execute_result"
    }
   ],
   "source": [
    "rmse(preds, y_valid)"
   ]
  },
  {
   "cell_type": "code",
   "execution_count": 20,
   "metadata": {},
   "outputs": [
    {
     "data": {
      "image/png": "[encoded data removed]",
      "text/plain": [
       "<matplotlib.figure.Figure at 0x7f564c4007b8>"
      ]
     },
     "metadata": {},
     "output_type": "display_data"
    }
   ],
   "source": [
    "plt.scatter(preds, y_valid, alpha=0.1, s=2);"
   ]
  },
  {
   "cell_type": "markdown",
   "metadata": {},
   "source": [
    "## Feature selection from RF"
   ]
  },
  {
   "cell_type": "code",
   "execution_count": 47,
   "metadata": {},
   "outputs": [
    {
     "data": {
      "text/plain": [
       "'YearMade, Coupler_System, ProductSize, fiProductClassDesc, Hydraulics_Flow, ModelID, saleElapsed, fiSecondaryDesc, Enclosure, fiModelDesc, SalesID, fiModelDescriptor, MachineID, Hydraulics, Drive_System, ProductGroup, saleDay, state, saleWeek'"
      ]
     },
     "execution_count": 47,
     "metadata": {},
     "output_type": "execute_result"
    }
   ],
   "source": [
    "keep_cols = list(np.load('tmp/keep_cols.npy'))\n",
    "', '.join(keep_cols)"
   ]
  },
  {
   "cell_type": "code",
   "execution_count": 48,
   "metadata": {
    "collapsed": true
   },
   "outputs": [],
   "source": [
    "df_sub = df_raw[keep_cols+['SalePrice']]"
   ]
  },
  {
   "cell_type": "code",
   "execution_count": 49,
   "metadata": {},
   "outputs": [],
   "source": [
    "df, y, mapper = proc_df(df_sub, 'SalePrice', max_n_cat=10, do_scale=True)"
   ]
  },
  {
   "cell_type": "code",
   "execution_count": 50,
   "metadata": {},
   "outputs": [],
   "source": [
    "X_train, X_valid = split_vals(df, n_trn)"
   ]
  },
  {
   "cell_type": "code",
   "execution_count": 51,
   "metadata": {},
   "outputs": [
    {
     "data": {
      "text/plain": [
       "0.64527496352952474"
      ]
     },
     "execution_count": 51,
     "metadata": {},
     "output_type": "execute_result"
    }
   ],
   "source": [
    "m = LinearRegression().fit(X_train, y_train)\n",
    "m.score(X_valid, y_valid)"
   ]
  },
  {
   "cell_type": "code",
   "execution_count": 52,
   "metadata": {},
   "outputs": [
    {
     "data": {
      "text/plain": [
       "0.4456787568129748"
      ]
     },
     "execution_count": 52,
     "metadata": {},
     "output_type": "execute_result"
    }
   ],
   "source": [
    "rmse(m.predict(X_valid), y_valid)"
   ]
  },
  {
   "cell_type": "code",
   "execution_count": 53,
   "metadata": {
    "collapsed": true
   },
   "outputs": [],
   "source": [
    "from operator import itemgetter"
   ]
  },
  {
   "cell_type": "code",
   "execution_count": 54,
   "metadata": {
    "scrolled": true
   },
   "outputs": [
    {
     "data": {
      "text/plain": [
       "[('ProductSize_Mini', -0.48393870233682168),\n",
       " ('ProductSize_Compact', -0.48388565844021314),\n",
       " ('ProductGroup_SSL', -0.4790679422655319),\n",
       " ('Drive_System_Two Wheel Drive', -0.27996939778676266),\n",
       " ('Enclosure_None or Unspecified', -0.2343602636556924),\n",
       " ('Enclosure_nan', -0.1898872119508713),\n",
       " ('Drive_System_nan', -0.17241450111081985),\n",
       " ('Enclosure_EROPS AC', -0.16470092801045877),\n",
       " ('Hydraulics_Flow_Standard', -0.1538570914605939),\n",
       " ('Enclosure_OROPS', -0.11134134868272787),\n",
       " ('MachineID', -0.083834108513150651),\n",
       " ('ProductSize_nan', -0.07885182968291625),\n",
       " ('Drive_System_Four Wheel Drive', -0.062638261741249965),\n",
       " ('Enclosure_EROPS', -0.055962482515240941),\n",
       " ('Hydraulics_Flow_nan', -0.049353907218340431),\n",
       " ('saleElapsed', -0.024346066417974401),\n",
       " ('Hydraulics_Flow_High Flow', -0.022959338611465478),\n",
       " ('saleWeek', -0.018540693085609249),\n",
       " ('Coupler_System_nan', -0.011084298593559805),\n",
       " ('Coupler_System_None or Unspecified', -0.002524241653535729),\n",
       " ('saleDay', -0.0020224632757482337),\n",
       " ('Hydraulics', -0.001320532090120171),\n",
       " ('state', -0.00037625165064487931),\n",
       " ('ProductGroup_nan', 0.0),\n",
       " ('fiModelDesc', 8.0160357994463194e-07),\n",
       " ('SalesID', 0.0023319733159176577),\n",
       " ('fiModelDescriptor', 0.0026395707078263608),\n",
       " ('fiSecondaryDesc', 0.0029750114921789431),\n",
       " ('fiProductClassDesc', 0.0034204810532537802),\n",
       " ('Coupler_System_Yes', 0.013608540247095111),\n",
       " ('ModelID', 0.021590313668173218),\n",
       " ('ProductGroup_TTT', 0.033748117920781903),\n",
       " ('ProductGroup_WL', 0.084407373837262795),\n",
       " ('ProductGroup_BL', 0.091362995361826488),\n",
       " ('YearMade', 0.10161901523036761),\n",
       " ('ProductGroup_TEX', 0.11014514983624074),\n",
       " ('ProductGroup_MG', 0.15940430530941196),\n",
       " ('Drive_System_No', 0.16114355944383157),\n",
       " ('ProductSize_Small', 0.16866376669081995),\n",
       " ('Hydraulics_Flow_None or Unspecified', 0.22617033729038771),\n",
       " ('ProductSize_Large', 0.22683986253351351),\n",
       " ('ProductSize_Medium', 0.24075856524664499),\n",
       " ('Enclosure_EROPS w AC', 0.33840239573807496),\n",
       " ('Drive_System_All Wheel Drive', 0.35387860119500525),\n",
       " ('ProductSize_Large / Medium', 0.41041399598898343),\n",
       " ('Enclosure_NO ROPS', 0.41784983907692952)]"
      ]
     },
     "execution_count": 54,
     "metadata": {},
     "output_type": "execute_result"
    }
   ],
   "source": [
    "sorted(list(zip(X_valid.columns, m.coef_)), key=itemgetter(1))"
   ]
  },
  {
   "cell_type": "code",
   "execution_count": 55,
   "metadata": {},
   "outputs": [
    {
     "data": {
      "text/plain": [
       "0.61135367991426437"
      ]
     },
     "execution_count": 55,
     "metadata": {},
     "output_type": "execute_result"
    }
   ],
   "source": [
    "m = LassoCV().fit(X_train, y_train)\n",
    "m.score(X_valid, y_valid)"
   ]
  },
  {
   "cell_type": "code",
   "execution_count": 56,
   "metadata": {},
   "outputs": [
    {
     "data": {
      "text/plain": [
       "0.46650176686783246"
      ]
     },
     "execution_count": 56,
     "metadata": {},
     "output_type": "execute_result"
    }
   ],
   "source": [
    "rmse(m.predict(X_valid), y_valid)"
   ]
  },
  {
   "cell_type": "code",
   "execution_count": 57,
   "metadata": {},
   "outputs": [
    {
     "data": {
      "text/plain": [
       "0.015888143202334483"
      ]
     },
     "execution_count": 57,
     "metadata": {},
     "output_type": "execute_result"
    }
   ],
   "source": [
    "m.alpha_"
   ]
  },
  {
   "cell_type": "code",
   "execution_count": 58,
   "metadata": {
    "scrolled": true
   },
   "outputs": [
    {
     "data": {
      "text/plain": [
       "[('ProductGroup_SSL', -0.32681235082233911),\n",
       " ('ProductSize_Mini', -0.32401456491261199),\n",
       " ('ProductSize_nan', -0.14345815840912562),\n",
       " ('Enclosure_OROPS', -0.1187234276018681),\n",
       " ('MachineID', -0.081853610727409348),\n",
       " ('saleElapsed', -0.01671063361180011),\n",
       " ('saleWeek', -0.0028843258000070962),\n",
       " ('state', -0.00040331860940888729),\n",
       " ('Hydraulics', -0.0001116937667348863),\n",
       " ('fiModelDesc', -1.04240346968906e-06),\n",
       " ('ModelID', -0.0),\n",
       " ('SalesID', -0.0),\n",
       " ('saleDay', -0.0),\n",
       " ('Coupler_System_None or Unspecified', -0.0),\n",
       " ('Coupler_System_Yes', -0.0),\n",
       " ('ProductSize_Compact', -0.0),\n",
       " ('ProductSize_Large', 0.0),\n",
       " ('ProductSize_Small', 0.0),\n",
       " ('Hydraulics_Flow_High Flow', -0.0),\n",
       " ('Hydraulics_Flow_None or Unspecified', 0.0),\n",
       " ('Hydraulics_Flow_Standard', -0.0),\n",
       " ('Hydraulics_Flow_nan', 0.0),\n",
       " ('Enclosure_EROPS', 0.0),\n",
       " ('Enclosure_EROPS AC', -0.0),\n",
       " ('Enclosure_NO ROPS', 0.0),\n",
       " ('Enclosure_None or Unspecified', -0.0),\n",
       " ('Enclosure_nan', -0.0),\n",
       " ('Drive_System_All Wheel Drive', 0.0),\n",
       " ('Drive_System_Four Wheel Drive', 0.0),\n",
       " ('Drive_System_No', 0.0),\n",
       " ('Drive_System_Two Wheel Drive', -0.0),\n",
       " ('Drive_System_nan', -0.0),\n",
       " ('ProductGroup_BL', -0.0),\n",
       " ('ProductGroup_TEX', 0.0),\n",
       " ('ProductGroup_TTT', 0.0),\n",
       " ('ProductGroup_WL', 0.0),\n",
       " ('ProductGroup_nan', 0.0),\n",
       " ('fiSecondaryDesc', 0.0029799005968164814),\n",
       " ('fiProductClassDesc', 0.0032514297883851086),\n",
       " ('fiModelDescriptor', 0.0033825903148645155),\n",
       " ('ProductSize_Medium', 0.012870773600207443),\n",
       " ('YearMade', 0.087867863364849433),\n",
       " ('ProductGroup_MG', 0.11612894595436662),\n",
       " ('ProductSize_Large / Medium', 0.15426237319511124),\n",
       " ('Coupler_System_nan', 0.17689649237356711),\n",
       " ('Enclosure_EROPS w AC', 0.37203443238168166)]"
      ]
     },
     "execution_count": 58,
     "metadata": {},
     "output_type": "execute_result"
    }
   ],
   "source": [
    "coefs = sorted(list(zip(X_valid.columns, m.coef_)), key=itemgetter(1))\n",
    "coefs"
   ]
  },
  {
   "cell_type": "code",
   "execution_count": 59,
   "metadata": {},
   "outputs": [],
   "source": [
    "skip = [n for n,c in coefs if abs(c)<0.01]"
   ]
  },
  {
   "cell_type": "code",
   "execution_count": 60,
   "metadata": {},
   "outputs": [],
   "source": [
    "df.drop(skip, axis=1, inplace=True)\n",
    "\n",
    "for n,c in df.items():\n",
    "    if '_' not in n: df[n+'2'] = df[n]**2"
   ]
  },
  {
   "cell_type": "code",
   "execution_count": 61,
   "metadata": {},
   "outputs": [],
   "source": [
    "X_train, X_valid = split_vals(df, n_trn)"
   ]
  },
  {
   "cell_type": "code",
   "execution_count": 62,
   "metadata": {},
   "outputs": [
    {
     "name": "stderr",
     "output_type": "stream",
     "text": [
      "/home/jhoward/anaconda3/lib/python3.6/site-packages/sklearn/linear_model/coordinate_descent.py:491: ConvergenceWarning: Objective did not converge. You might want to increase the number of iterations. Fitting data with very small alpha may cause precision problems.\n",
      "  ConvergenceWarning)\n",
      "/home/jhoward/anaconda3/lib/python3.6/site-packages/sklearn/linear_model/coordinate_descent.py:491: ConvergenceWarning: Objective did not converge. You might want to increase the number of iterations. Fitting data with very small alpha may cause precision problems.\n",
      "  ConvergenceWarning)\n"
     ]
    },
    {
     "data": {
      "text/plain": [
       "0.68272501663760088"
      ]
     },
     "execution_count": 62,
     "metadata": {},
     "output_type": "execute_result"
    }
   ],
   "source": [
    "m = LassoCV().fit(X_train, y_train)\n",
    "m.score(X_valid, y_valid)"
   ]
  },
  {
   "cell_type": "code",
   "execution_count": 63,
   "metadata": {},
   "outputs": [
    {
     "data": {
      "text/plain": [
       "0.42149645662276897"
      ]
     },
     "execution_count": 63,
     "metadata": {},
     "output_type": "execute_result"
    }
   ],
   "source": [
    "rmse(m.predict(X_valid), y_valid)"
   ]
  },
  {
   "cell_type": "code",
   "execution_count": 64,
   "metadata": {},
   "outputs": [
    {
     "data": {
      "text/plain": [
       "0.00048351312659691468"
      ]
     },
     "execution_count": 64,
     "metadata": {},
     "output_type": "execute_result"
    }
   ],
   "source": [
    "m.alpha_"
   ]
  },
  {
   "cell_type": "code",
   "execution_count": 65,
   "metadata": {
    "scrolled": false
   },
   "outputs": [
    {
     "data": {
      "text/plain": [
       "[('ProductSize_Mini', -0.73599008702672497),\n",
       " ('ProductGroup_SSL', -0.29300124873070738),\n",
       " ('ProductSize_nan', -0.28476720658869581),\n",
       " ('saleElapsed', -0.086665603838317354),\n",
       " ('MachineID', -0.073138270533239347),\n",
       " ('Enclosure_OROPS', -0.04508205078331172),\n",
       " ('saleElapsed2', -0.015019532283192851),\n",
       " ('MachineID2', 0.012036721024874904),\n",
       " ('ProductSize_Large / Medium', 0.18603699103653956),\n",
       " ('ProductSize_Medium', 0.23104117808218841),\n",
       " ('Enclosure_EROPS w AC', 0.36901650751059906),\n",
       " ('Coupler_System_nan', 0.47050786865593658),\n",
       " ('ProductGroup_MG', 0.56237710110892425),\n",
       " ('YearMade2', 1.465484650199421),\n",
       " ('YearMade', 4.1350884628471336)]"
      ]
     },
     "execution_count": 65,
     "metadata": {},
     "output_type": "execute_result"
    }
   ],
   "source": [
    "coefs = sorted(list(zip(X_valid.columns, m.coef_)), key=itemgetter(1))\n",
    "coefs"
   ]
  },
  {
   "cell_type": "code",
   "execution_count": null,
   "metadata": {
    "collapsed": true
   },
   "outputs": [],
   "source": []
  }
 ],
 "metadata": {
  "kernelspec": {
   "display_name": "Python 3",
   "language": "python",
   "name": "python3"
  },
  "language_info": {
   "codemirror_mode": {
    "name": "ipython",
    "version": 3
   },
   "file_extension": ".py",
   "mimetype": "text/x-python",
   "name": "python",
   "nbconvert_exporter": "python",
   "pygments_lexer": "ipython3",
   "version": "3.6.2"
  },
  "toc": {
   "colors": {
    "hover_highlight": "#DAA520",
    "navigate_num": "#000000",
    "navigate_text": "#333333",
    "running_highlight": "#FF0000",
    "selected_highlight": "#FFD700",
    "sidebar_border": "#EEEEEE",
    "wrapper_background": "#FFFFFF"
   },
   "moveMenuLeft": true,
   "nav_menu": {
    "height": "512px",
    "width": "252px"
   },
   "navigate_menu": true,
   "number_sections": true,
   "sideBar": true,
   "threshold": 4,
   "toc_cell": false,
   "toc_section_display": "block",
   "toc_window_display": false,
   "widenNotebook": false
  }
 },
 "nbformat": 4,
 "nbformat_minor": 2
}
